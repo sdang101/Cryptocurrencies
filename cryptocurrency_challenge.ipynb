{
 "cells": [
  {
   "cell_type": "code",
   "execution_count": 102,
   "metadata": {},
   "outputs": [],
   "source": [
    "import pandas as pd \n",
    "from sklearn.preprocessing import StandardScaler\n",
    "from sklearn.decomposition import PCA\n",
    "from sklearn.cluster import AgglomerativeClustering, KMeans\n",
    "import hvplot.pandas\n",
    "import plotly.express as px"
   ]
  },
  {
   "cell_type": "code",
   "execution_count": 103,
   "metadata": {},
   "outputs": [
    {
     "data": {
      "text/html": [
       "<div>\n",
       "<style scoped>\n",
       "    .dataframe tbody tr th:only-of-type {\n",
       "        vertical-align: middle;\n",
       "    }\n",
       "\n",
       "    .dataframe tbody tr th {\n",
       "        vertical-align: top;\n",
       "    }\n",
       "\n",
       "    .dataframe thead th {\n",
       "        text-align: right;\n",
       "    }\n",
       "</style>\n",
       "<table border=\"1\" class=\"dataframe\">\n",
       "  <thead>\n",
       "    <tr style=\"text-align: right;\">\n",
       "      <th></th>\n",
       "      <th>Unnamed: 0</th>\n",
       "      <th>CoinName</th>\n",
       "      <th>Algorithm</th>\n",
       "      <th>IsTrading</th>\n",
       "      <th>ProofType</th>\n",
       "      <th>TotalCoinsMined</th>\n",
       "      <th>TotalCoinSupply</th>\n",
       "    </tr>\n",
       "  </thead>\n",
       "  <tbody>\n",
       "    <tr>\n",
       "      <th>0</th>\n",
       "      <td>42</td>\n",
       "      <td>42 Coin</td>\n",
       "      <td>Scrypt</td>\n",
       "      <td>True</td>\n",
       "      <td>PoW/PoS</td>\n",
       "      <td>4.199995e+01</td>\n",
       "      <td>42</td>\n",
       "    </tr>\n",
       "    <tr>\n",
       "      <th>1</th>\n",
       "      <td>365</td>\n",
       "      <td>365Coin</td>\n",
       "      <td>X11</td>\n",
       "      <td>True</td>\n",
       "      <td>PoW/PoS</td>\n",
       "      <td>NaN</td>\n",
       "      <td>2300000000</td>\n",
       "    </tr>\n",
       "    <tr>\n",
       "      <th>2</th>\n",
       "      <td>404</td>\n",
       "      <td>404Coin</td>\n",
       "      <td>Scrypt</td>\n",
       "      <td>True</td>\n",
       "      <td>PoW/PoS</td>\n",
       "      <td>1.055185e+09</td>\n",
       "      <td>532000000</td>\n",
       "    </tr>\n",
       "    <tr>\n",
       "      <th>3</th>\n",
       "      <td>611</td>\n",
       "      <td>SixEleven</td>\n",
       "      <td>SHA-256</td>\n",
       "      <td>True</td>\n",
       "      <td>PoW</td>\n",
       "      <td>NaN</td>\n",
       "      <td>611000</td>\n",
       "    </tr>\n",
       "    <tr>\n",
       "      <th>4</th>\n",
       "      <td>808</td>\n",
       "      <td>808</td>\n",
       "      <td>SHA-256</td>\n",
       "      <td>True</td>\n",
       "      <td>PoW/PoS</td>\n",
       "      <td>0.000000e+00</td>\n",
       "      <td>0</td>\n",
       "    </tr>\n",
       "  </tbody>\n",
       "</table>\n",
       "</div>"
      ],
      "text/plain": [
       "  Unnamed: 0   CoinName Algorithm  IsTrading ProofType  TotalCoinsMined  \\\n",
       "0         42    42 Coin    Scrypt       True   PoW/PoS     4.199995e+01   \n",
       "1        365    365Coin       X11       True   PoW/PoS              NaN   \n",
       "2        404    404Coin    Scrypt       True   PoW/PoS     1.055185e+09   \n",
       "3        611  SixEleven   SHA-256       True       PoW              NaN   \n",
       "4        808        808   SHA-256       True   PoW/PoS     0.000000e+00   \n",
       "\n",
       "  TotalCoinSupply  \n",
       "0              42  \n",
       "1      2300000000  \n",
       "2       532000000  \n",
       "3          611000  \n",
       "4               0  "
      ]
     },
     "execution_count": 103,
     "metadata": {},
     "output_type": "execute_result"
    }
   ],
   "source": [
    "# Load data\n",
    "file = \"Resources/crypto_data.csv\"\n",
    "crypto_df = pd.read_csv(file)\n",
    "crypto_df.head()"
   ]
  },
  {
   "cell_type": "markdown",
   "metadata": {},
   "source": [
    "# Data Preprocessing"
   ]
  },
  {
   "cell_type": "code",
   "execution_count": 104,
   "metadata": {},
   "outputs": [
    {
     "data": {
      "text/html": [
       "<div>\n",
       "<style scoped>\n",
       "    .dataframe tbody tr th:only-of-type {\n",
       "        vertical-align: middle;\n",
       "    }\n",
       "\n",
       "    .dataframe tbody tr th {\n",
       "        vertical-align: top;\n",
       "    }\n",
       "\n",
       "    .dataframe thead th {\n",
       "        text-align: right;\n",
       "    }\n",
       "</style>\n",
       "<table border=\"1\" class=\"dataframe\">\n",
       "  <thead>\n",
       "    <tr style=\"text-align: right;\">\n",
       "      <th></th>\n",
       "      <th>Unnamed: 0</th>\n",
       "      <th>CoinName</th>\n",
       "      <th>Algorithm</th>\n",
       "      <th>IsTrading</th>\n",
       "      <th>ProofType</th>\n",
       "      <th>TotalCoinsMined</th>\n",
       "      <th>TotalCoinSupply</th>\n",
       "    </tr>\n",
       "  </thead>\n",
       "  <tbody>\n",
       "    <tr>\n",
       "      <th>0</th>\n",
       "      <td>42</td>\n",
       "      <td>42 Coin</td>\n",
       "      <td>Scrypt</td>\n",
       "      <td>True</td>\n",
       "      <td>PoW/PoS</td>\n",
       "      <td>4.199995e+01</td>\n",
       "      <td>42</td>\n",
       "    </tr>\n",
       "    <tr>\n",
       "      <th>1</th>\n",
       "      <td>365</td>\n",
       "      <td>365Coin</td>\n",
       "      <td>X11</td>\n",
       "      <td>True</td>\n",
       "      <td>PoW/PoS</td>\n",
       "      <td>NaN</td>\n",
       "      <td>2300000000</td>\n",
       "    </tr>\n",
       "    <tr>\n",
       "      <th>2</th>\n",
       "      <td>404</td>\n",
       "      <td>404Coin</td>\n",
       "      <td>Scrypt</td>\n",
       "      <td>True</td>\n",
       "      <td>PoW/PoS</td>\n",
       "      <td>1.055185e+09</td>\n",
       "      <td>532000000</td>\n",
       "    </tr>\n",
       "    <tr>\n",
       "      <th>3</th>\n",
       "      <td>611</td>\n",
       "      <td>SixEleven</td>\n",
       "      <td>SHA-256</td>\n",
       "      <td>True</td>\n",
       "      <td>PoW</td>\n",
       "      <td>NaN</td>\n",
       "      <td>611000</td>\n",
       "    </tr>\n",
       "    <tr>\n",
       "      <th>4</th>\n",
       "      <td>808</td>\n",
       "      <td>808</td>\n",
       "      <td>SHA-256</td>\n",
       "      <td>True</td>\n",
       "      <td>PoW/PoS</td>\n",
       "      <td>0.000000e+00</td>\n",
       "      <td>0</td>\n",
       "    </tr>\n",
       "  </tbody>\n",
       "</table>\n",
       "</div>"
      ],
      "text/plain": [
       "  Unnamed: 0   CoinName Algorithm  IsTrading ProofType  TotalCoinsMined  \\\n",
       "0         42    42 Coin    Scrypt       True   PoW/PoS     4.199995e+01   \n",
       "1        365    365Coin       X11       True   PoW/PoS              NaN   \n",
       "2        404    404Coin    Scrypt       True   PoW/PoS     1.055185e+09   \n",
       "3        611  SixEleven   SHA-256       True       PoW              NaN   \n",
       "4        808        808   SHA-256       True   PoW/PoS     0.000000e+00   \n",
       "\n",
       "  TotalCoinSupply  \n",
       "0              42  \n",
       "1      2300000000  \n",
       "2       532000000  \n",
       "3          611000  \n",
       "4               0  "
      ]
     },
     "execution_count": 104,
     "metadata": {},
     "output_type": "execute_result"
    }
   ],
   "source": [
    "# Remove all cryptocurrencies that aren't trading\n",
    "crypto_df = crypto_df[crypto_df[\"IsTrading\"] == True]\n",
    "crypto_df.head()"
   ]
  },
  {
   "cell_type": "code",
   "execution_count": 105,
   "metadata": {},
   "outputs": [
    {
     "data": {
      "text/plain": [
       "0"
      ]
     },
     "execution_count": 105,
     "metadata": {},
     "output_type": "execute_result"
    }
   ],
   "source": [
    "# Remove all cryptocurrencies that don’t have an algorithm defined\n",
    "crypto_df['Algorithm'].isnull().sum()"
   ]
  },
  {
   "cell_type": "code",
   "execution_count": 106,
   "metadata": {},
   "outputs": [],
   "source": [
    "# Remove the IsTrading column\n",
    "crypto_df = crypto_df.drop(\"IsTrading\", axis=1)"
   ]
  },
  {
   "cell_type": "code",
   "execution_count": 107,
   "metadata": {},
   "outputs": [
    {
     "data": {
      "text/plain": [
       "Unnamed: 0           0\n",
       "CoinName             0\n",
       "Algorithm            0\n",
       "ProofType            0\n",
       "TotalCoinsMined    459\n",
       "TotalCoinSupply      0\n",
       "dtype: int64"
      ]
     },
     "execution_count": 107,
     "metadata": {},
     "output_type": "execute_result"
    }
   ],
   "source": [
    "# Remove all cryptocurrencies with at least one null value\n",
    "crypto_df.isnull().sum()"
   ]
  },
  {
   "cell_type": "code",
   "execution_count": 108,
   "metadata": {},
   "outputs": [
    {
     "data": {
      "text/html": [
       "<div>\n",
       "<style scoped>\n",
       "    .dataframe tbody tr th:only-of-type {\n",
       "        vertical-align: middle;\n",
       "    }\n",
       "\n",
       "    .dataframe tbody tr th {\n",
       "        vertical-align: top;\n",
       "    }\n",
       "\n",
       "    .dataframe thead th {\n",
       "        text-align: right;\n",
       "    }\n",
       "</style>\n",
       "<table border=\"1\" class=\"dataframe\">\n",
       "  <thead>\n",
       "    <tr style=\"text-align: right;\">\n",
       "      <th></th>\n",
       "      <th>Unnamed: 0</th>\n",
       "      <th>CoinName</th>\n",
       "      <th>Algorithm</th>\n",
       "      <th>ProofType</th>\n",
       "      <th>TotalCoinsMined</th>\n",
       "      <th>TotalCoinSupply</th>\n",
       "    </tr>\n",
       "  </thead>\n",
       "  <tbody>\n",
       "    <tr>\n",
       "      <th>0</th>\n",
       "      <td>42</td>\n",
       "      <td>42 Coin</td>\n",
       "      <td>Scrypt</td>\n",
       "      <td>PoW/PoS</td>\n",
       "      <td>4.199995e+01</td>\n",
       "      <td>42</td>\n",
       "    </tr>\n",
       "    <tr>\n",
       "      <th>2</th>\n",
       "      <td>404</td>\n",
       "      <td>404Coin</td>\n",
       "      <td>Scrypt</td>\n",
       "      <td>PoW/PoS</td>\n",
       "      <td>1.055185e+09</td>\n",
       "      <td>532000000</td>\n",
       "    </tr>\n",
       "    <tr>\n",
       "      <th>4</th>\n",
       "      <td>808</td>\n",
       "      <td>808</td>\n",
       "      <td>SHA-256</td>\n",
       "      <td>PoW/PoS</td>\n",
       "      <td>0.000000e+00</td>\n",
       "      <td>0</td>\n",
       "    </tr>\n",
       "    <tr>\n",
       "      <th>5</th>\n",
       "      <td>1337</td>\n",
       "      <td>EliteCoin</td>\n",
       "      <td>X13</td>\n",
       "      <td>PoW/PoS</td>\n",
       "      <td>2.927942e+10</td>\n",
       "      <td>314159265359</td>\n",
       "    </tr>\n",
       "    <tr>\n",
       "      <th>7</th>\n",
       "      <td>BTC</td>\n",
       "      <td>Bitcoin</td>\n",
       "      <td>SHA-256</td>\n",
       "      <td>PoW</td>\n",
       "      <td>1.792718e+07</td>\n",
       "      <td>21000000</td>\n",
       "    </tr>\n",
       "  </tbody>\n",
       "</table>\n",
       "</div>"
      ],
      "text/plain": [
       "  Unnamed: 0   CoinName Algorithm ProofType  TotalCoinsMined TotalCoinSupply\n",
       "0         42    42 Coin    Scrypt   PoW/PoS     4.199995e+01              42\n",
       "2        404    404Coin    Scrypt   PoW/PoS     1.055185e+09       532000000\n",
       "4        808        808   SHA-256   PoW/PoS     0.000000e+00               0\n",
       "5       1337  EliteCoin       X13   PoW/PoS     2.927942e+10    314159265359\n",
       "7        BTC    Bitcoin   SHA-256       PoW     1.792718e+07        21000000"
      ]
     },
     "execution_count": 108,
     "metadata": {},
     "output_type": "execute_result"
    }
   ],
   "source": [
    "# Remove all cryptocurrencies without coins mined\n",
    "crypto_df = crypto_df.dropna()\n",
    "crypto_df.head()"
   ]
  },
  {
   "cell_type": "code",
   "execution_count": 68,
   "metadata": {},
   "outputs": [
    {
     "data": {
      "text/html": [
       "<div>\n",
       "<style scoped>\n",
       "    .dataframe tbody tr th:only-of-type {\n",
       "        vertical-align: middle;\n",
       "    }\n",
       "\n",
       "    .dataframe tbody tr th {\n",
       "        vertical-align: top;\n",
       "    }\n",
       "\n",
       "    .dataframe thead th {\n",
       "        text-align: right;\n",
       "    }\n",
       "</style>\n",
       "<table border=\"1\" class=\"dataframe\">\n",
       "  <thead>\n",
       "    <tr style=\"text-align: right;\">\n",
       "      <th></th>\n",
       "      <th>CoinName</th>\n",
       "    </tr>\n",
       "    <tr>\n",
       "      <th>Unnamed: 0</th>\n",
       "      <th></th>\n",
       "    </tr>\n",
       "  </thead>\n",
       "  <tbody>\n",
       "    <tr>\n",
       "      <th>42</th>\n",
       "      <td>42 Coin</td>\n",
       "    </tr>\n",
       "    <tr>\n",
       "      <th>404</th>\n",
       "      <td>404Coin</td>\n",
       "    </tr>\n",
       "    <tr>\n",
       "      <th>808</th>\n",
       "      <td>808</td>\n",
       "    </tr>\n",
       "    <tr>\n",
       "      <th>1337</th>\n",
       "      <td>EliteCoin</td>\n",
       "    </tr>\n",
       "    <tr>\n",
       "      <th>BTC</th>\n",
       "      <td>Bitcoin</td>\n",
       "    </tr>\n",
       "  </tbody>\n",
       "</table>\n",
       "</div>"
      ],
      "text/plain": [
       "             CoinName\n",
       "Unnamed: 0           \n",
       "42            42 Coin\n",
       "404           404Coin\n",
       "808               808\n",
       "1337        EliteCoin\n",
       "BTC           Bitcoin"
      ]
     },
     "execution_count": 68,
     "metadata": {},
     "output_type": "execute_result"
    }
   ],
   "source": [
    "# Store the names of all cryptocurrencies on a DataFramed named coins_name,\n",
    "# and use the crypto_df.index as the index for this new DataFrame\n",
    "coins_name = pd.DataFrame(crypto_df[[\"Unnamed: 0\", \"CoinName\"]])\n",
    "coins_name.set_index(\"Unnamed: 0\", drop = True, inplace = True)\n",
    "coins_name.head()"
   ]
  },
  {
   "cell_type": "code",
   "execution_count": 69,
   "metadata": {},
   "outputs": [
    {
     "data": {
      "text/html": [
       "<div>\n",
       "<style scoped>\n",
       "    .dataframe tbody tr th:only-of-type {\n",
       "        vertical-align: middle;\n",
       "    }\n",
       "\n",
       "    .dataframe tbody tr th {\n",
       "        vertical-align: top;\n",
       "    }\n",
       "\n",
       "    .dataframe thead th {\n",
       "        text-align: right;\n",
       "    }\n",
       "</style>\n",
       "<table border=\"1\" class=\"dataframe\">\n",
       "  <thead>\n",
       "    <tr style=\"text-align: right;\">\n",
       "      <th></th>\n",
       "      <th>Unnamed: 0</th>\n",
       "      <th>Algorithm</th>\n",
       "      <th>ProofType</th>\n",
       "      <th>TotalCoinsMined</th>\n",
       "      <th>TotalCoinSupply</th>\n",
       "    </tr>\n",
       "  </thead>\n",
       "  <tbody>\n",
       "    <tr>\n",
       "      <th>0</th>\n",
       "      <td>42</td>\n",
       "      <td>Scrypt</td>\n",
       "      <td>PoW/PoS</td>\n",
       "      <td>4.199995e+01</td>\n",
       "      <td>42</td>\n",
       "    </tr>\n",
       "    <tr>\n",
       "      <th>2</th>\n",
       "      <td>404</td>\n",
       "      <td>Scrypt</td>\n",
       "      <td>PoW/PoS</td>\n",
       "      <td>1.055185e+09</td>\n",
       "      <td>532000000</td>\n",
       "    </tr>\n",
       "    <tr>\n",
       "      <th>4</th>\n",
       "      <td>808</td>\n",
       "      <td>SHA-256</td>\n",
       "      <td>PoW/PoS</td>\n",
       "      <td>0.000000e+00</td>\n",
       "      <td>0</td>\n",
       "    </tr>\n",
       "    <tr>\n",
       "      <th>5</th>\n",
       "      <td>1337</td>\n",
       "      <td>X13</td>\n",
       "      <td>PoW/PoS</td>\n",
       "      <td>2.927942e+10</td>\n",
       "      <td>314159265359</td>\n",
       "    </tr>\n",
       "    <tr>\n",
       "      <th>7</th>\n",
       "      <td>BTC</td>\n",
       "      <td>SHA-256</td>\n",
       "      <td>PoW</td>\n",
       "      <td>1.792718e+07</td>\n",
       "      <td>21000000</td>\n",
       "    </tr>\n",
       "  </tbody>\n",
       "</table>\n",
       "</div>"
      ],
      "text/plain": [
       "  Unnamed: 0 Algorithm ProofType  TotalCoinsMined TotalCoinSupply\n",
       "0         42    Scrypt   PoW/PoS     4.199995e+01              42\n",
       "2        404    Scrypt   PoW/PoS     1.055185e+09       532000000\n",
       "4        808   SHA-256   PoW/PoS     0.000000e+00               0\n",
       "5       1337       X13   PoW/PoS     2.927942e+10    314159265359\n",
       "7        BTC   SHA-256       PoW     1.792718e+07        21000000"
      ]
     },
     "execution_count": 69,
     "metadata": {},
     "output_type": "execute_result"
    }
   ],
   "source": [
    "# Remove the CoinName column\n",
    "cleaned_crypto_df = crypto_df.drop(columns = [\"CoinName\"])\n",
    "cleaned_crypto_df.head()"
   ]
  },
  {
   "cell_type": "code",
   "execution_count": 70,
   "metadata": {},
   "outputs": [
    {
     "data": {
      "text/plain": [
       "Unnamed: 0          object\n",
       "Algorithm           object\n",
       "ProofType           object\n",
       "TotalCoinsMined    float64\n",
       "TotalCoinSupply     object\n",
       "dtype: object"
      ]
     },
     "execution_count": 70,
     "metadata": {},
     "output_type": "execute_result"
    }
   ],
   "source": [
    "cleaned_crypto_df.dtypes"
   ]
  },
  {
   "cell_type": "code",
   "execution_count": 71,
   "metadata": {},
   "outputs": [],
   "source": [
    "cleaned_crypto_df[\"TotalCoinSupply\"] = cleaned_crypto_df[\"TotalCoinSupply\"].astype('float')"
   ]
  },
  {
   "cell_type": "code",
   "execution_count": 72,
   "metadata": {},
   "outputs": [],
   "source": [
    "# Create dummies variables for all of the text features, and store the \n",
    "# resulting data on a DataFrame\n",
    "X = pd.get_dummies(cleaned_crypto_df[[\"Algorithm\",\"ProofType\"]])"
   ]
  },
  {
   "cell_type": "code",
   "execution_count": 73,
   "metadata": {},
   "outputs": [],
   "source": [
    "# Standardize all of the data from the X DataFrame\n",
    "scale_model = StandardScaler()\n",
    "scaled_X = scale_model.fit_transform(X)"
   ]
  },
  {
   "cell_type": "markdown",
   "metadata": {},
   "source": [
    "# Reducing Data Dimensions Using PCA"
   ]
  },
  {
   "cell_type": "code",
   "execution_count": 85,
   "metadata": {},
   "outputs": [
    {
     "name": "stdout",
     "output_type": "stream",
     "text": [
      "PCA ratio: [0.01956545 0.01875421 0.01871681]\n"
     ]
    }
   ],
   "source": [
    "# Reducing X DataFrame Dimensions Using PCA to 3 features\n",
    "pca = PCA(n_components=3, random_state = 1)\n",
    "X_pca = pca.fit_transform(scaled_X)\n",
    "print(f'PCA ratio: {pca.explained_variance_ratio_}')"
   ]
  },
  {
   "cell_type": "code",
   "execution_count": 75,
   "metadata": {},
   "outputs": [
    {
     "data": {
      "text/plain": [
       "array([2.09656331, 2.00963455, 2.00562694])"
      ]
     },
     "execution_count": 75,
     "metadata": {},
     "output_type": "execute_result"
    }
   ],
   "source": [
    "pca.explained_variance_"
   ]
  },
  {
   "cell_type": "code",
   "execution_count": 89,
   "metadata": {},
   "outputs": [
    {
     "data": {
      "text/html": [
       "<div>\n",
       "<style scoped>\n",
       "    .dataframe tbody tr th:only-of-type {\n",
       "        vertical-align: middle;\n",
       "    }\n",
       "\n",
       "    .dataframe tbody tr th {\n",
       "        vertical-align: top;\n",
       "    }\n",
       "\n",
       "    .dataframe thead th {\n",
       "        text-align: right;\n",
       "    }\n",
       "</style>\n",
       "<table border=\"1\" class=\"dataframe\">\n",
       "  <thead>\n",
       "    <tr style=\"text-align: right;\">\n",
       "      <th></th>\n",
       "      <th>PC 1</th>\n",
       "      <th>PC 2</th>\n",
       "      <th>PC 3</th>\n",
       "    </tr>\n",
       "    <tr>\n",
       "      <th>Unnamed: 0</th>\n",
       "      <th></th>\n",
       "      <th></th>\n",
       "      <th></th>\n",
       "    </tr>\n",
       "  </thead>\n",
       "  <tbody>\n",
       "    <tr>\n",
       "      <th>42</th>\n",
       "      <td>-1.303547</td>\n",
       "      <td>-0.406755</td>\n",
       "      <td>-0.003655</td>\n",
       "    </tr>\n",
       "    <tr>\n",
       "      <th>404</th>\n",
       "      <td>-1.303547</td>\n",
       "      <td>-0.406755</td>\n",
       "      <td>-0.003655</td>\n",
       "    </tr>\n",
       "    <tr>\n",
       "      <th>808</th>\n",
       "      <td>-0.776747</td>\n",
       "      <td>-0.249798</td>\n",
       "      <td>0.001913</td>\n",
       "    </tr>\n",
       "    <tr>\n",
       "      <th>1337</th>\n",
       "      <td>-1.928004</td>\n",
       "      <td>-0.462700</td>\n",
       "      <td>0.001467</td>\n",
       "    </tr>\n",
       "    <tr>\n",
       "      <th>BTC</th>\n",
       "      <td>1.507500</td>\n",
       "      <td>0.115764</td>\n",
       "      <td>0.007744</td>\n",
       "    </tr>\n",
       "    <tr>\n",
       "      <th>ETH</th>\n",
       "      <td>2.152076</td>\n",
       "      <td>0.189653</td>\n",
       "      <td>-0.005396</td>\n",
       "    </tr>\n",
       "    <tr>\n",
       "      <th>LTC</th>\n",
       "      <td>0.980701</td>\n",
       "      <td>-0.041193</td>\n",
       "      <td>0.002177</td>\n",
       "    </tr>\n",
       "    <tr>\n",
       "      <th>DASH</th>\n",
       "      <td>-1.353609</td>\n",
       "      <td>-0.384371</td>\n",
       "      <td>-0.006037</td>\n",
       "    </tr>\n",
       "    <tr>\n",
       "      <th>XMR</th>\n",
       "      <td>2.147390</td>\n",
       "      <td>0.287987</td>\n",
       "      <td>0.020760</td>\n",
       "    </tr>\n",
       "    <tr>\n",
       "      <th>ETC</th>\n",
       "      <td>2.152076</td>\n",
       "      <td>0.189653</td>\n",
       "      <td>-0.005396</td>\n",
       "    </tr>\n",
       "  </tbody>\n",
       "</table>\n",
       "</div>"
      ],
      "text/plain": [
       "                PC 1      PC 2      PC 3\n",
       "Unnamed: 0                              \n",
       "42         -1.303547 -0.406755 -0.003655\n",
       "404        -1.303547 -0.406755 -0.003655\n",
       "808        -0.776747 -0.249798  0.001913\n",
       "1337       -1.928004 -0.462700  0.001467\n",
       "BTC         1.507500  0.115764  0.007744\n",
       "ETH         2.152076  0.189653 -0.005396\n",
       "LTC         0.980701 -0.041193  0.002177\n",
       "DASH       -1.353609 -0.384371 -0.006037\n",
       "XMR         2.147390  0.287987  0.020760\n",
       "ETC         2.152076  0.189653 -0.005396"
      ]
     },
     "execution_count": 89,
     "metadata": {},
     "output_type": "execute_result"
    }
   ],
   "source": [
    "pcs_df = pd.DataFrame(X_pca, index=cleaned_crypto_df[\"Unnamed: 0\"], columns=[\"PC 1\",\"PC 2\",\"PC 3\"])\n",
    "pcs_df.head(10)"
   ]
  },
  {
   "cell_type": "markdown",
   "metadata": {},
   "source": [
    "# Clustering Cryptocurrencies Using K-means"
   ]
  },
  {
   "cell_type": "code",
   "execution_count": 90,
   "metadata": {},
   "outputs": [],
   "source": [
    "# Create an elbow curve to find the best value for K, and use the pcs_df DataFrame\n",
    "inertia_list = list()\n",
    "k_value = list(range(1,11))\n",
    "\n",
    "for k in k_value:\n",
    "    k_model = KMeans(n_clusters=k, random_state=1)\n",
    "    k_model.fit(pcs_df)\n",
    "    inertia_list.append(k_model.inertia_)\n",
    "\n",
    "elbow_df = pd.DataFrame({\"K\": k_value, \"Inertia\": inertia_list})"
   ]
  },
  {
   "cell_type": "code",
   "execution_count": 91,
   "metadata": {},
   "outputs": [
    {
     "data": {},
     "metadata": {},
     "output_type": "display_data"
    },
    {
     "data": {
      "application/vnd.holoviews_exec.v0+json": "",
      "text/html": [
       "<div id='1574'>\n",
       "\n",
       "\n",
       "\n",
       "\n",
       "\n",
       "  <div class=\"bk-root\" id=\"16ce29e5-2431-4f28-b5d6-210b71e33a93\" data-root-id=\"1574\"></div>\n",
       "</div>\n",
       "<script type=\"application/javascript\">(function(root) {\n",
       "  function embed_document(root) {\n",
       "  var docs_json = {\"f91102b3-5d11-4e32-b759-f2ea4ff78c50\":{\"roots\":{\"references\":[{\"attributes\":{\"margin\":[5,5,5,5],\"name\":\"HSpacer02783\",\"sizing_mode\":\"stretch_width\"},\"id\":\"1638\",\"type\":\"Spacer\"},{\"attributes\":{},\"id\":\"1586\",\"type\":\"LinearScale\"},{\"attributes\":{},\"id\":\"1596\",\"type\":\"SaveTool\"},{\"attributes\":{\"line_color\":\"#1f77b3\",\"line_width\":2,\"x\":{\"field\":\"K\"},\"y\":{\"field\":\"Inertia\"}},\"id\":\"1612\",\"type\":\"Line\"},{\"attributes\":{},\"id\":\"1610\",\"type\":\"Selection\"},{\"attributes\":{\"callback\":null,\"renderers\":[{\"id\":\"1615\"}],\"tags\":[\"hv_created\"],\"tooltips\":[[\"K\",\"@{K}\"],[\"Inertia\",\"@{Inertia}\"]]},\"id\":\"1578\",\"type\":\"HoverTool\"},{\"attributes\":{},\"id\":\"1598\",\"type\":\"WheelZoomTool\"},{\"attributes\":{},\"id\":\"1600\",\"type\":\"ResetTool\"},{\"attributes\":{\"line_alpha\":0.1,\"line_color\":\"#1f77b3\",\"line_width\":2,\"x\":{\"field\":\"K\"},\"y\":{\"field\":\"Inertia\"}},\"id\":\"1613\",\"type\":\"Line\"},{\"attributes\":{\"active_drag\":\"auto\",\"active_inspect\":\"auto\",\"active_multi\":null,\"active_scroll\":\"auto\",\"active_tap\":\"auto\",\"tools\":[{\"id\":\"1578\"},{\"id\":\"1596\"},{\"id\":\"1597\"},{\"id\":\"1598\"},{\"id\":\"1599\"},{\"id\":\"1600\"}]},\"id\":\"1602\",\"type\":\"Toolbar\"},{\"attributes\":{\"align\":null,\"below\":[{\"id\":\"1588\"}],\"center\":[{\"id\":\"1591\"},{\"id\":\"1595\"}],\"left\":[{\"id\":\"1592\"}],\"margin\":null,\"min_border_bottom\":10,\"min_border_left\":10,\"min_border_right\":10,\"min_border_top\":10,\"plot_height\":300,\"plot_width\":700,\"renderers\":[{\"id\":\"1615\"}],\"sizing_mode\":\"fixed\",\"title\":{\"id\":\"1580\"},\"toolbar\":{\"id\":\"1602\"},\"x_range\":{\"id\":\"1576\"},\"x_scale\":{\"id\":\"1584\"},\"y_range\":{\"id\":\"1577\"},\"y_scale\":{\"id\":\"1586\"}},\"id\":\"1579\",\"subtype\":\"Figure\",\"type\":\"Plot\"},{\"attributes\":{},\"id\":\"1597\",\"type\":\"PanTool\"},{\"attributes\":{\"data\":{\"Inertia\":{\"__ndarray__\":\"rmhn+HxUsECha05TzdWmQJ0ruZxwNZtAiyfb6Y2ahEBXM1+tB+R+QJV1WTVi/nVAiyqF2WZXcEA4IvnJlElmQFXF8oVtlFxAOJo2qXuQUkA=\",\"dtype\":\"float64\",\"order\":\"little\",\"shape\":[10]},\"K\":[1,2,3,4,5,6,7,8,9,10]},\"selected\":{\"id\":\"1610\"},\"selection_policy\":{\"id\":\"1629\"}},\"id\":\"1609\",\"type\":\"ColumnDataSource\"},{\"attributes\":{\"children\":[{\"id\":\"1575\"},{\"id\":\"1579\"},{\"id\":\"1638\"}],\"margin\":[0,0,0,0],\"name\":\"Row02778\",\"tags\":[\"embedded\"]},\"id\":\"1574\",\"type\":\"Row\"},{\"attributes\":{\"margin\":[5,5,5,5],\"name\":\"HSpacer02782\",\"sizing_mode\":\"stretch_width\"},\"id\":\"1575\",\"type\":\"Spacer\"},{\"attributes\":{},\"id\":\"1629\",\"type\":\"UnionRenderers\"},{\"attributes\":{\"axis_label\":\"Inertia\",\"bounds\":\"auto\",\"formatter\":{\"id\":\"1623\"},\"major_label_orientation\":\"horizontal\",\"ticker\":{\"id\":\"1593\"}},\"id\":\"1592\",\"type\":\"LinearAxis\"},{\"attributes\":{\"bottom_units\":\"screen\",\"fill_alpha\":0.5,\"fill_color\":\"lightgrey\",\"left_units\":\"screen\",\"level\":\"overlay\",\"line_alpha\":1.0,\"line_color\":\"black\",\"line_dash\":[4,4],\"line_width\":2,\"right_units\":\"screen\",\"top_units\":\"screen\"},\"id\":\"1601\",\"type\":\"BoxAnnotation\"},{\"attributes\":{\"end\":4591.111227110891,\"reset_end\":4591.111227110891,\"reset_start\":-336.3655140997417,\"start\":-336.3655140997417,\"tags\":[[[\"Inertia\",\"Inertia\",null]]]},\"id\":\"1577\",\"type\":\"Range1d\"},{\"attributes\":{},\"id\":\"1619\",\"type\":\"BasicTickFormatter\"},{\"attributes\":{},\"id\":\"1593\",\"type\":\"BasicTicker\"},{\"attributes\":{\"text\":\"\",\"text_color\":{\"value\":\"black\"},\"text_font_size\":{\"value\":\"12pt\"}},\"id\":\"1580\",\"type\":\"Title\"},{\"attributes\":{\"axis_label\":\"K\",\"bounds\":\"auto\",\"formatter\":{\"id\":\"1619\"},\"major_label_orientation\":\"horizontal\",\"ticker\":{\"id\":\"1617\"}},\"id\":\"1588\",\"type\":\"LinearAxis\"},{\"attributes\":{},\"id\":\"1623\",\"type\":\"BasicTickFormatter\"},{\"attributes\":{\"line_alpha\":0.2,\"line_color\":\"#1f77b3\",\"line_width\":2,\"x\":{\"field\":\"K\"},\"y\":{\"field\":\"Inertia\"}},\"id\":\"1614\",\"type\":\"Line\"},{\"attributes\":{\"end\":10.0,\"reset_end\":10.0,\"reset_start\":1.0,\"start\":1.0,\"tags\":[[[\"K\",\"K\",null]]]},\"id\":\"1576\",\"type\":\"Range1d\"},{\"attributes\":{\"source\":{\"id\":\"1609\"}},\"id\":\"1616\",\"type\":\"CDSView\"},{\"attributes\":{\"data_source\":{\"id\":\"1609\"},\"glyph\":{\"id\":\"1612\"},\"hover_glyph\":null,\"muted_glyph\":{\"id\":\"1614\"},\"nonselection_glyph\":{\"id\":\"1613\"},\"selection_glyph\":null,\"view\":{\"id\":\"1616\"}},\"id\":\"1615\",\"type\":\"GlyphRenderer\"},{\"attributes\":{},\"id\":\"1584\",\"type\":\"LinearScale\"},{\"attributes\":{\"axis\":{\"id\":\"1592\"},\"dimension\":1,\"grid_line_color\":null,\"ticker\":null},\"id\":\"1595\",\"type\":\"Grid\"},{\"attributes\":{\"overlay\":{\"id\":\"1601\"}},\"id\":\"1599\",\"type\":\"BoxZoomTool\"},{\"attributes\":{\"ticks\":[1,2,3,4,5,6,7,8,9,10]},\"id\":\"1617\",\"type\":\"FixedTicker\"},{\"attributes\":{\"axis\":{\"id\":\"1588\"},\"grid_line_color\":null,\"ticker\":null},\"id\":\"1591\",\"type\":\"Grid\"}],\"root_ids\":[\"1574\"]},\"title\":\"Bokeh Application\",\"version\":\"2.1.1\"}};\n",
       "  var render_items = [{\"docid\":\"f91102b3-5d11-4e32-b759-f2ea4ff78c50\",\"root_ids\":[\"1574\"],\"roots\":{\"1574\":\"16ce29e5-2431-4f28-b5d6-210b71e33a93\"}}];\n",
       "  root.Bokeh.embed.embed_items_notebook(docs_json, render_items);\n",
       "  }\n",
       "if (root.Bokeh !== undefined) {\n",
       "    embed_document(root);\n",
       "  } else {\n",
       "    var attempts = 0;\n",
       "    var timer = setInterval(function(root) {\n",
       "      if (root.Bokeh !== undefined) {\n",
       "        clearInterval(timer);\n",
       "        embed_document(root);\n",
       "      } else if (document.readyState == \"complete\") {\n",
       "        attempts++;\n",
       "        if (attempts > 100) {\n",
       "          clearInterval(timer);\n",
       "          console.log(\"Bokeh: ERROR: Unable to run BokehJS code because BokehJS library is missing\");\n",
       "        }\n",
       "      }\n",
       "    }, 10, root)\n",
       "  }\n",
       "})(window);</script>"
      ],
      "text/plain": [
       ":Curve   [K]   (Inertia)"
      ]
     },
     "execution_count": 91,
     "metadata": {
      "application/vnd.holoviews_exec.v0+json": {
       "id": "1574"
      }
     },
     "output_type": "execute_result"
    }
   ],
   "source": [
    "# Elbow Curve\n",
    "elbow_df.hvplot.line(x = \"K\", y = \"Inertia\", xticks = k_value)"
   ]
  },
  {
   "cell_type": "markdown",
   "metadata": {},
   "source": [
    "Looking at the elbow curve, the line shifts to a horizontal line at point 4, thus K=4 is the best estimate number of cluster for the KMeans model."
   ]
  },
  {
   "cell_type": "code",
   "execution_count": 92,
   "metadata": {},
   "outputs": [],
   "source": [
    "# Run the K-means algorithm to predict the K clusters for the cryptocurrencies’ data\n",
    "model = KMeans(n_clusters=4, random_state=1)\n",
    "predictions = model.fit_predict(pcs_df)"
   ]
  },
  {
   "cell_type": "code",
   "execution_count": 93,
   "metadata": {},
   "outputs": [
    {
     "data": {
      "text/html": [
       "<div>\n",
       "<style scoped>\n",
       "    .dataframe tbody tr th:only-of-type {\n",
       "        vertical-align: middle;\n",
       "    }\n",
       "\n",
       "    .dataframe tbody tr th {\n",
       "        vertical-align: top;\n",
       "    }\n",
       "\n",
       "    .dataframe thead th {\n",
       "        text-align: right;\n",
       "    }\n",
       "</style>\n",
       "<table border=\"1\" class=\"dataframe\">\n",
       "  <thead>\n",
       "    <tr style=\"text-align: right;\">\n",
       "      <th></th>\n",
       "      <th>Algorithm</th>\n",
       "      <th>ProofType</th>\n",
       "      <th>TotalCoinsMined</th>\n",
       "      <th>TotalCoinSupply</th>\n",
       "      <th>PC 1</th>\n",
       "      <th>PC 2</th>\n",
       "      <th>PC 3</th>\n",
       "      <th>CoinName</th>\n",
       "      <th>Class</th>\n",
       "    </tr>\n",
       "    <tr>\n",
       "      <th>Unnamed: 0</th>\n",
       "      <th></th>\n",
       "      <th></th>\n",
       "      <th></th>\n",
       "      <th></th>\n",
       "      <th></th>\n",
       "      <th></th>\n",
       "      <th></th>\n",
       "      <th></th>\n",
       "      <th></th>\n",
       "    </tr>\n",
       "  </thead>\n",
       "  <tbody>\n",
       "    <tr>\n",
       "      <th>42</th>\n",
       "      <td>Scrypt</td>\n",
       "      <td>PoW/PoS</td>\n",
       "      <td>4.199995e+01</td>\n",
       "      <td>4.200000e+01</td>\n",
       "      <td>-1.303547</td>\n",
       "      <td>-0.406755</td>\n",
       "      <td>-0.003655</td>\n",
       "      <td>42 Coin</td>\n",
       "      <td>1</td>\n",
       "    </tr>\n",
       "    <tr>\n",
       "      <th>404</th>\n",
       "      <td>Scrypt</td>\n",
       "      <td>PoW/PoS</td>\n",
       "      <td>1.055185e+09</td>\n",
       "      <td>5.320000e+08</td>\n",
       "      <td>-1.303547</td>\n",
       "      <td>-0.406755</td>\n",
       "      <td>-0.003655</td>\n",
       "      <td>404Coin</td>\n",
       "      <td>1</td>\n",
       "    </tr>\n",
       "    <tr>\n",
       "      <th>808</th>\n",
       "      <td>SHA-256</td>\n",
       "      <td>PoW/PoS</td>\n",
       "      <td>0.000000e+00</td>\n",
       "      <td>0.000000e+00</td>\n",
       "      <td>-0.776747</td>\n",
       "      <td>-0.249798</td>\n",
       "      <td>0.001913</td>\n",
       "      <td>808</td>\n",
       "      <td>1</td>\n",
       "    </tr>\n",
       "    <tr>\n",
       "      <th>1337</th>\n",
       "      <td>X13</td>\n",
       "      <td>PoW/PoS</td>\n",
       "      <td>2.927942e+10</td>\n",
       "      <td>3.141593e+11</td>\n",
       "      <td>-1.928004</td>\n",
       "      <td>-0.462700</td>\n",
       "      <td>0.001467</td>\n",
       "      <td>EliteCoin</td>\n",
       "      <td>1</td>\n",
       "    </tr>\n",
       "    <tr>\n",
       "      <th>BTC</th>\n",
       "      <td>SHA-256</td>\n",
       "      <td>PoW</td>\n",
       "      <td>1.792718e+07</td>\n",
       "      <td>2.100000e+07</td>\n",
       "      <td>1.507500</td>\n",
       "      <td>0.115764</td>\n",
       "      <td>0.007744</td>\n",
       "      <td>Bitcoin</td>\n",
       "      <td>0</td>\n",
       "    </tr>\n",
       "    <tr>\n",
       "      <th>ETH</th>\n",
       "      <td>Ethash</td>\n",
       "      <td>PoW</td>\n",
       "      <td>1.076842e+08</td>\n",
       "      <td>0.000000e+00</td>\n",
       "      <td>2.152076</td>\n",
       "      <td>0.189653</td>\n",
       "      <td>-0.005396</td>\n",
       "      <td>Ethereum</td>\n",
       "      <td>0</td>\n",
       "    </tr>\n",
       "    <tr>\n",
       "      <th>LTC</th>\n",
       "      <td>Scrypt</td>\n",
       "      <td>PoW</td>\n",
       "      <td>6.303924e+07</td>\n",
       "      <td>8.400000e+07</td>\n",
       "      <td>0.980701</td>\n",
       "      <td>-0.041193</td>\n",
       "      <td>0.002177</td>\n",
       "      <td>Litecoin</td>\n",
       "      <td>0</td>\n",
       "    </tr>\n",
       "    <tr>\n",
       "      <th>DASH</th>\n",
       "      <td>X11</td>\n",
       "      <td>PoW/PoS</td>\n",
       "      <td>9.031294e+06</td>\n",
       "      <td>2.200000e+07</td>\n",
       "      <td>-1.353609</td>\n",
       "      <td>-0.384371</td>\n",
       "      <td>-0.006037</td>\n",
       "      <td>Dash</td>\n",
       "      <td>1</td>\n",
       "    </tr>\n",
       "    <tr>\n",
       "      <th>XMR</th>\n",
       "      <td>CryptoNight-V7</td>\n",
       "      <td>PoW</td>\n",
       "      <td>1.720114e+07</td>\n",
       "      <td>0.000000e+00</td>\n",
       "      <td>2.147390</td>\n",
       "      <td>0.287987</td>\n",
       "      <td>0.020760</td>\n",
       "      <td>Monero</td>\n",
       "      <td>0</td>\n",
       "    </tr>\n",
       "    <tr>\n",
       "      <th>ETC</th>\n",
       "      <td>Ethash</td>\n",
       "      <td>PoW</td>\n",
       "      <td>1.133597e+08</td>\n",
       "      <td>2.100000e+08</td>\n",
       "      <td>2.152076</td>\n",
       "      <td>0.189653</td>\n",
       "      <td>-0.005396</td>\n",
       "      <td>Ethereum Classic</td>\n",
       "      <td>0</td>\n",
       "    </tr>\n",
       "  </tbody>\n",
       "</table>\n",
       "</div>"
      ],
      "text/plain": [
       "                 Algorithm ProofType  TotalCoinsMined  TotalCoinSupply  \\\n",
       "Unnamed: 0                                                               \n",
       "42                  Scrypt   PoW/PoS     4.199995e+01     4.200000e+01   \n",
       "404                 Scrypt   PoW/PoS     1.055185e+09     5.320000e+08   \n",
       "808                SHA-256   PoW/PoS     0.000000e+00     0.000000e+00   \n",
       "1337                   X13   PoW/PoS     2.927942e+10     3.141593e+11   \n",
       "BTC                SHA-256       PoW     1.792718e+07     2.100000e+07   \n",
       "ETH                 Ethash       PoW     1.076842e+08     0.000000e+00   \n",
       "LTC                 Scrypt       PoW     6.303924e+07     8.400000e+07   \n",
       "DASH                   X11   PoW/PoS     9.031294e+06     2.200000e+07   \n",
       "XMR         CryptoNight-V7       PoW     1.720114e+07     0.000000e+00   \n",
       "ETC                 Ethash       PoW     1.133597e+08     2.100000e+08   \n",
       "\n",
       "                PC 1      PC 2      PC 3          CoinName  Class  \n",
       "Unnamed: 0                                                         \n",
       "42         -1.303547 -0.406755 -0.003655           42 Coin      1  \n",
       "404        -1.303547 -0.406755 -0.003655           404Coin      1  \n",
       "808        -0.776747 -0.249798  0.001913               808      1  \n",
       "1337       -1.928004 -0.462700  0.001467         EliteCoin      1  \n",
       "BTC         1.507500  0.115764  0.007744           Bitcoin      0  \n",
       "ETH         2.152076  0.189653 -0.005396          Ethereum      0  \n",
       "LTC         0.980701 -0.041193  0.002177          Litecoin      0  \n",
       "DASH       -1.353609 -0.384371 -0.006037              Dash      1  \n",
       "XMR         2.147390  0.287987  0.020760            Monero      0  \n",
       "ETC         2.152076  0.189653 -0.005396  Ethereum Classic      0  "
      ]
     },
     "execution_count": 93,
     "metadata": {},
     "output_type": "execute_result"
    }
   ],
   "source": [
    "# Create a new DataFrame named “clustered_df,” that includes the following columns: \n",
    "# Algorithm, ProofType, TotalCoinsMined, TotalCoinSupply, PC 1, PC 2, PC 3, CoinName, and Class\n",
    "clustered_df = cleaned_crypto_df.merge(pcs_df, on = \"Unnamed: 0\")\n",
    "clustered_df = clustered_df.merge(coins_name, on = \"Unnamed: 0\")\n",
    "\n",
    "clustered_df[\"Class\"] = model.labels_\n",
    "\n",
    "clustered_df.set_index(\"Unnamed: 0\", drop = True, inplace = True)\n",
    "clustered_df.head(10)"
   ]
  },
  {
   "cell_type": "markdown",
   "metadata": {},
   "source": [
    "# Visualizing Results"
   ]
  },
  {
   "cell_type": "code",
   "execution_count": 97,
   "metadata": {},
   "outputs": [
    {
     "data": {
      "application/vnd.plotly.v1+json": {
       "config": {
        "plotlyServerURL": "https://plot.ly"
       },
       "data": [
        {
         "customdata": [
          [
           "Scrypt"
          ],
          [
           "Scrypt"
          ],
          [
           "SHA-256"
          ],
          [
           "X13"
          ],
          [
           "X11"
          ],
          [
           "SHA-512"
          ],
          [
           "SHA-256"
          ],
          [
           "X11"
          ],
          [
           "SHA-256"
          ],
          [
           "X15"
          ],
          [
           "X13"
          ],
          [
           "X13"
          ],
          [
           "Scrypt"
          ],
          [
           "Scrypt"
          ],
          [
           "Scrypt"
          ],
          [
           "Scrypt"
          ],
          [
           "Scrypt"
          ],
          [
           "Scrypt"
          ],
          [
           "Scrypt"
          ],
          [
           "Multiple"
          ],
          [
           "Scrypt"
          ],
          [
           "Scrypt"
          ],
          [
           "SHA-256"
          ],
          [
           "Groestl"
          ],
          [
           "X11"
          ],
          [
           "PoS"
          ],
          [
           "X11"
          ],
          [
           "NIST5"
          ],
          [
           "Scrypt"
          ],
          [
           "X11"
          ],
          [
           "X15"
          ],
          [
           "Scrypt"
          ],
          [
           "X11"
          ],
          [
           "X11"
          ],
          [
           "X11"
          ],
          [
           "X13"
          ],
          [
           "X11"
          ],
          [
           "SHA3"
          ],
          [
           "Scrypt"
          ],
          [
           "SHA-256"
          ],
          [
           "Scrypt"
          ],
          [
           "X13"
          ],
          [
           "X13"
          ],
          [
           "NeoScrypt"
          ],
          [
           "Scrypt"
          ],
          [
           "Scrypt"
          ],
          [
           "Scrypt"
          ],
          [
           "X15"
          ],
          [
           "Scrypt"
          ],
          [
           "X11"
          ],
          [
           "X11"
          ],
          [
           "Multiple"
          ],
          [
           "PHI1612"
          ],
          [
           "X11"
          ],
          [
           "Scrypt"
          ],
          [
           "Scrypt"
          ],
          [
           "X13"
          ],
          [
           "Scrypt"
          ],
          [
           "Scrypt"
          ],
          [
           "X11"
          ],
          [
           "Multiple"
          ],
          [
           "X13"
          ],
          [
           "Scrypt"
          ],
          [
           "Scrypt"
          ],
          [
           "Shabal256"
          ],
          [
           "Counterparty"
          ],
          [
           "SHA-256"
          ],
          [
           "Scrypt"
          ],
          [
           "Groestl"
          ],
          [
           "Scrypt"
          ],
          [
           "X13"
          ],
          [
           "Scrypt"
          ],
          [
           "SHA-256"
          ],
          [
           "Scrypt"
          ],
          [
           "X13"
          ],
          [
           "X13"
          ],
          [
           "X11"
          ],
          [
           "X11"
          ],
          [
           "X15"
          ],
          [
           "Scrypt"
          ],
          [
           "Scrypt"
          ],
          [
           "Scrypt"
          ],
          [
           "X11"
          ],
          [
           "SHA3"
          ],
          [
           "Scrypt"
          ],
          [
           "QUAIT"
          ],
          [
           "vDPOS"
          ],
          [
           "X11"
          ],
          [
           "X11"
          ],
          [
           "Scrypt"
          ],
          [
           "X11"
          ],
          [
           "X13"
          ],
          [
           "SHA-256"
          ],
          [
           "X13"
          ],
          [
           "X15"
          ],
          [
           "BLAKE256"
          ],
          [
           "SHA-256"
          ],
          [
           "X11"
          ],
          [
           "SHA-256"
          ],
          [
           "Quark"
          ],
          [
           "NIST5"
          ],
          [
           "Blake"
          ],
          [
           "Scrypt"
          ],
          [
           "Scrypt"
          ],
          [
           "Scrypt"
          ],
          [
           "SHA-256"
          ],
          [
           "X11"
          ],
          [
           "Scrypt"
          ],
          [
           "SHA-256"
          ],
          [
           "Scrypt"
          ],
          [
           "PoS"
          ],
          [
           "X11"
          ],
          [
           "X11"
          ],
          [
           "X11"
          ],
          [
           "PoS"
          ],
          [
           "SHA-256"
          ],
          [
           "SHA-256"
          ],
          [
           "NIST5"
          ],
          [
           "X15"
          ],
          [
           "X11"
          ],
          [
           "NIST5"
          ],
          [
           "Scrypt"
          ],
          [
           "Scrypt"
          ],
          [
           "POS 3.0"
          ],
          [
           "Scrypt"
          ],
          [
           "Scrypt"
          ],
          [
           "Scrypt"
          ],
          [
           "X13"
          ],
          [
           "X11"
          ],
          [
           "X11"
          ],
          [
           "X11"
          ],
          [
           "Scrypt"
          ],
          [
           "SHA-256"
          ],
          [
           "X11"
          ],
          [
           "Scrypt"
          ],
          [
           "Scrypt"
          ],
          [
           "X11"
          ],
          [
           "Scrypt"
          ],
          [
           "Scrypt"
          ],
          [
           "SHA-256D"
          ],
          [
           "PoS"
          ],
          [
           "Scrypt"
          ],
          [
           "X11"
          ],
          [
           "PoS"
          ],
          [
           "X13"
          ],
          [
           "X14"
          ],
          [
           "PoS"
          ],
          [
           "SHA-256D"
          ],
          [
           "DPoS"
          ],
          [
           "X11"
          ],
          [
           "Scrypt"
          ],
          [
           "X13"
          ],
          [
           "X11"
          ],
          [
           "PoS"
          ],
          [
           "SHA-256D"
          ],
          [
           "Scrypt"
          ],
          [
           "Scrypt"
          ],
          [
           "Scrypt"
          ],
          [
           "PoS"
          ],
          [
           "X11"
          ],
          [
           "SHA-256"
          ],
          [
           "Scrypt"
          ],
          [
           "X11"
          ],
          [
           "Scrypt"
          ],
          [
           "Scrypt"
          ],
          [
           "X11"
          ],
          [
           "Scrypt"
          ],
          [
           "Scrypt"
          ],
          [
           "Scrypt"
          ],
          [
           "Scrypt"
          ],
          [
           "Quark"
          ],
          [
           "QuBit"
          ],
          [
           "X11"
          ],
          [
           "X13"
          ],
          [
           "PoS"
          ],
          [
           "Scrypt"
          ],
          [
           "SHA-256"
          ],
          [
           "X11"
          ],
          [
           "X11"
          ],
          [
           "Scrypt"
          ],
          [
           "Scrypt"
          ],
          [
           "Scrypt"
          ],
          [
           "Scrypt"
          ],
          [
           "X13"
          ],
          [
           "Scrypt"
          ],
          [
           "Scrypt"
          ],
          [
           "X11"
          ],
          [
           "Blake2S"
          ],
          [
           "X11"
          ],
          [
           "Scrypt"
          ],
          [
           "PoS"
          ],
          [
           "X11"
          ],
          [
           "PoS"
          ],
          [
           "X11"
          ],
          [
           "Scrypt"
          ],
          [
           "Scrypt"
          ],
          [
           "Scrypt"
          ],
          [
           "SHA-256"
          ],
          [
           "X11"
          ],
          [
           "Scrypt"
          ],
          [
           "PoS"
          ],
          [
           "Scrypt"
          ],
          [
           "X11"
          ],
          [
           "X15"
          ],
          [
           "SHA-256"
          ],
          [
           "POS 3.0"
          ],
          [
           "536"
          ],
          [
           "NIST5"
          ],
          [
           "NIST5"
          ],
          [
           "Skein"
          ],
          [
           "X13"
          ],
          [
           "X11"
          ],
          [
           "Scrypt"
          ],
          [
           "X13"
          ],
          [
           "SkunkHash v2 Raptor"
          ],
          [
           "Skein"
          ],
          [
           "X11"
          ],
          [
           "Scrypt"
          ],
          [
           "PoS"
          ],
          [
           "Scrypt"
          ],
          [
           "Scrypt"
          ],
          [
           "SHA-512"
          ],
          [
           "Ouroboros"
          ],
          [
           "X11"
          ],
          [
           "NeoScrypt"
          ],
          [
           "Scrypt"
          ],
          [
           "Lyra2REv2"
          ],
          [
           "Scrypt"
          ],
          [
           "SHA-256"
          ],
          [
           "NIST5"
          ],
          [
           "PHI1612"
          ],
          [
           "Scrypt"
          ],
          [
           "Quark"
          ],
          [
           "POS 2.0"
          ],
          [
           "Scrypt"
          ],
          [
           "SkunkHash"
          ],
          [
           "X11"
          ],
          [
           "Quark"
          ],
          [
           "SHA-256"
          ],
          [
           "Quark"
          ],
          [
           "X11"
          ],
          [
           "DPoS"
          ],
          [
           "NIST5"
          ],
          [
           "X13"
          ],
          [
           "Scrypt"
          ],
          [
           "NIST5"
          ],
          [
           "Quark"
          ],
          [
           "Scrypt"
          ],
          [
           "Scrypt"
          ],
          [
           "X11"
          ],
          [
           "SHA-256"
          ],
          [
           "Scrypt"
          ],
          [
           "Quark"
          ],
          [
           "Scrypt"
          ],
          [
           "Scrypt"
          ],
          [
           "X11"
          ],
          [
           "Scrypt"
          ],
          [
           "Scrypt"
          ],
          [
           "POS 3.0"
          ],
          [
           "Scrypt"
          ],
          [
           "Scrypt"
          ],
          [
           "X13"
          ],
          [
           "C11"
          ],
          [
           "X11"
          ],
          [
           "XEVAN"
          ],
          [
           "Scrypt"
          ],
          [
           "VBFT"
          ],
          [
           "NIST5"
          ],
          [
           "Scrypt"
          ],
          [
           "Scrypt"
          ],
          [
           "Scrypt"
          ],
          [
           "Equihash"
          ],
          [
           "Green Protocol"
          ],
          [
           "PoS"
          ],
          [
           "Scrypt"
          ],
          [
           "Scrypt"
          ],
          [
           "Semux BFT consensus"
          ],
          [
           "Scrypt"
          ],
          [
           "Quark"
          ],
          [
           "PoS"
          ],
          [
           "X16R"
          ],
          [
           "Scrypt"
          ],
          [
           "XEVAN"
          ],
          [
           "Scrypt"
          ],
          [
           "Scrypt"
          ],
          [
           "Scrypt"
          ],
          [
           "SHA-256D"
          ],
          [
           "Scrypt"
          ],
          [
           "X15"
          ],
          [
           "Scrypt"
          ],
          [
           "Quark"
          ],
          [
           "SHA-256"
          ],
          [
           "DPoS"
          ],
          [
           "X16R"
          ],
          [
           "Quark"
          ],
          [
           "Quark"
          ],
          [
           "Scrypt"
          ],
          [
           "Zhash"
          ],
          [
           "Lyra2REv2"
          ],
          [
           "Quark"
          ],
          [
           "Scrypt"
          ],
          [
           "Scrypt"
          ],
          [
           "X11"
          ],
          [
           "X11"
          ],
          [
           "Scrypt"
          ],
          [
           "PoS"
          ],
          [
           "Scrypt"
          ],
          [
           "Scrypt"
          ],
          [
           "Keccak"
          ],
          [
           "X11"
          ],
          [
           "Quark"
          ],
          [
           "Scrypt"
          ],
          [
           "SHA-512"
          ],
          [
           "NeoScrypt"
          ],
          [
           "XEVAN"
          ],
          [
           "XEVAN"
          ],
          [
           "X11"
          ],
          [
           "Quark"
          ],
          [
           "Quark"
          ],
          [
           "Scrypt"
          ],
          [
           "Quark"
          ],
          [
           "Quark"
          ],
          [
           "Scrypt"
          ],
          [
           "X11"
          ],
          [
           "Scrypt"
          ],
          [
           "XEVAN"
          ],
          [
           "SHA-256D"
          ],
          [
           "X11"
          ],
          [
           "X11"
          ],
          [
           "DPoS"
          ],
          [
           "X11"
          ],
          [
           "Scrypt"
          ],
          [
           "X11"
          ],
          [
           "QuBit"
          ],
          [
           "Scrypt"
          ],
          [
           "Scrypt"
          ],
          [
           "SHA-256"
          ],
          [
           "Scrypt"
          ],
          [
           "X11"
          ],
          [
           "Scrypt"
          ],
          [
           "SHA-256"
          ],
          [
           "X11"
          ],
          [
           "Scrypt"
          ],
          [
           "SHA-256"
          ],
          [
           "Scrypt"
          ],
          [
           "X11"
          ],
          [
           "Scrypt"
          ],
          [
           "PoS"
          ],
          [
           "X11"
          ],
          [
           "SHA-256"
          ],
          [
           "DPoS"
          ],
          [
           "Scrypt"
          ],
          [
           "Scrypt"
          ],
          [
           "NeoScrypt"
          ],
          [
           "Scrypt"
          ],
          [
           "X13"
          ],
          [
           "DPoS"
          ],
          [
           "DPoS"
          ],
          [
           "SHA-256"
          ],
          [
           "PoS"
          ],
          [
           "TRC10"
          ],
          [
           "PoS"
          ],
          [
           "SHA-256"
          ],
          [
           "Scrypt"
          ],
          [
           "Scrypt"
          ]
         ],
         "hoverlabel": {
          "namelength": 0
         },
         "hovertemplate": "<b>%{hovertext}</b><br><br>Class=%{marker.color}<br>PC 1=%{x}<br>PC 2=%{y}<br>PC 3=%{z}<br>Algorithm=%{customdata[0]}",
         "hovertext": [
          "42 Coin",
          "404Coin",
          "808",
          "EliteCoin",
          "Dash",
          "Bitshares",
          "BitcoinDark",
          "Bitstake",
          "PayCoin",
          "KoboCoin",
          "Aero Coin",
          "ApexCoin",
          "ArchCoin",
          "Aurora Coin",
          "BlueCoin",
          "EnergyCoin",
          "BitBar",
          "CashCoin",
          "CryptoBullion",
          "CinderCoin",
          "CoolCoin",
          "CasinoCoin",
          "eMark",
          "Diamond",
          "DarkCash",
          "Exclusive Coin",
          "Fuel2Coin",
          "FIBRE",
          "FlutterCoin",
          "GlyphCoin",
          "Halcyon",
          "HoboNickels",
          "HyperStake",
          "IOCoin",
          "JumBucks Coin",
          "JudgeCoin",
          "LibrexCoin",
          "MaxCoin",
          "MintCoin",
          "MazaCoin",
          "Nautilus Coin",
          "NavCoin",
          "OpalCoin",
          "Orbitcoin",
          "PotCoin",
          "PhoenixCoin",
          "Reddcoin",
          "ShieldCoin",
          "SilkCoin",
          "SuperCoin",
          "SyncCoin",
          "TeslaCoin",
          "TittieCoin",
          "TorCoin",
          "UnitaryStatus Dollar",
          "UltraCoin",
          "Utility Coin",
          "VeriCoin",
          "SocialXbotCoin",
          "X11 Coin",
          "Crypti",
          "StealthCoin",
          "XXXCoin",
          "ZCC Coin",
          "BurstCoin",
          "StorjCoin",
          "Neutron",
          "KryptCoin",
          "FairCoin",
          "RubyCoin",
          "Kore",
          "Dnotes",
          "MaieutiCoin",
          "8BIT Coin",
          "Sativa Coin",
          "AeroMe",
          "MasterTraderCoin",
          "Ucoin",
          "MaryJane Coin",
          "CyberCoin",
          "Vtorrent",
          "ViorCoin",
          "IslaCoin",
          "Nexus",
          "Singular",
          "Droidz",
          "CryptoCircuits",
          "Squall Coin",
          "Milllionaire Coin",
          "Diggits",
          "MapCoin",
          "Paycon",
          "Emercoin",
          "BlitzCoin",
          "EverGreenCoin",
          "Decred",
          "EDRCoin",
          "Hitcoin",
          "DubaiCoin",
          "BiosCrypto",
          "PWR Coin",
          "TrumpCoin",
          "BillaryCoin",
          "EthereumScrypt",
          "GPU Coin",
          "Universal Currency",
          "EuropeCoin",
          "ZeitCoin",
          "SwingCoin",
          "SafeExchangeCoin",
          "Nebuchadnezzar",
          "GIZMOcoin",
          "SecretCoin",
          "Ratecoin",
          "Digital Bullion Gold",
          "Revenu",
          "Clockcoin",
          "VIP Tokens",
          "OrlyCoin",
          "BitSend",
          "16BitCoin",
          "ChessCoin",
          "ReeCoin",
          "Let it Ride",
          "PutinCoin",
          "iBankCoin",
          "Frankywillcoin",
          "MudraCoin",
          "Lutetium Coin",
          "GoldBlocks",
          "WayCoin",
          "CarterCoin",
          "BitTokens",
          "MustangCoin",
          "ZoneCoin",
          "RootCoin",
          "PROUD Money",
          "BitCurrency",
          "Swiscoin",
          "BuzzCoin",
          "Opair",
          "PesoBit",
          "Halloween Coin",
          "CoffeeCoin",
          "RoyalCoin",
          "GanjaCoin V2",
          "TeamUP",
          "LanaCoin",
          "ARK",
          "InsaneCoin",
          "LuckChain",
          "EmberCoin",
          "XenixCoin",
          "FreeCoin",
          "NPCcoin",
          "PLNCoin",
          "Icobid",
          "AquariusCoin",
          "Creatio",
          "Eternity",
          "Eurocoin",
          "BitcoinFast",
          "Stakenet",
          "BitConnect Coin",
          "MoneyCoin",
          "Enigma",
          "Russiacoin",
          "PandaCoin",
          "GameUnits",
          "GAKHcoin",
          "Allsafe",
          "LiteCreed",
          "NeptuneClassic",
          "GoldenBird",
          "Ride My Car",
          "Klingon Empire Darsek",
          "Internet of People",
          "KushCoin",
          "Eryllium",
          "Printerium",
          "Impeach",
          "Zilbercoin",
          "FirstCoin",
          "FindCoin",
          "OpenChat",
          "RenosCoin",
          "VirtacoinPlus",
          "TajCoin",
          "Impact",
          "Universe",
          "Atmos",
          "HappyCoin",
          "MacronCoin",
          "Condensate",
          "Independent Money System",
          "ArgusCoin",
          "LomoCoin",
          "ProCurrency",
          "GoldReserve",
          "GrowthCoin",
          "Phreak",
          "Degas Coin",
          "ZSEcoin",
          "HTML5 Coin",
          "Ultimate Secure Cash",
          "QTUM",
          "Espers",
          "Denarius",
          "Virta Unique Coin",
          "Bitcoin Planet",
          "BritCoin",
          "Octanox",
          "Linda",
          "DeepOnion",
          "Signatum",
          "Cream",
          "Monoeci",
          "Draftcoin",
          "Stakecoin",
          "CoinonatX",
          "Ethereum Dark",
          "Obsidian",
          "Cardano",
          "Regalcoin",
          "TrezarCoin",
          "TerraNovaCoin",
          "Rupee",
          "WomenCoin",
          "Theresa May Coin",
          "NamoCoin",
          "LUXCoin",
          "Xios",
          "Bitcloud 2.0",
          "KekCoin",
          "BlackholeCoin",
          "AltCommunity Coin",
          "Pure",
          "Rupaya",
          "Infinity Economics",
          "Castle",
          "Magnet",
          "Lamden Tau",
          "Electra",
          "Bitcoin Diamond",
          "Cash & Back Coin",
          "Bulwark",
          "Kalkulus",
          "GermanCoin",
          "LiteCoin Ultra",
          "PhantomX",
          "HTML Coin",
          "Fantasy Cash",
          "Digiwage",
          "Trollcoin",
          "Litecoin Plus",
          "Monkey Project",
          "OP Coin",
          "Valorbit",
          "TokenPay",
          "My Big Coin",
          "Unified Society USDEX",
          "Tokyo Coin",
          "Stipend",
          "Pushi",
          "Ellerium",
          "Velox",
          "Ontology",
          "Bitspace",
          "Briacoin",
          "Ignition",
          "MedicCoin",
          "Zelcash",
          "Bitcoin Green",
          "Deviant Coin",
          "Abjcoin",
          "Profit Hunters Coin",
          "Semux",
          "BitBlocks",
          "Carebit",
          "Zealium",
          "Proton",
          "iDealCash",
          "Bitcoin Incognito",
          "HollyWoodCoin",
          "Swisscoin",
          "Xt3ch",
          "TheVig",
          "EmaratCoin",
          "Dekado",
          "Lynx",
          "Poseidon Quark",
          "BitcoinWSpectrum",
          "Muse",
          "Trivechain",
          "Dystem",
          "Giant",
          "Peony Coin",
          "SafeCoin",
          "Absolute Coin",
          "Vitae",
          "TPCash",
          "MUSDcoin",
          "ARENON",
          "EUNO",
          "MMOCoin",
          "Ketan",
          "Safe Trade Coin",
          "Mont Blanc",
          "XDNA",
          "PAXEX",
          "Apollon",
          "ThunderStake",
          "Kcash",
          "Traid",
          "Bettex coin",
          "BitMoney",
          "Junson Ming Chan Coin",
          "Zenad",
          "HerbCoin",
          "Oduwa",
          "Galilel",
          "Crypto Sports",
          "Credit",
          "Dash Platinum",
          "Nasdacoin",
          "Beetle Coin",
          "Titan Coin",
          "Award",
          "Insane Coin",
          "ALAX",
          "The Freedom Coin",
          "LiteDoge",
          "TruckCoin",
          "Ascension Coin",
          "OrangeCoin",
          "BitstarCoin",
          "NeosCoin",
          "HyperCoin",
          "PinkCoin",
          "AudioCoin",
          "IncaKoin",
          "Piggy Coin",
          "Genstake",
          "ParkByte",
          "XiaoMiCoin",
          "CapriCoin",
          " ClubCoin",
          "Radium",
          "Creditbit ",
          "OKCash",
          "Lisk",
          "HiCoin",
          "WhiteCoin",
          "FriendshipCoin",
          "The Hempcoin",
          "Triangles Coin",
          "EOS",
          "Oxycoin",
          "TigerCash",
          "Particl",
          "BitTorrent",
          "Nxt",
          "ZEPHYR",
          "Gapcoin",
          "BitcoinPlus"
         ],
         "legendgroup": "Class=1",
         "marker": {
          "color": [
           1,
           1,
           1,
           1,
           1,
           1,
           1,
           1,
           1,
           1,
           1,
           1,
           1,
           1,
           1,
           1,
           1,
           1,
           1,
           1,
           1,
           1,
           1,
           1,
           1,
           1,
           1,
           1,
           1,
           1,
           1,
           1,
           1,
           1,
           1,
           1,
           1,
           1,
           1,
           1,
           1,
           1,
           1,
           1,
           1,
           1,
           1,
           1,
           1,
           1,
           1,
           1,
           1,
           1,
           1,
           1,
           1,
           1,
           1,
           1,
           1,
           1,
           1,
           1,
           1,
           1,
           1,
           1,
           1,
           1,
           1,
           1,
           1,
           1,
           1,
           1,
           1,
           1,
           1,
           1,
           1,
           1,
           1,
           1,
           1,
           1,
           1,
           1,
           1,
           1,
           1,
           1,
           1,
           1,
           1,
           1,
           1,
           1,
           1,
           1,
           1,
           1,
           1,
           1,
           1,
           1,
           1,
           1,
           1,
           1,
           1,
           1,
           1,
           1,
           1,
           1,
           1,
           1,
           1,
           1,
           1,
           1,
           1,
           1,
           1,
           1,
           1,
           1,
           1,
           1,
           1,
           1,
           1,
           1,
           1,
           1,
           1,
           1,
           1,
           1,
           1,
           1,
           1,
           1,
           1,
           1,
           1,
           1,
           1,
           1,
           1,
           1,
           1,
           1,
           1,
           1,
           1,
           1,
           1,
           1,
           1,
           1,
           1,
           1,
           1,
           1,
           1,
           1,
           1,
           1,
           1,
           1,
           1,
           1,
           1,
           1,
           1,
           1,
           1,
           1,
           1,
           1,
           1,
           1,
           1,
           1,
           1,
           1,
           1,
           1,
           1,
           1,
           1,
           1,
           1,
           1,
           1,
           1,
           1,
           1,
           1,
           1,
           1,
           1,
           1,
           1,
           1,
           1,
           1,
           1,
           1,
           1,
           1,
           1,
           1,
           1,
           1,
           1,
           1,
           1,
           1,
           1,
           1,
           1,
           1,
           1,
           1,
           1,
           1,
           1,
           1,
           1,
           1,
           1,
           1,
           1,
           1,
           1,
           1,
           1,
           1,
           1,
           1,
           1,
           1,
           1,
           1,
           1,
           1,
           1,
           1,
           1,
           1,
           1,
           1,
           1,
           1,
           1,
           1,
           1,
           1,
           1,
           1,
           1,
           1,
           1,
           1,
           1,
           1,
           1,
           1,
           1,
           1,
           1,
           1,
           1,
           1,
           1,
           1,
           1,
           1,
           1,
           1,
           1,
           1,
           1,
           1,
           1,
           1,
           1,
           1,
           1,
           1,
           1,
           1,
           1,
           1,
           1,
           1,
           1,
           1,
           1,
           1,
           1,
           1,
           1,
           1,
           1,
           1,
           1,
           1,
           1,
           1,
           1,
           1,
           1,
           1,
           1,
           1,
           1,
           1,
           1,
           1,
           1,
           1,
           1,
           1,
           1,
           1,
           1,
           1,
           1,
           1,
           1,
           1,
           1,
           1,
           1,
           1,
           1,
           1,
           1,
           1,
           1,
           1,
           1,
           1,
           1,
           1,
           1,
           1,
           1,
           1,
           1,
           1,
           1,
           1,
           1,
           1,
           1,
           1,
           1,
           1,
           1,
           1
          ],
          "coloraxis": "coloraxis",
          "symbol": "circle"
         },
         "mode": "markers",
         "name": "Class=1",
         "scene": "scene",
         "showlegend": true,
         "type": "scatter3d",
         "x": [
          -1.3035468010798865,
          -1.3035468010798839,
          -0.776747151218779,
          -1.9280044472436277,
          -1.353609382672403,
          -1.490565363697778,
          -0.7767471512187865,
          -1.3536093826724043,
          -0.2789711087601011,
          -2.078098116418154,
          -1.4302284047849383,
          -1.928004447243624,
          -0.805770758621202,
          -1.3035468010798874,
          -1.3035468010798874,
          -1.3035468010798874,
          -1.3035468010798874,
          -1.3035468010798874,
          -1.3035468010798874,
          -0.4575387811289762,
          -0.805770758621202,
          -0.9026811433199663,
          -0.7767471512187865,
          -1.070386056853122,
          -1.3536093826724043,
          -1.1690261244747544,
          -0.855833340213719,
          -1.773854957461655,
          -0.5596259971817303,
          -1.3536093826724043,
          -2.078098116418154,
          -1.3035468010798874,
          -0.855833340213719,
          -1.3536093826724043,
          -1.3536093826724043,
          -1.928004447243624,
          -1.3536093826724043,
          -2.699282769129818,
          -0.805770758621202,
          -0.7767471512187865,
          -0.805770758621202,
          -1.928004447243624,
          -1.928004447243624,
          -0.6690083725901127,
          -1.3035468010798874,
          -1.3035468010798874,
          -1.3035468010798874,
          -2.078098116418154,
          -1.3035468010798874,
          -0.855833340213719,
          -1.3536093826724043,
          0.040237261329709,
          -1.5305608219357114,
          -1.3536093826724043,
          -1.3035468010798874,
          -1.3035468010798874,
          -1.928004447243624,
          -0.6631628645603357,
          -1.3035468010798874,
          -1.3536093826724043,
          0.040237261329709,
          -1.928004447243624,
          -1.3035468010798874,
          -1.3035468010798874,
          -1.533431971495649,
          -1.301648941786764,
          -0.7767471512187865,
          -0.805770758621202,
          -1.070386056853122,
          -0.805770758621202,
          -1.928004447243624,
          -0.805770758621202,
          -0.2789711087601011,
          -1.3035468010798874,
          -1.928004447243624,
          -1.928004447243624,
          -1.3536093826724043,
          -0.855833340213719,
          -2.078098116418154,
          -1.3035468010798874,
          -1.3035468010798874,
          -1.3035468010798874,
          -1.3536093826724043,
          -3.5171881927293724,
          -1.3035468010798874,
          -2.3410403894073886,
          -1.1737776410722456,
          -0.780624944454207,
          -1.3536093826724043,
          -0.805770758621202,
          -0.855833340213719,
          -1.928004447243624,
          -0.7767471512187865,
          -1.4302284047849383,
          -2.078098116418154,
          -1.000670121884622,
          -0.7767471512187865,
          -1.3536093826724043,
          -0.7767471512187865,
          -1.6013368963350818,
          -1.773854957461655,
          0.01037168527565314,
          -1.3035468010798874,
          -1.3035468010798874,
          -0.805770758621202,
          -0.7767471512187865,
          -1.3536093826724043,
          -0.805770758621202,
          -0.7767471512187865,
          -0.9026811433199663,
          -1.1690261244747544,
          -1.3536093826724043,
          -1.3536093826724043,
          -1.3536093826724043,
          -1.1690261244747544,
          -0.7767471512187865,
          -0.7767471512187865,
          -1.773854957461655,
          -2.078098116418154,
          -1.3536093826724043,
          -1.773854957461655,
          -1.3035468010798874,
          -1.3035468010798874,
          -1.1332927894133025,
          -1.3035468010798874,
          -1.3035468010798874,
          -1.3035468010798874,
          -1.4302284047849383,
          -0.855833340213719,
          -1.3536093826724043,
          -0.855833340213719,
          -1.3035468010798874,
          -0.7767471512187865,
          -1.3536093826724043,
          -1.3035468010798874,
          -1.3035468010798874,
          -1.3536093826724043,
          -0.805770758621202,
          -0.5438586424544635,
          -2.1258828979508335,
          -1.1690261244747544,
          -1.3035468010798874,
          -1.3536093826724043,
          -1.1690261244747544,
          -1.4302284047849383,
          -2.3068441538016553,
          -1.1690261244747544,
          -2.1258828979508335,
          -1.493806909513213,
          -1.3536093826724043,
          -1.3035468010798874,
          -1.928004447243624,
          -1.3536093826724043,
          -1.1690261244747544,
          -2.1258828979508335,
          -1.3035468010798874,
          -1.3035468010798874,
          -1.3035468010798874,
          -1.1690261244747544,
          -1.3536093826724043,
          -0.7767471512187865,
          -1.3035468010798874,
          -0.4636169410987808,
          -1.3035468010798874,
          -1.3035468010798874,
          -1.3536093826724043,
          -1.3035468010798874,
          -0.805770758621202,
          -1.3035468010798874,
          -1.3035468010798874,
          -1.1035608538763964,
          -1.1345802312255797,
          -1.3536093826724043,
          -1.928004447243624,
          -1.1690261244747544,
          -1.3035468010798874,
          -0.7767471512187865,
          -1.3536093826724043,
          -1.3536093826724043,
          -1.3035468010798874,
          -1.3035468010798874,
          -0.805770758621202,
          -0.7255961377853302,
          -1.4302284047849383,
          -1.3035468010798874,
          -0.8057707586212018,
          -1.3536093826724043,
          -2.0607839721614067,
          -1.3536093826724043,
          -0.805770758621202,
          -1.1690261244747544,
          -1.3536093826724043,
          -1.1690261244747544,
          -1.3536093826724043,
          -1.3035468010798874,
          -1.3035468010798874,
          -1.3035468010798874,
          -0.2789711087601011,
          -1.3536093826724043,
          -0.805770758621202,
          -1.1690261244747544,
          -1.3035468010798874,
          -1.3536093826724043,
          -2.078098116418154,
          -0.2789711087601011,
          -1.1332927894133025,
          -2.1813915313220975,
          -1.773854957461655,
          -1.773854957461655,
          -1.4442113753385397,
          -1.928004447243624,
          -1.3536093826724043,
          -1.3035468010798874,
          -1.928004447243624,
          -1.2182480138845955,
          -1.4442113753385397,
          -1.3536093826724043,
          -0.805770758621202,
          -1.1690261244747544,
          -1.3035468010798874,
          -1.3035468010798874,
          -1.4905653636977776,
          -1.1821370782244458,
          -1.3536093826724043,
          -0.6690083725901127,
          -1.3035468010798874,
          -0.2455543479096862,
          -1.3035468010798874,
          -0.7767471512187865,
          -1.773854957461655,
          -2.0283368643943964,
          -1.3035468010798874,
          -1.6013368963350818,
          -1.1922549951281303,
          -1.3035468010798874,
          -0.7424004191654844,
          -1.3536093826724043,
          -1.1035608538763964,
          -0.2789711087601011,
          -1.2739932199706214,
          -1.3536093826724043,
          -1.493806909513213,
          -1.773854957461655,
          -1.928004447243624,
          -1.3035468010798874,
          -1.2760789150029692,
          -1.1035608538763964,
          -1.3035468010798874,
          -1.3035468010798874,
          -1.3536093826724043,
          -0.7767471512187865,
          -1.3035468010798874,
          -1.1035608538763964,
          -1.3035468010798874,
          -1.3035468010798874,
          -0.855833340213719,
          -1.3035468010798874,
          -1.3035468010798874,
          -1.1332927894133025,
          -0.7561910401467943,
          -1.3035468010798874,
          -1.4302284047849383,
          -1.0269634260894442,
          -1.3536093826724043,
          -1.4839761718694002,
          -0.805770758621202,
          -1.1131584939067223,
          -1.773854957461655,
          -1.3035468010798874,
          -1.3035468010798874,
          -0.805770758621202,
          -0.2895547411190608,
          -1.1111635225787297,
          -1.1690261244747544,
          -1.3035468010798874,
          -1.3035468010798874,
          -1.5936024386560332,
          -1.3035468010798874,
          -1.6013368963350818,
          -1.1690261244747544,
          -0.4266720279587773,
          -1.3035468010798874,
          -0.9109917336512027,
          -0.805770758621202,
          -1.3035468010798874,
          -0.805770758621202,
          -2.1258828979508335,
          -1.3035468010798874,
          -1.5803220739594677,
          -0.7378742054028266,
          -1.1035608538763964,
          -0.2789711087601011,
          -1.3233745434189854,
          -0.9244480704174627,
          -1.1035608538763964,
          -1.6013368963350818,
          -0.805770758621202,
          -2.092368066008367,
          -0.7433303903683717,
          -1.1035608538763964,
          -1.3035468010798874,
          -1.3035468010798874,
          -0.855833340213719,
          -1.3536093826724043,
          -0.805770758621202,
          -1.1690261244747544,
          -0.805770758621202,
          -0.805770758621202,
          -0.7840231019062098,
          -0.855833340213719,
          -1.6013368963350818,
          -1.3035468010798874,
          -2.1080186813577377,
          -0.6690083725901127,
          -0.986200129410715,
          -0.7604962854251129,
          -0.855833340213719,
          -1.0793193668361358,
          -1.6013368963350818,
          -1.3035468010798874,
          -1.6013368963350818,
          -1.1035608538763964,
          -1.3035468010798874,
          -0.855833340213719,
          -1.3035468010798874,
          -1.4839761718694002,
          -2.1258828979508335,
          -1.3536093826724043,
          -1.3536093826724043,
          -1.493806909513213,
          -0.855833340213719,
          -1.3035468010798874,
          -1.3536093826724043,
          -1.1345802312255797,
          -1.3035468010798874,
          -1.3035468010798874,
          -0.2789711087601011,
          -1.3035468010798874,
          -1.3536093826724043,
          -1.3035468010798874,
          -0.7767471512187865,
          -1.3536093826724043,
          -1.3035468010798874,
          -0.7767471512187865,
          -1.3035468010798874,
          -1.3536093826724043,
          -1.3035468010798874,
          -1.1690261244747544,
          -0.38219781972602557,
          -0.7767471512187865,
          -1.493806909513213,
          -0.805770758621202,
          -1.3035468010798874,
          -0.6690083725901127,
          -1.3035468010798874,
          -1.928004447243624,
          -1.493806909513213,
          -1.493806909513213,
          -0.2789711087601011,
          -1.1690261244747544,
          -1.5423570226578067,
          -1.1838283755951169,
          -0.44940347485432697,
          -1.3035468010798874,
          -0.805770758621202
         ],
         "y": [
          -0.4067547959930646,
          -0.4067547959930525,
          -0.2497979423285695,
          -0.4627004326871343,
          -0.38437125962701796,
          0.010641457208786783,
          -0.24979794232857236,
          -0.3843712596270174,
          -0.0002810596106046724,
          -0.5123454978297896,
          -0.21318354996916422,
          -0.46270043268713174,
          -0.15723791327509612,
          -0.40675479599306386,
          -0.40675479599306386,
          -0.40675479599306386,
          -0.40675479599306386,
          -0.40675479599306386,
          -0.40675479599306386,
          -0.23084852211359475,
          -0.15723791327509612,
          -0.17752388179580844,
          -0.24979794232857236,
          -0.2862944185872537,
          -0.3843712596270174,
          -0.05394995597909959,
          -0.13485437690904978,
          -0.4493164133269644,
          -0.27352063928274617,
          -0.3843712596270174,
          -0.5123454978297896,
          -0.40675479599306386,
          -0.13485437690904978,
          -0.3843712596270174,
          -0.3843712596270174,
          -0.46270043268713174,
          -0.3843712596270174,
          -0.28868216615032527,
          -0.15723791327509612,
          -0.24979794232857236,
          -0.15723791327509612,
          -0.46270043268713174,
          -0.46270043268713174,
          -0.23972200575056488,
          -0.40675479599306386,
          -0.40675479599306386,
          -0.40675479599306386,
          -0.5123454978297896,
          -0.40675479599306386,
          -0.13485437690904978,
          -0.3843712596270174,
          0.01866836060437278,
          0.09037058898687927,
          -0.3843712596270174,
          -0.40675479599306386,
          -0.40675479599306386,
          -0.46270043268713174,
          -0.1795912948744706,
          -0.40675479599306386,
          -0.3843712596270174,
          0.01866836060437278,
          -0.46270043268713174,
          -0.40675479599306386,
          -0.40675479599306386,
          -0.04685627845355718,
          -0.04514431369331993,
          -0.24979794232857236,
          -0.15723791327509612,
          -0.2862944185872537,
          -0.15723791327509612,
          -0.46270043268713174,
          -0.15723791327509612,
          -0.0002810596106046724,
          -0.40675479599306386,
          -0.46270043268713174,
          -0.46270043268713174,
          -0.3843712596270174,
          -0.13485437690904978,
          -0.5123454978297896,
          -0.40675479599306386,
          -0.40675479599306386,
          -0.40675479599306386,
          -0.3843712596270174,
          0.06586582913019484,
          -0.40675479599306386,
          -0.49226506192583686,
          0.11470217707357143,
          -0.19530293789453546,
          -0.3843712596270174,
          -0.15723791327509612,
          -0.13485437690904978,
          -0.46270043268713174,
          -0.24979794232857236,
          -0.21318354996916422,
          -0.5123454978297896,
          -0.3392223821842924,
          -0.24979794232857236,
          -0.3843712596270174,
          -0.24979794232857236,
          -0.33753751276029964,
          -0.4493164133269644,
          0.10417359470294418,
          -0.40675479599306386,
          -0.40675479599306386,
          -0.15723791327509612,
          -0.24979794232857236,
          -0.3843712596270174,
          -0.15723791327509612,
          -0.24979794232857236,
          -0.17752388179580844,
          -0.05394995597909959,
          -0.3843712596270174,
          -0.3843712596270174,
          -0.3843712596270174,
          -0.05394995597909959,
          -0.24979794232857236,
          -0.24979794232857236,
          -0.4493164133269644,
          -0.5123454978297896,
          -0.3843712596270174,
          -0.4493164133269644,
          -0.40675479599306386,
          -0.40675479599306386,
          0.04407196430305044,
          -0.40675479599306386,
          -0.40675479599306386,
          -0.40675479599306386,
          -0.21318354996916422,
          -0.13485437690904978,
          -0.3843712596270174,
          -0.13485437690904978,
          -0.40675479599306386,
          -0.24979794232857236,
          -0.3843712596270174,
          -0.40675479599306386,
          -0.40675479599306386,
          -0.3843712596270174,
          -0.15723791327509612,
          -0.27413233991606845,
          -0.5134598912880237,
          -0.05394995597909959,
          -0.40675479599306386,
          -0.3843712596270174,
          -0.05394995597909959,
          -0.21318354996916422,
          -0.42692466081493613,
          -0.05394995597909959,
          -0.5134598912880237,
          0.6371450762958042,
          -0.3843712596270174,
          -0.40675479599306386,
          -0.46270043268713174,
          -0.3843712596270174,
          -0.05394995597909959,
          -0.5134598912880237,
          -0.40675479599306386,
          -0.40675479599306386,
          -0.40675479599306386,
          -0.05394995597909959,
          -0.3843712596270174,
          -0.24979794232857236,
          -0.40675479599306386,
          -0.16989690006441946,
          -0.40675479599306386,
          -0.40675479599306386,
          -0.3843712596270174,
          -0.40675479599306386,
          -0.15723791327509612,
          -0.40675479599306386,
          -0.40675479599306386,
          -0.08802063004233202,
          -0.19556585919864108,
          -0.3843712596270174,
          -0.46270043268713174,
          -0.05394995597909959,
          -0.40675479599306386,
          -0.24979794232857236,
          -0.3843712596270174,
          -0.3843712596270174,
          -0.40675479599306386,
          -0.40675479599306386,
          -0.15723791327509612,
          -0.21269137426521745,
          -0.21318354996916422,
          -0.40675479599306386,
          -0.1572379132750963,
          -0.3843712596270174,
          -0.547428259103786,
          -0.3843712596270174,
          -0.15723791327509612,
          -0.05394995597909959,
          -0.3843712596270174,
          -0.05394995597909959,
          -0.3843712596270174,
          -0.40675479599306386,
          -0.40675479599306386,
          -0.40675479599306386,
          -0.0002810596106046724,
          -0.3843712596270174,
          -0.15723791327509612,
          -0.05394995597909959,
          -0.40675479599306386,
          -0.3843712596270174,
          -0.5123454978297896,
          -0.0002810596106046724,
          0.04407196430305044,
          -0.5784179864014749,
          -0.4493164133269644,
          -0.4493164133269644,
          -0.4481644543415506,
          -0.46270043268713174,
          -0.3843712596270174,
          -0.40675479599306386,
          -0.46270043268713174,
          0.1490975081574889,
          -0.4481644543415506,
          -0.3843712596270174,
          -0.15723791327509612,
          -0.05394995597909959,
          -0.40675479599306386,
          -0.40675479599306386,
          0.01064145720878568,
          -0.04797951615315006,
          -0.3843712596270174,
          -0.23972200575056488,
          -0.40675479599306386,
          0.008149495759509587,
          -0.40675479599306386,
          -0.24979794232857236,
          -0.4493164133269644,
          -0.15914629373108802,
          -0.40675479599306386,
          -0.33753751276029964,
          0.17165599287354527,
          -0.40675479599306386,
          -0.2349415489022274,
          -0.3843712596270174,
          -0.08802063004233202,
          -0.0002810596106046724,
          0.2436268375381302,
          -0.3843712596270174,
          0.6371450762958042,
          -0.4493164133269644,
          -0.46270043268713174,
          -0.40675479599306386,
          -0.19979953060899683,
          -0.08802063004233202,
          -0.40675479599306386,
          -0.40675479599306386,
          -0.3843712596270174,
          -0.24979794232857236,
          -0.40675479599306386,
          -0.08802063004233202,
          -0.40675479599306386,
          -0.40675479599306386,
          -0.13485437690904978,
          -0.40675479599306386,
          -0.40675479599306386,
          0.04407196430305044,
          -0.4792603251695779,
          -0.40675479599306386,
          -0.21318354996916422,
          -0.3103180677999618,
          -0.3843712596270174,
          -0.3656818896378978,
          -0.15723791327509612,
          -0.01977597569116086,
          -0.4493164133269644,
          -0.40675479599306386,
          -0.40675479599306386,
          -0.15723791327509612,
          -0.1750566207860471,
          -0.028035610925811708,
          -0.05394995597909959,
          -0.40675479599306386,
          -0.40675479599306386,
          0.6284459723074519,
          -0.40675479599306386,
          -0.33753751276029964,
          -0.05394995597909959,
          0.024288062280257768,
          -0.40675479599306386,
          -0.17661356790541732,
          -0.15723791327509612,
          -0.40675479599306386,
          -0.15723791327509612,
          -0.5134598912880237,
          -0.40675479599306386,
          -0.26282861511182154,
          -0.20880760307942897,
          -0.08802063004233202,
          -0.0002810596106046724,
          0.3054976087153385,
          -0.22522882043771,
          -0.08802063004233202,
          -0.33753751276029964,
          -0.15723791327509612,
          -0.5623065508248682,
          -0.24136738695845814,
          -0.08802063004233202,
          -0.40675479599306386,
          -0.40675479599306386,
          -0.13485437690904978,
          -0.3843712596270174,
          -0.15723791327509612,
          -0.05394995597909959,
          -0.15723791327509612,
          -0.15723791327509612,
          -0.23576892008871533,
          -0.13485437690904978,
          -0.33753751276029964,
          -0.40675479599306386,
          0.08406546540450476,
          -0.23972200575056488,
          -0.11616500691993058,
          -0.19488875334588723,
          -0.13485437690904978,
          -0.1705801827776182,
          -0.33753751276029964,
          -0.40675479599306386,
          -0.33753751276029964,
          -0.08802063004233202,
          -0.40675479599306386,
          -0.13485437690904978,
          -0.40675479599306386,
          -0.3656818896378978,
          -0.5134598912880237,
          -0.3843712596270174,
          -0.3843712596270174,
          0.6371450762958042,
          -0.13485437690904978,
          -0.40675479599306386,
          -0.3843712596270174,
          -0.19556585919864108,
          -0.40675479599306386,
          -0.40675479599306386,
          -0.0002810596106046724,
          -0.40675479599306386,
          -0.3843712596270174,
          -0.40675479599306386,
          -0.24979794232857236,
          -0.3843712596270174,
          -0.40675479599306386,
          -0.24979794232857236,
          -0.40675479599306386,
          -0.3843712596270174,
          -0.40675479599306386,
          -0.05394995597909959,
          -0.5267939254160295,
          -0.24979794232857236,
          0.6371450762958042,
          -0.15723791327509612,
          -0.40675479599306386,
          -0.23972200575056488,
          -0.40675479599306386,
          -0.46270043268713174,
          0.6371450762958042,
          0.6371450762958042,
          -0.0002810596106046724,
          -0.05394995597909959,
          0.6063544800467238,
          -0.2556845692272083,
          0.3313664079698585,
          -0.40675479599306386,
          -0.15723791327509612
         ],
         "z": [
          -0.0036549947966136942,
          -0.0036549947966105006,
          0.0019125927922889095,
          0.001466707565354398,
          -0.006036662508200877,
          -0.01403022077458879,
          0.0019125927922921,
          -0.006036662508204476,
          0.010962010253167074,
          -0.00011319117632206033,
          0.01051612502622707,
          0.0014667075653522488,
          0.005394422664265453,
          -0.003654994796609344,
          -0.003654994796609344,
          -0.003654994796609344,
          -0.003654994796609344,
          -0.003654994796609344,
          -0.003654994796609344,
          -0.004396588207484252,
          0.005394422664265453,
          -0.023956595762711915,
          0.0019125927922921,
          0.0027051884234662545,
          -0.006036662508204476,
          0.0031193524628764504,
          0.0030127549526700924,
          -0.014646973152081836,
          0.023870467883386447,
          -0.006036662508204476,
          -0.00011319117632206033,
          -0.003654994796609344,
          0.0030127549526700924,
          -0.006036662508204476,
          -0.006036662508204476,
          0.0014667075653522488,
          -0.006036662508204476,
          -0.007892273502550694,
          0.005394422664265453,
          0.0019125927922921,
          0.005394422664265453,
          0.0014667075653522488,
          0.0014667075653522488,
          0.030719522104835507,
          -0.003654994796609344,
          -0.003654994796609344,
          -0.003654994796609344,
          -0.00011319117632206033,
          -0.003654994796609344,
          0.0030127549526700924,
          -0.006036662508204476,
          0.004652829253390607,
          -0.02410059073027231,
          -0.006036662508204476,
          -0.003654994796609344,
          -0.003654994796609344,
          0.0014667075653522488,
          0.04558406930463332,
          -0.003654994796609344,
          -0.006036662508204476,
          0.004652829253390607,
          0.0014667075653522488,
          -0.003654994796609344,
          -0.003654994796609344,
          -0.07188590069529124,
          0.046657832899960575,
          0.0019125927922921,
          0.005394422664265453,
          0.0027051884234662545,
          0.005394422664265453,
          0.0014667075653522488,
          0.005394422664265453,
          0.010962010253167074,
          -0.003654994796609344,
          0.0014667075653522488,
          0.0014667075653522488,
          -0.006036662508204476,
          0.0030127549526700924,
          -0.00011319117632206033,
          -0.003654994796609344,
          -0.003654994796609344,
          -0.003654994796609344,
          -0.006036662508204476,
          -0.004732777959124202,
          -0.003654994796609344,
          0.01659959666956921,
          0.07381810759915035,
          -0.016398974070041965,
          -0.006036662508204476,
          0.005394422664265453,
          0.0030127549526700924,
          0.0014667075653522488,
          0.0019125927922921,
          0.01051612502622707,
          -0.00011319117632206033,
          -0.0033557412907104394,
          0.0019125927922921,
          -0.006036662508204476,
          0.0019125927922921,
          -0.015782302216089745,
          -0.014646973152081836,
          0.01125830839897513,
          -0.003654994796609344,
          -0.003654994796609344,
          0.005394422664265453,
          0.0019125927922921,
          -0.006036662508204476,
          0.005394422664265453,
          0.0019125927922921,
          -0.023956595762711915,
          0.0031193524628764504,
          -0.006036662508204476,
          -0.006036662508204476,
          -0.006036662508204476,
          0.0031193524628764504,
          0.0019125927922921,
          0.0019125927922921,
          -0.014646973152081836,
          -0.00011319117632206033,
          -0.006036662508204476,
          -0.014646973152081836,
          -0.003654994796609344,
          -0.003654994796609344,
          -0.005163651316277666,
          -0.003654994796609344,
          -0.003654994796609344,
          -0.003654994796609344,
          0.01051612502622707,
          0.0030127549526700924,
          -0.006036662508204476,
          0.0030127549526700924,
          -0.003654994796609344,
          0.0019125927922921,
          -0.006036662508204476,
          -0.003654994796609344,
          -0.003654994796609344,
          -0.006036662508204476,
          0.005394422664265453,
          0.035869059582989096,
          -0.08214353169240686,
          0.0031193524628764504,
          -0.003654994796609344,
          -0.006036662508204476,
          0.0031193524628764504,
          0.01051612502622707,
          0.09298920975581482,
          0.0031193524628764504,
          -0.08214353169240686,
          -0.007441614352799584,
          -0.006036662508204476,
          -0.003654994796609344,
          0.0014667075653522488,
          -0.006036662508204476,
          0.0031193524628764504,
          -0.08214353169240686,
          -0.003654994796609344,
          -0.003654994796609344,
          -0.003654994796609344,
          0.0031193524628764504,
          -0.006036662508204476,
          0.0019125927922921,
          -0.003654994796609344,
          0.00018702226821404368,
          -0.003654994796609344,
          -0.003654994796609344,
          -0.006036662508204476,
          -0.003654994796609344,
          0.005394422664265453,
          -0.003654994796609344,
          -0.003654994796609344,
          -0.006732884755214934,
          0.0017455973469750218,
          -0.006036662508204476,
          0.0014667075653522488,
          0.0031193524628764504,
          -0.003654994796609344,
          0.0019125927922921,
          -0.006036662508204476,
          -0.006036662508204476,
          -0.003654994796609344,
          -0.003654994796609344,
          0.005394422664265453,
          -0.0916809134835358,
          0.01051612502622707,
          -0.003654994796609344,
          0.005394422664265195,
          -0.006036662508204476,
          -0.10576223735988444,
          -0.006036662508204476,
          0.005394422664265453,
          0.0031193524628764504,
          -0.006036662508204476,
          0.0031193524628764504,
          -0.006036662508204476,
          -0.003654994796609344,
          -0.003654994796609344,
          -0.003654994796609344,
          0.010962010253167074,
          -0.006036662508204476,
          0.005394422664265453,
          0.0031193524628764504,
          -0.003654994796609344,
          -0.006036662508204476,
          -0.00011319117632206033,
          0.010962010253167074,
          -0.005163651316277666,
          -0.07490249886451059,
          -0.014646973152081836,
          -0.014646973152081836,
          -0.017934671165680576,
          0.0014667075653522488,
          -0.006036662508204476,
          -0.003654994796609344,
          0.0014667075653522488,
          0.07557864136079805,
          -0.017934671165680576,
          -0.006036662508204476,
          0.005394422664265453,
          0.0031193524628764504,
          -0.003654994796609344,
          -0.003654994796609344,
          -0.014030220774589536,
          -0.05728179248026627,
          -0.006036662508204476,
          0.030719522104835507,
          -0.003654994796609344,
          0.0084963153630964,
          -0.003654994796609344,
          0.0019125927922921,
          -0.014646973152081836,
          -0.0331500081911475,
          -0.003654994796609344,
          -0.015782302216089745,
          -0.009615079475195746,
          -0.003654994796609344,
          -0.008177595945365343,
          -0.006036662508204476,
          -0.006732884755214934,
          0.010962010253167074,
          -0.002313844384312963,
          -0.006036662508204476,
          -0.007441614352799584,
          -0.014646973152081836,
          0.0014667075653522488,
          -0.003654994796609344,
          -0.005597555691206676,
          -0.006732884755214934,
          -0.003654994796609344,
          -0.003654994796609344,
          -0.006036662508204476,
          0.0019125927922921,
          -0.003654994796609344,
          -0.006732884755214934,
          -0.003654994796609344,
          -0.003654994796609344,
          0.0030127549526700924,
          -0.003654994796609344,
          -0.003654994796609344,
          -0.005163651316277666,
          0.08243749331648456,
          -0.003654994796609344,
          0.01051612502622707,
          0.027059679592174812,
          -0.006036662508204476,
          -0.01201801848885846,
          0.005394422664265453,
          -0.035631834479410485,
          -0.014646973152081836,
          -0.003654994796609344,
          -0.003654994796609344,
          0.005394422664265453,
          -0.01388202974517214,
          0.09475106223600563,
          0.0031193524628764504,
          -0.003654994796609344,
          -0.003654994796609344,
          0.12145031025635987,
          -0.003654994796609344,
          -0.015782302216089745,
          0.0031193524628764504,
          -0.01793874794992773,
          -0.003654994796609344,
          -0.0223803300506951,
          0.005394422664265453,
          -0.003654994796609344,
          0.005394422664265453,
          -0.08214353169240686,
          -0.003654994796609344,
          0.008936226284552897,
          -0.0992118362666787,
          -0.006732884755214934,
          0.010962010253167074,
          -0.011860654723702142,
          -0.02698816541080226,
          -0.006732884755214934,
          -0.015782302216089745,
          0.005394422664265453,
          -0.06983551671691242,
          -0.0005531020977786428,
          -0.006732884755214934,
          -0.003654994796609344,
          -0.003654994796609344,
          0.0030127549526700924,
          -0.006036662508204476,
          0.005394422664265453,
          0.0031193524628764504,
          0.005394422664265453,
          0.005394422664265453,
          -0.06411600204900055,
          0.0030127549526700924,
          -0.015782302216089745,
          -0.003654994796609344,
          -0.05551940341675849,
          0.030719522104835507,
          -0.002968601027983135,
          -0.0127111722184922,
          0.0030127549526700924,
          -0.07904662672766734,
          -0.015782302216089745,
          -0.003654994796609344,
          -0.015782302216089745,
          -0.006732884755214934,
          -0.003654994796609344,
          0.0030127549526700924,
          -0.003654994796609344,
          -0.01201801848885846,
          -0.08214353169240686,
          -0.006036662508204476,
          -0.006036662508204476,
          -0.007441614352799584,
          0.0030127549526700924,
          -0.003654994796609344,
          -0.006036662508204476,
          0.0017455973469750218,
          -0.003654994796609344,
          -0.003654994796609344,
          0.010962010253167074,
          -0.003654994796609344,
          -0.006036662508204476,
          -0.003654994796609344,
          0.0019125927922921,
          -0.006036662508204476,
          -0.003654994796609344,
          0.0019125927922921,
          -0.003654994796609344,
          -0.006036662508204476,
          -0.003654994796609344,
          0.0031193524628764504,
          -0.0047217767821604115,
          0.0019125927922921,
          -0.007441614352799584,
          0.005394422664265453,
          -0.003654994796609344,
          0.030719522104835507,
          -0.003654994796609344,
          0.0014667075653522488,
          -0.007441614352799584,
          -0.007441614352799584,
          0.010962010253167074,
          0.0031193524628764504,
          0.06683380278694252,
          -0.038455688118332505,
          0.015381050624070166,
          -0.003654994796609344,
          0.005394422664265453
         ]
        },
        {
         "customdata": [
          [
           "SHA-256"
          ],
          [
           "Ethash"
          ],
          [
           "Scrypt"
          ],
          [
           "CryptoNight-V7"
          ],
          [
           "Ethash"
          ],
          [
           "Equihash"
          ],
          [
           "Multiple"
          ],
          [
           "Scrypt"
          ],
          [
           "X11"
          ],
          [
           "SHA-256"
          ],
          [
           "Scrypt"
          ],
          [
           "SHA-256"
          ],
          [
           "Multiple"
          ],
          [
           "Scrypt"
          ],
          [
           "SHA-256"
          ],
          [
           "Scrypt"
          ],
          [
           "Scrypt"
          ],
          [
           "Quark"
          ],
          [
           "Groestl"
          ],
          [
           "Scrypt"
          ],
          [
           "X11"
          ],
          [
           "Scrypt"
          ],
          [
           "Scrypt"
          ],
          [
           "Scrypt"
          ],
          [
           "X11"
          ],
          [
           "Multiple"
          ],
          [
           "Scrypt"
          ],
          [
           "SHA-256"
          ],
          [
           "Scrypt"
          ],
          [
           "Scrypt"
          ],
          [
           "Scrypt"
          ],
          [
           "Scrypt"
          ],
          [
           "Scrypt"
          ],
          [
           "Scrypt"
          ],
          [
           "SHA-256"
          ],
          [
           "Scrypt"
          ],
          [
           "NeoScrypt"
          ],
          [
           "Scrypt"
          ],
          [
           "Scrypt"
          ],
          [
           "Scrypt"
          ],
          [
           "Multiple"
          ],
          [
           "Scrypt"
          ],
          [
           "SHA-256"
          ],
          [
           "Scrypt"
          ],
          [
           "Scrypt"
          ],
          [
           "Scrypt"
          ],
          [
           "Scrypt"
          ],
          [
           "Scrypt"
          ],
          [
           "HybridScryptHash256"
          ],
          [
           "Scrypt"
          ],
          [
           "SHA-256"
          ],
          [
           "Scrypt"
          ],
          [
           "SHA-256"
          ],
          [
           "Scrypt"
          ],
          [
           "Scrypt"
          ],
          [
           "Scrypt"
          ],
          [
           "Scrypt"
          ],
          [
           "Scrypt"
          ],
          [
           "Scrypt-n"
          ],
          [
           "Scrypt"
          ],
          [
           "SHA-256"
          ],
          [
           "SHA-256"
          ],
          [
           "SHA-256"
          ],
          [
           "SHA-256"
          ],
          [
           "SHA-256"
          ],
          [
           "SHA-256"
          ],
          [
           "X11"
          ],
          [
           "Scrypt"
          ],
          [
           "X11"
          ],
          [
           "Lyra2REv2"
          ],
          [
           "Scrypt"
          ],
          [
           "SHA-256"
          ],
          [
           "CryptoNight"
          ],
          [
           "CryptoNight"
          ],
          [
           "Scrypt"
          ],
          [
           "SHA-256"
          ],
          [
           "Scrypt"
          ],
          [
           "Scrypt"
          ],
          [
           "Scrypt"
          ],
          [
           "Scrypt"
          ],
          [
           "Scrypt"
          ],
          [
           "Momentum"
          ],
          [
           "Stanford Folding"
          ],
          [
           "Multiple"
          ],
          [
           "QuBit"
          ],
          [
           "Scrypt"
          ],
          [
           "Scrypt"
          ],
          [
           "SHA-256"
          ],
          [
           "M7 POW"
          ],
          [
           "Scrypt"
          ],
          [
           "X11"
          ],
          [
           "Scrypt"
          ],
          [
           "SHA-256"
          ],
          [
           "Scrypt"
          ],
          [
           "X11"
          ],
          [
           "X11"
          ],
          [
           "Lyra2RE"
          ],
          [
           "SHA-256"
          ],
          [
           "X11"
          ],
          [
           "Scrypt"
          ],
          [
           "Scrypt"
          ],
          [
           "Ethash"
          ],
          [
           "Blake2b"
          ],
          [
           "X11"
          ],
          [
           "SHA-256"
          ],
          [
           "Scrypt"
          ],
          [
           "Scrypt"
          ],
          [
           "1GB AES Pattern Search"
          ],
          [
           "Scrypt"
          ],
          [
           "CryptoNight"
          ],
          [
           "SHA-256"
          ],
          [
           "SHA-256"
          ],
          [
           "X11"
          ],
          [
           "Scrypt-n"
          ],
          [
           "X11"
          ],
          [
           "Scrypt"
          ],
          [
           "Dagger"
          ],
          [
           "Scrypt"
          ],
          [
           "CryptoNight-Lite"
          ],
          [
           "X11GOST"
          ],
          [
           "SHA-256"
          ],
          [
           "Scrypt"
          ],
          [
           "X11"
          ],
          [
           "SHA-256"
          ],
          [
           "Scrypt"
          ],
          [
           "X11"
          ],
          [
           "Equihash"
          ],
          [
           "CryptoNight"
          ],
          [
           "SHA-256"
          ],
          [
           "Multiple"
          ],
          [
           "Scrypt"
          ],
          [
           "SHA-256"
          ],
          [
           "Scrypt"
          ],
          [
           "Scrypt"
          ],
          [
           "Scrypt-n"
          ],
          [
           "Lyra2Z"
          ],
          [
           "SHA-256"
          ],
          [
           "Quark"
          ],
          [
           "Ethash"
          ],
          [
           "SHA-256"
          ],
          [
           "Equihash"
          ],
          [
           "Scrypt"
          ],
          [
           "Equihash"
          ],
          [
           "X11"
          ],
          [
           "X11"
          ],
          [
           "CryptoNight"
          ],
          [
           "Scrypt"
          ],
          [
           "CryptoNight"
          ],
          [
           "Lyra2RE"
          ],
          [
           "X11"
          ],
          [
           "X11"
          ],
          [
           "Scrypt"
          ],
          [
           "CryptoNight-V7"
          ],
          [
           "Keccak"
          ],
          [
           "Scrypt"
          ],
          [
           "X11"
          ],
          [
           "Equihash"
          ],
          [
           "Scrypt"
          ],
          [
           "Lyra2RE"
          ],
          [
           "Ethash"
          ],
          [
           "X11"
          ],
          [
           "Dagger-Hashimoto"
          ],
          [
           "Scrypt"
          ],
          [
           "NIST5"
          ],
          [
           "Scrypt"
          ],
          [
           "Scrypt"
          ],
          [
           "Scrypt"
          ],
          [
           "SHA-256"
          ],
          [
           "Scrypt"
          ],
          [
           "CryptoNight-V7"
          ],
          [
           "Argon2d"
          ],
          [
           "Blake2b"
          ],
          [
           "Cloverhash"
          ],
          [
           "CryptoNight"
          ],
          [
           "X11"
          ],
          [
           "Scrypt"
          ],
          [
           "Scrypt"
          ],
          [
           "X11"
          ],
          [
           "X11"
          ],
          [
           "CryptoNight"
          ],
          [
           "Time Travel"
          ],
          [
           "Scrypt"
          ],
          [
           "Keccak"
          ],
          [
           "X11"
          ],
          [
           "SHA-256"
          ],
          [
           "Scrypt"
          ],
          [
           "Scrypt"
          ],
          [
           "Scrypt"
          ],
          [
           "Scrypt"
          ],
          [
           "Scrypt"
          ],
          [
           "Scrypt"
          ],
          [
           "Scrypt"
          ],
          [
           "Scrypt"
          ],
          [
           "CryptoNight"
          ],
          [
           "Equihash"
          ],
          [
           "X11"
          ],
          [
           "NeoScrypt"
          ],
          [
           "Equihash"
          ],
          [
           "Dagger"
          ],
          [
           "Scrypt"
          ],
          [
           "X11"
          ],
          [
           "NeoScrypt"
          ],
          [
           "Scrypt"
          ],
          [
           "Ethash"
          ],
          [
           "Scrypt"
          ],
          [
           "NeoScrypt"
          ],
          [
           "Multiple"
          ],
          [
           "CryptoNight"
          ],
          [
           "CryptoNight"
          ],
          [
           "Ethash"
          ],
          [
           "X11"
          ],
          [
           "SHA-256"
          ],
          [
           "CryptoNight-V7"
          ],
          [
           "Scrypt"
          ],
          [
           "BLAKE256"
          ],
          [
           "X11"
          ],
          [
           "NeoScrypt"
          ],
          [
           "NeoScrypt"
          ],
          [
           "Scrypt"
          ],
          [
           "X11"
          ],
          [
           "SHA-256"
          ],
          [
           "C11"
          ],
          [
           "Ethash"
          ],
          [
           "CryptoNight"
          ],
          [
           "SkunkHash"
          ],
          [
           "CryptoNight"
          ],
          [
           "Equihash"
          ],
          [
           "Skein"
          ],
          [
           "Scrypt"
          ],
          [
           "Dagger"
          ],
          [
           "Lyra2REv2"
          ],
          [
           "Scrypt"
          ],
          [
           "Scrypt"
          ],
          [
           "Scrypt"
          ],
          [
           "NeoScrypt"
          ],
          [
           "Equihash"
          ],
          [
           "X11"
          ],
          [
           "Ethash"
          ],
          [
           "X11"
          ],
          [
           "CryptoNight"
          ],
          [
           "NeoScrypt"
          ],
          [
           "Scrypt"
          ],
          [
           "IMesh"
          ],
          [
           "Equihash"
          ],
          [
           "Equihash"
          ],
          [
           "Equihash"
          ],
          [
           "Lyra2Z"
          ],
          [
           "X11"
          ],
          [
           "CryptoNight"
          ],
          [
           "NIST5"
          ],
          [
           "Lyra2RE"
          ],
          [
           "Tribus"
          ],
          [
           "Lyra2Z"
          ],
          [
           "CryptoNight"
          ],
          [
           "CryptoNight Heavy"
          ],
          [
           "CryptoNight"
          ],
          [
           "Jump Consistent Hash"
          ],
          [
           "CryptoNight"
          ],
          [
           "X16R"
          ],
          [
           "HMQ1725"
          ],
          [
           "X11"
          ],
          [
           "Scrypt"
          ],
          [
           "CryptoNight-V7"
          ],
          [
           "Cryptonight-GPU"
          ],
          [
           "XEVAN"
          ],
          [
           "CryptoNight Heavy"
          ],
          [
           "Lyra2REv2"
          ],
          [
           "SHA-256"
          ],
          [
           "X11"
          ],
          [
           "X16R"
          ],
          [
           "Equihash"
          ],
          [
           "Quark"
          ],
          [
           "CryptoNight Heavy X"
          ],
          [
           "Lyra2Z"
          ],
          [
           "Ethash"
          ],
          [
           "SHA-256"
          ],
          [
           "Ethash"
          ],
          [
           "CryptoNight"
          ],
          [
           "SkunkHash"
          ],
          [
           "Argon2"
          ],
          [
           "Blake"
          ],
          [
           "Blake"
          ],
          [
           "SHA-256"
          ],
          [
           "Equihash"
          ],
          [
           "Exosis"
          ],
          [
           "Scrypt"
          ],
          [
           "Equihash"
          ],
          [
           "Equihash"
          ],
          [
           "QuBit"
          ],
          [
           "Equihash1927"
          ],
          [
           "SHA-256"
          ],
          [
           "SHA-256"
          ],
          [
           "X13"
          ],
          [
           "SHA-256"
          ],
          [
           "X11"
          ],
          [
           "Scrypt"
          ],
          [
           "NeoScrypt"
          ],
          [
           "Blake"
          ],
          [
           "CryptoNight"
          ],
          [
           "Scrypt"
          ],
          [
           "SHA-256"
          ],
          [
           "CryptoNight"
          ],
          [
           "Scrypt"
          ],
          [
           "Groestl"
          ],
          [
           "Scrypt"
          ],
          [
           "Scrypt"
          ],
          [
           "Scrypt"
          ],
          [
           "SHA3-256"
          ],
          [
           "Multiple"
          ],
          [
           "Equihash+Scrypt"
          ],
          [
           "Ethash"
          ],
          [
           "Ethash"
          ],
          [
           "CryptoNight"
          ],
          [
           "Equihash"
          ]
         ],
         "hoverlabel": {
          "namelength": 0
         },
         "hovertemplate": "<b>%{hovertext}</b><br><br>Class=%{marker.color}<br>PC 1=%{x}<br>PC 2=%{y}<br>PC 3=%{z}<br>Algorithm=%{customdata[0]}",
         "hovertext": [
          "Bitcoin",
          "Ethereum",
          "Litecoin",
          "Monero",
          "Ethereum Classic",
          "ZCash",
          "DigiByte",
          "ProsperCoin",
          "Spreadcoin",
          "ACoin",
          "Argentum",
          "BetaCoin",
          "MyriadCoin",
          "MoonCoin",
          "ZetaCoin",
          "SexCoin",
          "Quatloo",
          "QuarkCoin",
          "Riecoin",
          "Digitalcoin ",
          "LimeCoinX",
          "BitMark",
          "Catcoin",
          "CannaCoin",
          "CryptCoin",
          "Verge",
          "DarkShibe",
          "DevCoin",
          "EarthCoin",
          "E-Gulden",
          "Elacoin",
          "Einsteinium",
          "Emerald",
          "Flappy Coin",
          "FireRoosterCoin",
          "Franko",
          "FeatherCoin",
          "GrandCoin",
          "GlobalCoin",
          "GoldCoin",
          "HunterCoin",
          "Infinite Coin",
          "IXcoin",
          "KrugerCoin",
          "LuckyCoin",
          "Litebar ",
          "LitecoinDark",
          "MegaCoin",
          "MediterraneanCoin",
          "MinCoin",
          "NoirBits",
          "NobleCoin",
          "Namecoin",
          "NyanCoin",
          "RipOffCoin",
          "RonPaulCoin",
          "StableCoin",
          "SmartCoin",
          "SpainCoin",
          "SecureCoin",
          "SysCoin",
          "TigerCoin",
          "TerraCoin",
          "Umbrella",
          "UnbreakableCoin",
          "Unobtanium",
          "UroCoin",
          "ViaCoin",
          "VootCoin",
          "Vertcoin",
          "WorldCoin",
          "JouleCoin",
          "ByteCoin",
          "DigitalNote ",
          "MonaCoin",
          "Sling Coin",
          "Gulden",
          "PesetaCoin",
          "Wild Beast Coin",
          "Flo",
          "ArtByte",
          "BitCredit",
          "Folding Coin",
          "Unitus",
          "CypherPunkCoin",
          "OmniCron",
          "GreenCoin",
          "Unattanium",
          "Cryptonite",
          "Gridmaster",
          "ConSpiracy Coin ",
          "MasterCoin",
          "SoonCoin",
          "1Credit",
          "Quicksilver coin",
          "MarsCoin ",
          "Crypto",
          "Anarchists Prime",
          "BowsCoin",
          "Song Coin",
          "BitZeny",
          "Expanse",
          "Siacoin",
          "MindCoin",
          "I0coin",
          "DogeCoinDark",
          "Revolution VR",
          "HOdlcoin",
          "Gamecredits",
          "Dashcoin",
          "CarpeDiemCoin",
          "Phalanx",
          "SunShotCoin",
          "HempCoin",
          "Adzcoin",
          "VirtaCoin",
          "SoilCoin",
          "YoCoin",
          "AEON",
          "SibCoin",
          "Anti Bitcoin",
          "Francs",
          "BolivarCoin",
          "Clinton",
          "Omni",
          "PizzaCoin",
          "Komodo",
          "Karbo",
          "ZayedCoin",
          "Circuits of Value",
          "DopeCoin",
          "DollarCoin",
          "Shilling",
          "GBR Coin",
          "FujiCoin",
          "ZCoin",
          "LeaCoin",
          "Zurcoin",
          "Elementrem",
          "CashOut",
          "ZClassic",
          "KiloCoin",
          "Hush",
          "ArtexCoin",
          "Kurrent",
          "Cannabis Industry Coin",
          "OsmiumCoin",
          "Bikercoins",
          "HexxCoin",
          "MarxCoin",
          "PacCoin",
          "Solarflarecoin",
          "Citadel",
          "CreativeChain",
          "BeaverCoin",
          "VaultCoin",
          "Zero",
          "Canada eCoin",
          "Zoin",
          "Musicoin",
          "BnrtxCoin",
          "DubaiCoin",
          "EB3coin",
          "Coinonat",
          "Bitcoin Scrypt",
          "BenjiRolls",
          "ParallelCoin",
          "ILCoin",
          "EquiTrader",
          "Quantum Resistant Ledger",
          "Dynamic",
          "Nano",
          "ChanCoin",
          "Dinastycoin",
          "DigitalPrice",
          "Unify",
          "SocialCoin",
          "ArcticCoin",
          "DAS",
          "LeviarCoin",
          "Bitcore",
          "gCn Coin",
          "SmartCash",
          "Onix",
          "Bitcoin Cash",
          "CampusCoin",
          "Sojourn Coin",
          "NewYorkCoin",
          "LiteBitcoin",
          "FrazCoin",
          "Kronecoin",
          "AdCoin",
          "Linx",
          "Sumokoin",
          "BitcoinZ",
          "Elements",
          "VIVO Coin",
          "Bitcoin Gold",
          "Pirl",
          "eBoost",
          "Pura",
          "Innova",
          "Bitdeal",
          "Ellaism",
          "Sakuracoin",
          "GoByte",
          "SHIELD",
          "UltraNote",
          "BitCoal",
          "DaxxCoin",
          "AC3",
          "CHIPS",
          "Lethean",
          "PopularCoin",
          "Photon",
          "Sucre",
          "SparksPay",
          "GunCoin",
          "IrishCoin",
          "Pioneer Coin",
          "UnitedBitcoin",
          "Interzone",
          "1717 Masonic Commemorative Token",
          "TurtleCoin",
          "MUNcoin",
          "Niobio Cash",
          "Bitcoin Private",
          "Skeincoin",
          "ShareChain",
          "Travelflex",
          "KREDS",
          "BitFlip",
          "LottoCoin",
          "LeafCoin",
          "Cerberus",
          "Bitcoin Hush",
          "Crypto Improvement Fund",
          "Callisto Network",
          "Curium",
          "BitTube",
          "Dinero",
          "Poseidon",
          "Aidos Kuneen",
          "Snowgem",
          "Bitrolium",
          "Bitcoin Interest",
          "Alpenschillling",
          "FuturoCoin",
          "Monero Classic",
          "Jumpcoin",
          "Infinex",
          "KEYCO",
          "GINcoin",
          "PlatinCoin",
          "Loki",
          "Newton Coin",
          "MassGrid",
          "PluraCoin",
          "Motion",
          "PlusOneCoin",
          "Axe",
          "HexCoin",
          "Webchain",
          "Ryo",
          "Urals Coin",
          "Qwertycoin",
          "NIX",
          "Project Pai",
          "Azart",
          "Xchange",
          "CrypticCoin",
          "ZestCoin",
          "X-CASH",
          "Actinium",
          "ETHER-1",
          "Bitcoin SV",
          "Bitcoiin2Gen",
          "FREDEnergy",
          "C25 Coin",
          "Aquachain",
          "Universal Molecule",
          "Lithium",
          "Smart Bitcoin",
          "PirateCash",
          "Exosis",
          "Block-Logic",
          "Beam",
          "Bithereum",
          "SLICE",
          "Vidulum",
          "BlockStamp",
          "BLAST",
          "Bitcoin Rhodium",
          "GlobalToken",
          "Boolberry",
          "SolarCoin",
          "UFO Coin",
          "BlakeCoin",
          "FantomCoin ",
          "Crypto Escudo",
          "Crown Coin",
          "Quazar Coin",
          "SmileyCoin",
          "Groestlcoin",
          "Bata",
          "Pakcoin",
          "Dotcoin",
          "Fiii",
          "JoinCoin",
          "Vollar",
          "Reality Clash",
          "iOlite",
          "Beldex",
          "Horizen"
         ],
         "legendgroup": "Class=0",
         "marker": {
          "color": [
           0,
           0,
           0,
           0,
           0,
           0,
           0,
           0,
           0,
           0,
           0,
           0,
           0,
           0,
           0,
           0,
           0,
           0,
           0,
           0,
           0,
           0,
           0,
           0,
           0,
           0,
           0,
           0,
           0,
           0,
           0,
           0,
           0,
           0,
           0,
           0,
           0,
           0,
           0,
           0,
           0,
           0,
           0,
           0,
           0,
           0,
           0,
           0,
           0,
           0,
           0,
           0,
           0,
           0,
           0,
           0,
           0,
           0,
           0,
           0,
           0,
           0,
           0,
           0,
           0,
           0,
           0,
           0,
           0,
           0,
           0,
           0,
           0,
           0,
           0,
           0,
           0,
           0,
           0,
           0,
           0,
           0,
           0,
           0,
           0,
           0,
           0,
           0,
           0,
           0,
           0,
           0,
           0,
           0,
           0,
           0,
           0,
           0,
           0,
           0,
           0,
           0,
           0,
           0,
           0,
           0,
           0,
           0,
           0,
           0,
           0,
           0,
           0,
           0,
           0,
           0,
           0,
           0,
           0,
           0,
           0,
           0,
           0,
           0,
           0,
           0,
           0,
           0,
           0,
           0,
           0,
           0,
           0,
           0,
           0,
           0,
           0,
           0,
           0,
           0,
           0,
           0,
           0,
           0,
           0,
           0,
           0,
           0,
           0,
           0,
           0,
           0,
           0,
           0,
           0,
           0,
           0,
           0,
           0,
           0,
           0,
           0,
           0,
           0,
           0,
           0,
           0,
           0,
           0,
           0,
           0,
           0,
           0,
           0,
           0,
           0,
           0,
           0,
           0,
           0,
           0,
           0,
           0,
           0,
           0,
           0,
           0,
           0,
           0,
           0,
           0,
           0,
           0,
           0,
           0,
           0,
           0,
           0,
           0,
           0,
           0,
           0,
           0,
           0,
           0,
           0,
           0,
           0,
           0,
           0,
           0,
           0,
           0,
           0,
           0,
           0,
           0,
           0,
           0,
           0,
           0,
           0,
           0,
           0,
           0,
           0,
           0,
           0,
           0,
           0,
           0,
           0,
           0,
           0,
           0,
           0,
           0,
           0,
           0,
           0,
           0,
           0,
           0,
           0,
           0,
           0,
           0,
           0,
           0,
           0,
           0,
           0,
           0,
           0,
           0,
           0,
           0,
           0,
           0,
           0,
           0,
           0,
           0,
           0,
           0,
           0,
           0,
           0,
           0,
           0,
           0,
           0,
           0,
           0,
           0,
           0,
           0,
           0,
           0,
           0,
           0,
           0,
           0,
           0,
           0,
           0,
           0,
           0,
           0,
           0,
           0,
           0,
           0,
           0,
           0,
           0,
           0,
           0,
           0,
           0,
           0,
           0,
           0,
           0,
           0,
           0,
           0,
           0,
           0,
           0,
           0,
           0,
           0,
           0
          ],
          "coloraxis": "coloraxis",
          "symbol": "diamond"
         },
         "mode": "markers",
         "name": "Class=0",
         "scene": "scene",
         "showlegend": true,
         "type": "scatter3d",
         "x": [
          1.5075002124884125,
          2.1520762026209694,
          0.9807005626273106,
          2.147390006586514,
          2.152076202620972,
          1.9946926225881378,
          1.8267085825782214,
          0.9807005626273099,
          0.9306379810347924,
          1.507500212488411,
          0.9807005626273099,
          1.507500212488411,
          1.8267085825782214,
          0.9807005626273099,
          1.507500212488411,
          0.9807005626273099,
          0.9807005626273099,
          0.6829104673721154,
          1.2138613068540758,
          0.9807005626273099,
          0.9306379810347924,
          0.9807005626273099,
          0.9807005626273099,
          0.9807005626273099,
          0.9306379810347924,
          1.8267085825782214,
          0.9807005626273099,
          1.507500212488411,
          0.9807005626273099,
          0.9807005626273099,
          0.9807005626273099,
          0.9807005626273099,
          0.9807005626273099,
          0.9807005626273099,
          1.507500212488411,
          0.9807005626273099,
          1.6152389911170852,
          0.9807005626273099,
          0.9807005626273099,
          0.9807005626273099,
          1.8267085825782214,
          0.9807005626273099,
          1.507500212488411,
          0.9807005626273099,
          0.9807005626273099,
          0.9807005626273099,
          0.9807005626273099,
          0.9807005626273099,
          2.2751900225597756,
          0.9807005626273099,
          1.507500212488411,
          0.9807005626273099,
          1.507500212488411,
          0.9807005626273099,
          0.9807005626273099,
          0.9807005626273099,
          0.9807005626273099,
          0.9807005626273099,
          2.2264353541203517,
          0.9807005626273099,
          1.507500212488411,
          1.507500212488411,
          1.507500212488411,
          1.507500212488411,
          1.507500212488411,
          1.507500212488411,
          0.9306379810347924,
          0.9807005626273099,
          0.9306379810347924,
          1.5409169733388262,
          0.9807005626273099,
          1.507500212488411,
          2.3587354533012306,
          2.3587354533012306,
          0.9807005626273099,
          1.507500212488411,
          0.9807005626273099,
          0.9807005626273099,
          0.9807005626273099,
          0.9807005626273099,
          0.9807005626273099,
          2.3929707248453544,
          2.275014774715576,
          1.8267085825782214,
          1.1496671324816183,
          0.9807005626273099,
          0.9807005626273099,
          1.507500212488411,
          2.2971362095132277,
          0.9807005626273099,
          0.9306379810347924,
          0.9807005626273099,
          1.507500212488411,
          0.9807005626273099,
          0.9306379810347924,
          0.9306379810347924,
          2.3343914385286175,
          1.507500212488411,
          0.9306379810347924,
          0.9807005626273099,
          0.9807005626273099,
          2.1520762026209725,
          2.233768737563658,
          0.9306379810347924,
          1.507500212488411,
          0.9807005626273099,
          0.9807005626273099,
          2.075361828029533,
          0.9807005626273099,
          2.3587354533012306,
          1.507500212488411,
          1.507500212488411,
          0.9306379810347924,
          2.2264353541203517,
          0.9306379810347924,
          0.9807005626273099,
          2.202301068581178,
          0.9807005626273099,
          2.292955489757818,
          2.2367222360341543,
          1.507500212488411,
          0.9807005626273099,
          0.9306379810347924,
          1.507500212488411,
          0.9807005626273099,
          0.9306379810347924,
          1.2117078124890477,
          2.3587354533012306,
          1.507500212488411,
          1.8267085825782214,
          0.9807005626273099,
          1.507500212488411,
          0.9807005626273099,
          0.9807005626273099,
          2.2264353541203517,
          2.293591852893586,
          1.507500212488411,
          0.6829104673721154,
          2.1520762026209725,
          1.507500212488411,
          1.9946926225881367,
          0.9807005626273099,
          1.9946926225881367,
          0.9306379810347924,
          0.9306379810347924,
          2.3587354533012306,
          0.9807005626273099,
          2.3587354533012306,
          2.3343914385286175,
          0.9306379810347924,
          0.9306379810347924,
          0.9807005626273099,
          2.147390006586514,
          1.5002242618009878,
          0.9807005626273099,
          0.9306379810347924,
          1.9946926225881367,
          0.9807005626273099,
          2.3343914385286175,
          2.1520762026209725,
          0.9306379810347924,
          2.266122012252272,
          0.9807005626273099,
          0.510392406245542,
          0.9807005626273099,
          0.9807005626273099,
          0.9807005626273099,
          1.507500212488411,
          0.9807005626273099,
          2.147390006586514,
          2.183419983586596,
          2.233768737563658,
          2.073211548308968,
          2.3587354533012306,
          0.9306379810347924,
          0.9807005626273099,
          0.9807005626273099,
          0.9306379810347924,
          0.9306379810347924,
          2.3587354533012306,
          2.4082643552399423,
          0.9807005626273099,
          1.5002242618009878,
          0.9306379810347924,
          1.507500212488411,
          0.9807005626273099,
          0.9807005626273099,
          0.9807005626273099,
          0.9807005626273099,
          0.9807005626273099,
          0.9807005626273099,
          0.9807005626273099,
          0.9807005626273099,
          2.3587354533012306,
          1.9946926225881367,
          0.9306379810347924,
          1.6152389911170852,
          1.9946926225881367,
          2.202301068581178,
          0.9807005626273099,
          0.9306379810347924,
          1.6152389911170852,
          0.9807005626273099,
          2.1520762026209725,
          0.9807005626273099,
          1.6152389911170852,
          1.8267085825782214,
          2.3587354533012306,
          2.3587354533012306,
          2.1520762026209725,
          0.9306379810347924,
          1.507500212488411,
          2.147390006586514,
          0.9807005626273099,
          1.2835772418225755,
          0.9306379810347924,
          1.6152389911170852,
          1.6152389911170852,
          0.9807005626273099,
          0.9306379810347924,
          1.507500212488411,
          1.2572839376177534,
          0.36560488137246006,
          2.3587354533012306,
          1.5418469445417133,
          2.3587354533012306,
          1.9946926225881367,
          0.8400359883686574,
          0.9807005626273099,
          2.202301068581178,
          1.5409169733388262,
          0.9807005626273099,
          0.9807005626273099,
          0.9807005626273099,
          1.6152389911170852,
          1.9946926225881367,
          0.9306379810347924,
          2.1520762026209725,
          0.9306379810347924,
          2.3587354533012306,
          1.6152389911170852,
          0.9807005626273099,
          2.367128463868463,
          1.9946926225881367,
          1.9946926225881367,
          1.9946926225881367,
          2.293591852893586,
          0.9306379810347924,
          2.3587354533012306,
          0.510392406245542,
          2.3343914385286175,
          2.310674249389816,
          2.293591852893586,
          2.3587354533012306,
          2.2337585289532846,
          2.3587354533012306,
          1.9891288821500617,
          2.3587354533012306,
          1.359799293289734,
          2.295962648956981,
          0.9306379810347924,
          0.9807005626273099,
          2.147390006586514,
          2.4264979636621673,
          0.8002711918377964,
          2.2337585289532846,
          1.5409169733388262,
          1.507500212488411,
          0.9306379810347924,
          1.359799293289734,
          1.9946926225881367,
          0.6829104673721154,
          2.336670484107002,
          2.293591852893586,
          2.1520762026209725,
          1.507500212488411,
          2.1520762026209725,
          2.3587354533012306,
          1.5418469445417133,
          2.191890640337159,
          1.7968430065241656,
          1.7968430065241656,
          1.507500212488411,
          0.20822130133962463,
          2.0838197628131447,
          0.9807005626273099,
          1.9946926225881367,
          1.9946926225881367,
          1.1496671324816183,
          2.1628185431704914,
          1.507500212488411,
          1.507500212488411,
          0.35624291646357326,
          1.507500212488411,
          0.9306379810347924,
          0.9807005626273099,
          1.6152389911170852,
          1.7968430065241656,
          2.3587354533012306,
          0.9807005626273099,
          1.507500212488411,
          2.3587354533012306,
          0.9807005626273099,
          1.2138613068540758,
          0.9807005626273099,
          0.9807005626273099,
          0.9807005626273099,
          3.675470125656865,
          1.8267085825782214,
          2.219314853745803,
          2.1520762026209725,
          2.1520762026209725,
          2.3587354533012306,
          1.9946926225881367
         ],
         "y": [
          0.11576402236625165,
          0.18965259471384813,
          -0.04119283129823002,
          0.28798701674163235,
          0.18965259471384674,
          0.19050534390878074,
          0.134713442581233,
          -0.041192831298236275,
          -0.018809294932189965,
          0.11576402236625565,
          -0.041192831298236275,
          0.11576402236625565,
          0.134713442581233,
          -0.041192831298236275,
          0.11576402236625565,
          -0.041192831298236275,
          -0.041192831298236275,
          0.02802445193452796,
          0.07926754610757422,
          -0.041192831298236275,
          -0.018809294932189965,
          -0.041192831298236275,
          -0.041192831298236275,
          -0.041192831298236275,
          -0.018809294932189965,
          0.134713442581233,
          -0.041192831298236275,
          0.11576402236625565,
          -0.041192831298236275,
          -0.041192831298236275,
          -0.041192831298236275,
          -0.041192831298236275,
          -0.041192831298236275,
          -0.041192831298236275,
          0.11576402236625565,
          -0.041192831298236275,
          0.12583995894426286,
          -0.041192831298236275,
          -0.041192831298236275,
          -0.041192831298236275,
          0.134713442581233,
          -0.041192831298236275,
          0.11576402236625565,
          -0.041192831298236275,
          -0.041192831298236275,
          -0.041192831298236275,
          -0.041192831298236275,
          -0.041192831298236275,
          0.18445974750367805,
          -0.041192831298236275,
          0.11576402236625565,
          -0.041192831298236275,
          0.11576402236625565,
          -0.041192831298236275,
          -0.041192831298236275,
          -0.041192831298236275,
          -0.041192831298236275,
          -0.041192831298236275,
          0.2671652674727138,
          -0.041192831298236275,
          0.11576402236625565,
          0.11576402236625565,
          0.11576402236625565,
          0.11576402236625565,
          0.11576402236625565,
          0.11576402236625565,
          -0.018809294932189965,
          -0.041192831298236275,
          -0.018809294932189965,
          0.12419457773636967,
          -0.041192831298236275,
          0.11576402236625565,
          0.19429136431623617,
          0.19429136431623617,
          -0.041192831298236275,
          0.11576402236625565,
          -0.041192831298236275,
          -0.041192831298236275,
          -0.041192831298236275,
          -0.041192831298236275,
          -0.041192831298236275,
          0.17279748278721913,
          0.04087581390958389,
          0.134713442581233,
          0.169996105496187,
          -0.041192831298236275,
          -0.041192831298236275,
          0.11576402236625565,
          0.3156130798521502,
          -0.041192831298236275,
          -0.018809294932189965,
          -0.041192831298236275,
          0.11576402236625565,
          -0.041192831298236275,
          -0.018809294932189965,
          -0.018809294932189965,
          0.2620249735097166,
          0.11576402236625565,
          -0.018809294932189965,
          -0.041192831298236275,
          -0.041192831298236275,
          0.18965259471384663,
          0.1320520707436026,
          -0.018809294932189965,
          0.11576402236625565,
          -0.041192831298236275,
          -0.041192831298236275,
          0.332583028471155,
          -0.041192831298236275,
          0.19429136431623617,
          0.11576402236625565,
          0.11576402236625565,
          -0.018809294932189965,
          0.2671652674727138,
          -0.018809294932189965,
          -0.041192831298236275,
          0.24549534921411212,
          -0.041192831298236275,
          0.13065706543210728,
          0.41625706972136167,
          0.11576402236625565,
          -0.041192831298236275,
          -0.018809294932189965,
          0.11576402236625565,
          -0.041192831298236275,
          -0.018809294932189965,
          0.178573211637825,
          0.19429136431623617,
          0.11576402236625565,
          0.134713442581233,
          -0.041192831298236275,
          0.11576402236625565,
          -0.041192831298236275,
          -0.041192831298236275,
          0.2671652674727138,
          0.2368867180240078,
          0.11576402236625565,
          0.02802445193452796,
          0.18965259471384663,
          0.11576402236625565,
          0.19050534390878063,
          -0.041192831298236275,
          0.19050534390878063,
          -0.018809294932189965,
          -0.018809294932189965,
          0.19429136431623617,
          -0.041192831298236275,
          0.19429136431623617,
          0.2620249735097166,
          -0.018809294932189965,
          -0.018809294932189965,
          -0.041192831298236275,
          0.2879870167416328,
          0.12979304460611266,
          -0.041192831298236275,
          -0.018809294932189965,
          0.19050534390878063,
          -0.041192831298236275,
          0.2620249735097166,
          0.18965259471384663,
          -0.018809294932189965,
          0.26222352301364343,
          -0.041192831298236275,
          -0.08375444863213691,
          -0.041192831298236275,
          -0.041192831298236275,
          -0.041192831298236275,
          0.11576402236625565,
          -0.041192831298236275,
          0.2879870167416328,
          0.15090887209064588,
          0.1320520707436026,
          0.293096186346049,
          0.19429136431623617,
          -0.018809294932189965,
          -0.041192831298236275,
          -0.041192831298236275,
          -0.018809294932189965,
          -0.018809294932189965,
          0.19429136431623617,
          0.11251975399648217,
          -0.041192831298236275,
          0.12979304460611266,
          -0.018809294932189965,
          0.11576402236625565,
          -0.041192831298236275,
          -0.041192831298236275,
          -0.041192831298236275,
          -0.041192831298236275,
          -0.041192831298236275,
          -0.041192831298236275,
          -0.041192831298236275,
          -0.041192831298236275,
          0.19429136431623617,
          0.19050534390878063,
          -0.018809294932189965,
          0.12583995894426286,
          0.19050534390878063,
          0.24549534921411212,
          -0.041192831298236275,
          -0.018809294932189965,
          0.12583995894426286,
          -0.041192831298236275,
          0.18965259471384663,
          -0.041192831298236275,
          0.12583995894426286,
          0.134713442581233,
          0.19429136431623617,
          0.19429136431623617,
          0.18965259471384663,
          -0.018809294932189965,
          0.11576402236625565,
          0.2879870167416328,
          -0.041192831298236275,
          0.026339582510535406,
          -0.018809294932189965,
          0.12583995894426286,
          0.12583995894426286,
          -0.041192831298236275,
          -0.018809294932189965,
          0.11576402236625565,
          0.05524389689486596,
          0.07360751273698651,
          0.19429136431623617,
          0.13062041579260056,
          0.19429136431623617,
          0.19050534390878063,
          -0.08260248964672283,
          -0.041192831298236275,
          0.24549534921411212,
          0.12419457773636967,
          -0.041192831298236275,
          -0.041192831298236275,
          -0.041192831298236275,
          0.12583995894426286,
          0.19050534390878063,
          -0.018809294932189965,
          0.18965259471384663,
          -0.018809294932189965,
          0.19429136431623617,
          0.12583995894426286,
          -0.041192831298236275,
          0.19227747692906752,
          0.19050534390878063,
          0.19050534390878063,
          0.19050534390878063,
          0.2368867180240078,
          -0.018809294932189965,
          0.19429136431623617,
          -0.08375444863213691,
          0.2620249735097166,
          0.14085456056934773,
          0.2368867180240078,
          0.19429136431623617,
          0.1993307751258633,
          0.19429136431623617,
          0.5162514414855134,
          0.19429136431623617,
          0.1403331442571175,
          0.1784276110791768,
          -0.018809294932189965,
          -0.041192831298236275,
          0.2879870167416328,
          0.14351862949419547,
          -0.00011992494307073294,
          0.1993307751258633,
          0.12419457773636967,
          0.11576402236625565,
          -0.018809294932189965,
          0.1403331442571175,
          0.19050534390878063,
          0.02802445193452796,
          0.23033736962603976,
          0.2368867180240078,
          0.18965259471384663,
          0.11576402236625565,
          0.18965259471384663,
          0.19429136431623617,
          0.13062041579260056,
          0.12366560861397896,
          0.2202186766798044,
          0.2202186766798044,
          0.11576402236625565,
          0.07446026193192025,
          0.3367957659241579,
          -0.041192831298236275,
          0.19050534390878063,
          0.19050534390878063,
          0.169996105496187,
          0.3725714867607928,
          0.11576402236625565,
          0.11576402236625565,
          -0.09713846799230415,
          0.11576402236625565,
          -0.018809294932189965,
          -0.041192831298236275,
          0.12583995894426286,
          0.2202186766798044,
          0.19429136431623617,
          -0.041192831298236275,
          0.11576402236625565,
          0.19429136431623617,
          -0.041192831298236275,
          0.07926754610757422,
          -0.041192831298236275,
          -0.041192831298236275,
          -0.041192831298236275,
          -8.016171767834182,
          0.134713442581233,
          0.1657173847829222,
          0.18965259471384663,
          0.18965259471384663,
          0.19429136431623617,
          0.19050534390878063
         ],
         "z": [
          0.007744136679464524,
          -0.005395817583624474,
          0.0021765490905653623,
          0.020760349649144378,
          -0.005395817583629585,
          -0.008050485857999664,
          0.0014349556796872528,
          0.0021765490905621323,
          -0.0002051186210328967,
          0.007744136679463619,
          0.0021765490905621323,
          0.007744136679463619,
          0.00143495567968723,
          0.0021765490905621323,
          0.007744136679463619,
          0.0021765490905621323,
          0.0021765490905621323,
          -0.009950758328918093,
          0.008536732310637752,
          0.0021765490905621323,
          -0.0002051186210328967,
          0.0021765490905621323,
          0.0021765490905621323,
          0.0021765490905621323,
          -0.0002051186210328967,
          0.00143495567968723,
          0.0021765490905621323,
          0.007744136679463619,
          0.0021765490905621323,
          0.0021765490905621323,
          0.0021765490905621323,
          0.0021765490905621323,
          0.0021765490905621323,
          0.0021765490905621323,
          0.007744136679463619,
          0.0021765490905621323,
          0.03655106599200697,
          0.0021765490905621323,
          0.0021765490905621323,
          0.0021765490905621323,
          0.00143495567968723,
          0.0021765490905621323,
          0.007744136679463619,
          0.0021765490905621323,
          0.0021765490905621323,
          0.0021765490905621323,
          0.0021765490905621323,
          0.0021765490905621323,
          0.13547848932454587,
          0.0021765490905621323,
          0.007744136679463619,
          0.0021765490905621323,
          0.007744136679463619,
          0.0021765490905621323,
          0.0021765490905621323,
          0.0021765490905621323,
          0.0021765490905621323,
          0.0021765490905621323,
          0.025069179379763773,
          0.0021765490905621323,
          0.007744136679463619,
          0.007744136679463619,
          0.007744136679463619,
          0.007744136679463619,
          0.007744136679463619,
          0.007744136679463619,
          -0.0002051186210328967,
          0.0021765490905621323,
          -0.0002051186210328967,
          0.0052784417893928315,
          0.0021765490905621323,
          0.007744136679463619,
          -0.015524515873497999,
          -0.015524515873497999,
          0.0021765490905621323,
          0.007744136679463619,
          0.0021765490905621323,
          0.0021765490905621323,
          0.0021765490905621323,
          0.0021765490905621323,
          0.0021765490905621323,
          0.03344437970763179,
          -0.002804422675570946,
          0.00143495567968723,
          0.007577141234146543,
          0.0021765490905621323,
          0.0021765490905621323,
          0.007744136679463619,
          -0.03873730689486126,
          0.0021765490905621323,
          -0.0002051186210328967,
          0.0021765490905621323,
          0.007744136679463619,
          0.0021765490905621323,
          -0.0002051186210328967,
          -0.0002051186210328967,
          -0.004297777749323478,
          0.007744136679463619,
          -0.0002051186210328967,
          0.0021765490905621323,
          0.0021765490905621323,
          -0.005395817583629471,
          -0.0071537325054762445,
          -0.0002051186210328967,
          0.007744136679463619,
          0.0021765490905621323,
          0.0021765490905621323,
          0.12392729599147663,
          0.0021765490905621323,
          -0.015524515873497999,
          0.007744136679463619,
          0.007744136679463619,
          -0.0002051186210328967,
          0.025069179379763773,
          -0.0002051186210328967,
          0.0021765490905621323,
          -0.02151204507135705,
          0.0021765490905621323,
          -0.08318871825395688,
          -0.06991570004522038,
          0.007744136679463619,
          0.0021765490905621323,
          -0.0002051186210328967,
          0.007744136679463619,
          0.0021765490905621323,
          -0.0002051186210328967,
          -0.0480072203733144,
          -0.015524515873497999,
          0.007744136679463619,
          0.00143495567968723,
          0.0021765490905621323,
          0.007744136679463619,
          0.0021765490905621323,
          0.0021765490905621323,
          0.025069179379763773,
          -0.03590490802979774,
          0.007744136679463619,
          -0.009950758328918093,
          -0.005395817583629471,
          0.007744136679463619,
          -0.008050485858000594,
          0.0021765490905621323,
          -0.008050485858000594,
          -0.0002051186210328967,
          -0.0002051186210328967,
          -0.015524515873497999,
          0.0021765490905621323,
          -0.015524515873497999,
          -0.004297777749323478,
          -0.0002051186210328967,
          -0.0002051186210328967,
          0.0021765490905621323,
          0.0207603496491465,
          -0.05828445816182916,
          0.0021765490905621323,
          -0.0002051186210328967,
          -0.008050485858000594,
          0.0021765490905621323,
          -0.004297777749323478,
          -0.0053958175836294735,
          -0.0002051186210328967,
          0.043339722113059385,
          0.0021765490905621323,
          -0.00881542926490992,
          0.0021765490905621323,
          0.0021765490905621323,
          0.0021765490905621323,
          0.007744136679463619,
          0.0021765490905621323,
          0.0207603496491465,
          0.046827121053023765,
          -0.0071537325054762445,
          -0.08981922159437648,
          -0.015524515873497999,
          -0.0002051186210328967,
          0.0021765490905621323,
          0.0021765490905621323,
          -0.0002051186210328967,
          -0.0002051186210328967,
          -0.015524515873497999,
          -0.05311633323162945,
          0.0021765490905621323,
          -0.05828445816182916,
          -0.0002051186210328967,
          0.007744136679463619,
          0.0021765490905621323,
          0.0021765490905621323,
          0.0021765490905621323,
          0.0021765490905621323,
          0.0021765490905621323,
          0.0021765490905621323,
          0.0021765490905621323,
          0.0021765490905621323,
          -0.015524515873497999,
          -0.008050485858000594,
          -0.0002051186210328967,
          0.03655106599200697,
          -0.008050485858000594,
          -0.02151204507135705,
          0.0021765490905621323,
          -0.0002051186210328967,
          0.03655106599200697,
          0.0021765490905621323,
          -0.005395817583629471,
          0.0021765490905621323,
          0.03655106599200697,
          0.00143495567968723,
          -0.015524515873497999,
          -0.015524515873497999,
          -0.005395817583629471,
          -0.0002051186210328967,
          0.007744136679463619,
          0.0207603496491465,
          0.0021765490905621323,
          0.0024758025964608196,
          -0.0002051186210328967,
          0.03655106599200697,
          0.03655106599200697,
          0.0021765490905621323,
          -0.0002051186210328967,
          0.007744136679463619,
          0.03289122347934641,
          -0.0021779440099258898,
          -0.015524515873497999,
          -0.002346052058193636,
          -0.015524515873497999,
          -0.008050485858000594,
          -0.012103127278508681,
          0.0021765490905621323,
          -0.02151204507135705,
          0.0052784417893928315,
          0.0021765490905621323,
          0.0021765490905621323,
          0.0021765490905621323,
          0.03655106599200697,
          -0.008050485858000594,
          -0.0002051186210328967,
          -0.005395817583629471,
          -0.0002051186210328967,
          -0.015524515873497999,
          0.03655106599200697,
          0.0021765490905621323,
          0.010212410834713007,
          -0.008050485858000594,
          -0.008050485858000594,
          -0.008050485858000594,
          -0.03590490802979774,
          -0.0002051186210328967,
          -0.015524515873497999,
          -0.00881542926490992,
          -0.004297777749323478,
          0.026480469658025176,
          -0.03590490802979774,
          -0.015524515873497999,
          -0.016665790373466396,
          -0.015524515873497999,
          0.1003040728330406,
          -0.015524515873497999,
          -0.021156621523630587,
          -0.09588119521330854,
          -0.0002051186210328967,
          0.0021765490905621323,
          0.0207603496491465,
          -0.004204838958616683,
          -0.006186474601686528,
          -0.016665790373466396,
          0.0052784417893928315,
          0.007744136679463619,
          -0.0002051186210328967,
          -0.021156621523630587,
          -0.008050485858000594,
          -0.009950758328918093,
          0.07671057156480474,
          -0.03590490802979774,
          -0.005395817583629471,
          0.007744136679463619,
          -0.005395817583629471,
          -0.015524515873497999,
          -0.002346052058193636,
          -0.0018317604462472635,
          0.008040434825272254,
          0.008040434825272254,
          0.007744136679463619,
          -0.004832612284297124,
          0.0702299025045104,
          0.0021765490905621323,
          -0.008050485858000594,
          -0.008050485858000594,
          0.007577141234146543,
          -0.09525840326635494,
          0.007744136679463619,
          0.007744136679463619,
          0.007298251452523774,
          0.007744136679463619,
          -0.0002051186210328967,
          0.0021765490905621323,
          0.03655106599200697,
          0.008040434825272254,
          -0.015524515873497999,
          0.0021765490905621323,
          0.007744136679463619,
          -0.015524515873497999,
          0.0021765490905621323,
          0.008536732310637752,
          0.0021765490905621323,
          0.0021765490905621323,
          0.0021765490905621323,
          -4.507104752670516,
          0.00143495567968723,
          -0.026900588761342575,
          -0.005395817583629471,
          -0.005395817583629471,
          -0.015524515873497999,
          -0.008050485858000594
         ]
        },
        {
         "customdata": [
          [
           "VeChainThor Authority"
          ],
          [
           "Proof-of-Authority"
          ],
          [
           "ECC 256K1"
          ],
          [
           "Leased POS"
          ]
         ],
         "hoverlabel": {
          "namelength": 0
         },
         "hovertemplate": "<b>%{hovertext}</b><br><br>Class=%{marker.color}<br>PC 1=%{x}<br>PC 2=%{y}<br>PC 3=%{z}<br>Algorithm=%{customdata[0]}",
         "hovertext": [
          "Vechain",
          "Poa Network",
          "Acute Angle Cloud",
          "Waves"
         ],
         "legendgroup": "Class=2",
         "marker": {
          "color": [
           2,
           2,
           2,
           2
          ],
          "coloraxis": "coloraxis",
          "symbol": "square"
         },
         "mode": "markers",
         "name": "Class=2",
         "scene": "scene",
         "showlegend": true,
         "type": "scatter3d",
         "x": [
          -0.4476139422851487,
          -2.781027543110227,
          -2.511318028235083,
          -1.2489267043073375
         ],
         "y": [
          4.8759136651437,
          20.487164821708046,
          14.101058961083288,
          16.342408800484566
         ],
         "z": [
          -10.777479109218534,
          -18.82824175517745,
          -4.3130423993610725,
          -1.3000381518392483
         ]
        },
        {
         "customdata": [
          [
           "Proof-of-BibleHash"
          ],
          [
           "SHA-256 + Hive"
          ]
         ],
         "hoverlabel": {
          "namelength": 0
         },
         "hovertemplate": "<b>%{hovertext}</b><br><br>Class=%{marker.color}<br>PC 1=%{x}<br>PC 2=%{y}<br>PC 3=%{z}<br>Algorithm=%{customdata[0]}",
         "hovertext": [
          "BiblePay",
          "LitecoinCash"
         ],
         "legendgroup": "Class=3",
         "marker": {
          "color": [
           3,
           3
          ],
          "coloraxis": "coloraxis",
          "symbol": "x"
         },
         "mode": "markers",
         "name": "Class=3",
         "scene": "scene",
         "showlegend": true,
         "type": "scatter3d",
         "x": [
          -0.8359322600399214,
          -2.124160260843039
         ],
         "y": [
          8.619436255375351,
          16.671382418016137
         ],
         "z": [
          24.285691458921917,
          16.445672295946107
         ]
        }
       ],
       "layout": {
        "coloraxis": {
         "colorbar": {
          "title": {
           "text": "Class"
          }
         },
         "colorscale": [
          [
           0,
           "#0d0887"
          ],
          [
           0.1111111111111111,
           "#46039f"
          ],
          [
           0.2222222222222222,
           "#7201a8"
          ],
          [
           0.3333333333333333,
           "#9c179e"
          ],
          [
           0.4444444444444444,
           "#bd3786"
          ],
          [
           0.5555555555555556,
           "#d8576b"
          ],
          [
           0.6666666666666666,
           "#ed7953"
          ],
          [
           0.7777777777777778,
           "#fb9f3a"
          ],
          [
           0.8888888888888888,
           "#fdca26"
          ],
          [
           1,
           "#f0f921"
          ]
         ]
        },
        "height": 600,
        "legend": {
         "tracegroupgap": 0,
         "x": 0,
         "y": 1
        },
        "margin": {
         "t": 60
        },
        "scene": {
         "domain": {
          "x": [
           0,
           0.98
          ],
          "y": [
           0,
           1
          ]
         },
         "xaxis": {
          "title": {
           "text": "PC 1"
          }
         },
         "yaxis": {
          "title": {
           "text": "PC 2"
          }
         },
         "zaxis": {
          "title": {
           "text": "PC 3"
          }
         }
        },
        "template": {
         "data": {
          "bar": [
           {
            "error_x": {
             "color": "#2a3f5f"
            },
            "error_y": {
             "color": "#2a3f5f"
            },
            "marker": {
             "line": {
              "color": "#E5ECF6",
              "width": 0.5
             }
            },
            "type": "bar"
           }
          ],
          "barpolar": [
           {
            "marker": {
             "line": {
              "color": "#E5ECF6",
              "width": 0.5
             }
            },
            "type": "barpolar"
           }
          ],
          "carpet": [
           {
            "aaxis": {
             "endlinecolor": "#2a3f5f",
             "gridcolor": "white",
             "linecolor": "white",
             "minorgridcolor": "white",
             "startlinecolor": "#2a3f5f"
            },
            "baxis": {
             "endlinecolor": "#2a3f5f",
             "gridcolor": "white",
             "linecolor": "white",
             "minorgridcolor": "white",
             "startlinecolor": "#2a3f5f"
            },
            "type": "carpet"
           }
          ],
          "choropleth": [
           {
            "colorbar": {
             "outlinewidth": 0,
             "ticks": ""
            },
            "type": "choropleth"
           }
          ],
          "contour": [
           {
            "colorbar": {
             "outlinewidth": 0,
             "ticks": ""
            },
            "colorscale": [
             [
              0,
              "#0d0887"
             ],
             [
              0.1111111111111111,
              "#46039f"
             ],
             [
              0.2222222222222222,
              "#7201a8"
             ],
             [
              0.3333333333333333,
              "#9c179e"
             ],
             [
              0.4444444444444444,
              "#bd3786"
             ],
             [
              0.5555555555555556,
              "#d8576b"
             ],
             [
              0.6666666666666666,
              "#ed7953"
             ],
             [
              0.7777777777777778,
              "#fb9f3a"
             ],
             [
              0.8888888888888888,
              "#fdca26"
             ],
             [
              1,
              "#f0f921"
             ]
            ],
            "type": "contour"
           }
          ],
          "contourcarpet": [
           {
            "colorbar": {
             "outlinewidth": 0,
             "ticks": ""
            },
            "type": "contourcarpet"
           }
          ],
          "heatmap": [
           {
            "colorbar": {
             "outlinewidth": 0,
             "ticks": ""
            },
            "colorscale": [
             [
              0,
              "#0d0887"
             ],
             [
              0.1111111111111111,
              "#46039f"
             ],
             [
              0.2222222222222222,
              "#7201a8"
             ],
             [
              0.3333333333333333,
              "#9c179e"
             ],
             [
              0.4444444444444444,
              "#bd3786"
             ],
             [
              0.5555555555555556,
              "#d8576b"
             ],
             [
              0.6666666666666666,
              "#ed7953"
             ],
             [
              0.7777777777777778,
              "#fb9f3a"
             ],
             [
              0.8888888888888888,
              "#fdca26"
             ],
             [
              1,
              "#f0f921"
             ]
            ],
            "type": "heatmap"
           }
          ],
          "heatmapgl": [
           {
            "colorbar": {
             "outlinewidth": 0,
             "ticks": ""
            },
            "colorscale": [
             [
              0,
              "#0d0887"
             ],
             [
              0.1111111111111111,
              "#46039f"
             ],
             [
              0.2222222222222222,
              "#7201a8"
             ],
             [
              0.3333333333333333,
              "#9c179e"
             ],
             [
              0.4444444444444444,
              "#bd3786"
             ],
             [
              0.5555555555555556,
              "#d8576b"
             ],
             [
              0.6666666666666666,
              "#ed7953"
             ],
             [
              0.7777777777777778,
              "#fb9f3a"
             ],
             [
              0.8888888888888888,
              "#fdca26"
             ],
             [
              1,
              "#f0f921"
             ]
            ],
            "type": "heatmapgl"
           }
          ],
          "histogram": [
           {
            "marker": {
             "colorbar": {
              "outlinewidth": 0,
              "ticks": ""
             }
            },
            "type": "histogram"
           }
          ],
          "histogram2d": [
           {
            "colorbar": {
             "outlinewidth": 0,
             "ticks": ""
            },
            "colorscale": [
             [
              0,
              "#0d0887"
             ],
             [
              0.1111111111111111,
              "#46039f"
             ],
             [
              0.2222222222222222,
              "#7201a8"
             ],
             [
              0.3333333333333333,
              "#9c179e"
             ],
             [
              0.4444444444444444,
              "#bd3786"
             ],
             [
              0.5555555555555556,
              "#d8576b"
             ],
             [
              0.6666666666666666,
              "#ed7953"
             ],
             [
              0.7777777777777778,
              "#fb9f3a"
             ],
             [
              0.8888888888888888,
              "#fdca26"
             ],
             [
              1,
              "#f0f921"
             ]
            ],
            "type": "histogram2d"
           }
          ],
          "histogram2dcontour": [
           {
            "colorbar": {
             "outlinewidth": 0,
             "ticks": ""
            },
            "colorscale": [
             [
              0,
              "#0d0887"
             ],
             [
              0.1111111111111111,
              "#46039f"
             ],
             [
              0.2222222222222222,
              "#7201a8"
             ],
             [
              0.3333333333333333,
              "#9c179e"
             ],
             [
              0.4444444444444444,
              "#bd3786"
             ],
             [
              0.5555555555555556,
              "#d8576b"
             ],
             [
              0.6666666666666666,
              "#ed7953"
             ],
             [
              0.7777777777777778,
              "#fb9f3a"
             ],
             [
              0.8888888888888888,
              "#fdca26"
             ],
             [
              1,
              "#f0f921"
             ]
            ],
            "type": "histogram2dcontour"
           }
          ],
          "mesh3d": [
           {
            "colorbar": {
             "outlinewidth": 0,
             "ticks": ""
            },
            "type": "mesh3d"
           }
          ],
          "parcoords": [
           {
            "line": {
             "colorbar": {
              "outlinewidth": 0,
              "ticks": ""
             }
            },
            "type": "parcoords"
           }
          ],
          "scatter": [
           {
            "marker": {
             "colorbar": {
              "outlinewidth": 0,
              "ticks": ""
             }
            },
            "type": "scatter"
           }
          ],
          "scatter3d": [
           {
            "line": {
             "colorbar": {
              "outlinewidth": 0,
              "ticks": ""
             }
            },
            "marker": {
             "colorbar": {
              "outlinewidth": 0,
              "ticks": ""
             }
            },
            "type": "scatter3d"
           }
          ],
          "scattercarpet": [
           {
            "marker": {
             "colorbar": {
              "outlinewidth": 0,
              "ticks": ""
             }
            },
            "type": "scattercarpet"
           }
          ],
          "scattergeo": [
           {
            "marker": {
             "colorbar": {
              "outlinewidth": 0,
              "ticks": ""
             }
            },
            "type": "scattergeo"
           }
          ],
          "scattergl": [
           {
            "marker": {
             "colorbar": {
              "outlinewidth": 0,
              "ticks": ""
             }
            },
            "type": "scattergl"
           }
          ],
          "scattermapbox": [
           {
            "marker": {
             "colorbar": {
              "outlinewidth": 0,
              "ticks": ""
             }
            },
            "type": "scattermapbox"
           }
          ],
          "scatterpolar": [
           {
            "marker": {
             "colorbar": {
              "outlinewidth": 0,
              "ticks": ""
             }
            },
            "type": "scatterpolar"
           }
          ],
          "scatterpolargl": [
           {
            "marker": {
             "colorbar": {
              "outlinewidth": 0,
              "ticks": ""
             }
            },
            "type": "scatterpolargl"
           }
          ],
          "scatterternary": [
           {
            "marker": {
             "colorbar": {
              "outlinewidth": 0,
              "ticks": ""
             }
            },
            "type": "scatterternary"
           }
          ],
          "surface": [
           {
            "colorbar": {
             "outlinewidth": 0,
             "ticks": ""
            },
            "colorscale": [
             [
              0,
              "#0d0887"
             ],
             [
              0.1111111111111111,
              "#46039f"
             ],
             [
              0.2222222222222222,
              "#7201a8"
             ],
             [
              0.3333333333333333,
              "#9c179e"
             ],
             [
              0.4444444444444444,
              "#bd3786"
             ],
             [
              0.5555555555555556,
              "#d8576b"
             ],
             [
              0.6666666666666666,
              "#ed7953"
             ],
             [
              0.7777777777777778,
              "#fb9f3a"
             ],
             [
              0.8888888888888888,
              "#fdca26"
             ],
             [
              1,
              "#f0f921"
             ]
            ],
            "type": "surface"
           }
          ],
          "table": [
           {
            "cells": {
             "fill": {
              "color": "#EBF0F8"
             },
             "line": {
              "color": "white"
             }
            },
            "header": {
             "fill": {
              "color": "#C8D4E3"
             },
             "line": {
              "color": "white"
             }
            },
            "type": "table"
           }
          ]
         },
         "layout": {
          "annotationdefaults": {
           "arrowcolor": "#2a3f5f",
           "arrowhead": 0,
           "arrowwidth": 1
          },
          "colorscale": {
           "diverging": [
            [
             0,
             "#8e0152"
            ],
            [
             0.1,
             "#c51b7d"
            ],
            [
             0.2,
             "#de77ae"
            ],
            [
             0.3,
             "#f1b6da"
            ],
            [
             0.4,
             "#fde0ef"
            ],
            [
             0.5,
             "#f7f7f7"
            ],
            [
             0.6,
             "#e6f5d0"
            ],
            [
             0.7,
             "#b8e186"
            ],
            [
             0.8,
             "#7fbc41"
            ],
            [
             0.9,
             "#4d9221"
            ],
            [
             1,
             "#276419"
            ]
           ],
           "sequential": [
            [
             0,
             "#0d0887"
            ],
            [
             0.1111111111111111,
             "#46039f"
            ],
            [
             0.2222222222222222,
             "#7201a8"
            ],
            [
             0.3333333333333333,
             "#9c179e"
            ],
            [
             0.4444444444444444,
             "#bd3786"
            ],
            [
             0.5555555555555556,
             "#d8576b"
            ],
            [
             0.6666666666666666,
             "#ed7953"
            ],
            [
             0.7777777777777778,
             "#fb9f3a"
            ],
            [
             0.8888888888888888,
             "#fdca26"
            ],
            [
             1,
             "#f0f921"
            ]
           ],
           "sequentialminus": [
            [
             0,
             "#0d0887"
            ],
            [
             0.1111111111111111,
             "#46039f"
            ],
            [
             0.2222222222222222,
             "#7201a8"
            ],
            [
             0.3333333333333333,
             "#9c179e"
            ],
            [
             0.4444444444444444,
             "#bd3786"
            ],
            [
             0.5555555555555556,
             "#d8576b"
            ],
            [
             0.6666666666666666,
             "#ed7953"
            ],
            [
             0.7777777777777778,
             "#fb9f3a"
            ],
            [
             0.8888888888888888,
             "#fdca26"
            ],
            [
             1,
             "#f0f921"
            ]
           ]
          },
          "colorway": [
           "#636efa",
           "#EF553B",
           "#00cc96",
           "#ab63fa",
           "#FFA15A",
           "#19d3f3",
           "#FF6692",
           "#B6E880",
           "#FF97FF",
           "#FECB52"
          ],
          "font": {
           "color": "#2a3f5f"
          },
          "geo": {
           "bgcolor": "white",
           "lakecolor": "white",
           "landcolor": "#E5ECF6",
           "showlakes": true,
           "showland": true,
           "subunitcolor": "white"
          },
          "hoverlabel": {
           "align": "left"
          },
          "hovermode": "closest",
          "mapbox": {
           "style": "light"
          },
          "paper_bgcolor": "white",
          "plot_bgcolor": "#E5ECF6",
          "polar": {
           "angularaxis": {
            "gridcolor": "white",
            "linecolor": "white",
            "ticks": ""
           },
           "bgcolor": "#E5ECF6",
           "radialaxis": {
            "gridcolor": "white",
            "linecolor": "white",
            "ticks": ""
           }
          },
          "scene": {
           "xaxis": {
            "backgroundcolor": "#E5ECF6",
            "gridcolor": "white",
            "gridwidth": 2,
            "linecolor": "white",
            "showbackground": true,
            "ticks": "",
            "zerolinecolor": "white"
           },
           "yaxis": {
            "backgroundcolor": "#E5ECF6",
            "gridcolor": "white",
            "gridwidth": 2,
            "linecolor": "white",
            "showbackground": true,
            "ticks": "",
            "zerolinecolor": "white"
           },
           "zaxis": {
            "backgroundcolor": "#E5ECF6",
            "gridcolor": "white",
            "gridwidth": 2,
            "linecolor": "white",
            "showbackground": true,
            "ticks": "",
            "zerolinecolor": "white"
           }
          },
          "shapedefaults": {
           "line": {
            "color": "#2a3f5f"
           }
          },
          "ternary": {
           "aaxis": {
            "gridcolor": "white",
            "linecolor": "white",
            "ticks": ""
           },
           "baxis": {
            "gridcolor": "white",
            "linecolor": "white",
            "ticks": ""
           },
           "bgcolor": "#E5ECF6",
           "caxis": {
            "gridcolor": "white",
            "linecolor": "white",
            "ticks": ""
           }
          },
          "title": {
           "x": 0.05
          },
          "xaxis": {
           "automargin": true,
           "gridcolor": "white",
           "linecolor": "white",
           "ticks": "",
           "zerolinecolor": "white",
           "zerolinewidth": 2
          },
          "yaxis": {
           "automargin": true,
           "gridcolor": "white",
           "linecolor": "white",
           "ticks": "",
           "zerolinecolor": "white",
           "zerolinewidth": 2
          }
         }
        }
       }
      },
      "text/html": [
       "<div>\n",
       "        \n",
       "        \n",
       "            <div id=\"ec85f22c-c88a-4351-87ee-3e460724cf6d\" class=\"plotly-graph-div\" style=\"height:600px; width:100%;\"></div>\n",
       "            <script type=\"text/javascript\">\n",
       "                require([\"plotly\"], function(Plotly) {\n",
       "                    window.PLOTLYENV=window.PLOTLYENV || {};\n",
       "                    \n",
       "                if (document.getElementById(\"ec85f22c-c88a-4351-87ee-3e460724cf6d\")) {\n",
       "                    Plotly.newPlot(\n",
       "                        'ec85f22c-c88a-4351-87ee-3e460724cf6d',\n",
       "                        [{\"customdata\": [[\"Scrypt\"], [\"Scrypt\"], [\"SHA-256\"], [\"X13\"], [\"X11\"], [\"SHA-512\"], [\"SHA-256\"], [\"X11\"], [\"SHA-256\"], [\"X15\"], [\"X13\"], [\"X13\"], [\"Scrypt\"], [\"Scrypt\"], [\"Scrypt\"], [\"Scrypt\"], [\"Scrypt\"], [\"Scrypt\"], [\"Scrypt\"], [\"Multiple\"], [\"Scrypt\"], [\"Scrypt\"], [\"SHA-256\"], [\"Groestl\"], [\"X11\"], [\"PoS\"], [\"X11\"], [\"NIST5\"], [\"Scrypt\"], [\"X11\"], [\"X15\"], [\"Scrypt\"], [\"X11\"], [\"X11\"], [\"X11\"], [\"X13\"], [\"X11\"], [\"SHA3\"], [\"Scrypt\"], [\"SHA-256\"], [\"Scrypt\"], [\"X13\"], [\"X13\"], [\"NeoScrypt\"], [\"Scrypt\"], [\"Scrypt\"], [\"Scrypt\"], [\"X15\"], [\"Scrypt\"], [\"X11\"], [\"X11\"], [\"Multiple\"], [\"PHI1612\"], [\"X11\"], [\"Scrypt\"], [\"Scrypt\"], [\"X13\"], [\"Scrypt\"], [\"Scrypt\"], [\"X11\"], [\"Multiple\"], [\"X13\"], [\"Scrypt\"], [\"Scrypt\"], [\"Shabal256\"], [\"Counterparty\"], [\"SHA-256\"], [\"Scrypt\"], [\"Groestl\"], [\"Scrypt\"], [\"X13\"], [\"Scrypt\"], [\"SHA-256\"], [\"Scrypt\"], [\"X13\"], [\"X13\"], [\"X11\"], [\"X11\"], [\"X15\"], [\"Scrypt\"], [\"Scrypt\"], [\"Scrypt\"], [\"X11\"], [\"SHA3\"], [\"Scrypt\"], [\"QUAIT\"], [\"vDPOS\"], [\"X11\"], [\"X11\"], [\"Scrypt\"], [\"X11\"], [\"X13\"], [\"SHA-256\"], [\"X13\"], [\"X15\"], [\"BLAKE256\"], [\"SHA-256\"], [\"X11\"], [\"SHA-256\"], [\"Quark\"], [\"NIST5\"], [\"Blake\"], [\"Scrypt\"], [\"Scrypt\"], [\"Scrypt\"], [\"SHA-256\"], [\"X11\"], [\"Scrypt\"], [\"SHA-256\"], [\"Scrypt\"], [\"PoS\"], [\"X11\"], [\"X11\"], [\"X11\"], [\"PoS\"], [\"SHA-256\"], [\"SHA-256\"], [\"NIST5\"], [\"X15\"], [\"X11\"], [\"NIST5\"], [\"Scrypt\"], [\"Scrypt\"], [\"POS 3.0\"], [\"Scrypt\"], [\"Scrypt\"], [\"Scrypt\"], [\"X13\"], [\"X11\"], [\"X11\"], [\"X11\"], [\"Scrypt\"], [\"SHA-256\"], [\"X11\"], [\"Scrypt\"], [\"Scrypt\"], [\"X11\"], [\"Scrypt\"], [\"Scrypt\"], [\"SHA-256D\"], [\"PoS\"], [\"Scrypt\"], [\"X11\"], [\"PoS\"], [\"X13\"], [\"X14\"], [\"PoS\"], [\"SHA-256D\"], [\"DPoS\"], [\"X11\"], [\"Scrypt\"], [\"X13\"], [\"X11\"], [\"PoS\"], [\"SHA-256D\"], [\"Scrypt\"], [\"Scrypt\"], [\"Scrypt\"], [\"PoS\"], [\"X11\"], [\"SHA-256\"], [\"Scrypt\"], [\"X11\"], [\"Scrypt\"], [\"Scrypt\"], [\"X11\"], [\"Scrypt\"], [\"Scrypt\"], [\"Scrypt\"], [\"Scrypt\"], [\"Quark\"], [\"QuBit\"], [\"X11\"], [\"X13\"], [\"PoS\"], [\"Scrypt\"], [\"SHA-256\"], [\"X11\"], [\"X11\"], [\"Scrypt\"], [\"Scrypt\"], [\"Scrypt\"], [\"Scrypt\"], [\"X13\"], [\"Scrypt\"], [\"Scrypt\"], [\"X11\"], [\"Blake2S\"], [\"X11\"], [\"Scrypt\"], [\"PoS\"], [\"X11\"], [\"PoS\"], [\"X11\"], [\"Scrypt\"], [\"Scrypt\"], [\"Scrypt\"], [\"SHA-256\"], [\"X11\"], [\"Scrypt\"], [\"PoS\"], [\"Scrypt\"], [\"X11\"], [\"X15\"], [\"SHA-256\"], [\"POS 3.0\"], [\"536\"], [\"NIST5\"], [\"NIST5\"], [\"Skein\"], [\"X13\"], [\"X11\"], [\"Scrypt\"], [\"X13\"], [\"SkunkHash v2 Raptor\"], [\"Skein\"], [\"X11\"], [\"Scrypt\"], [\"PoS\"], [\"Scrypt\"], [\"Scrypt\"], [\"SHA-512\"], [\"Ouroboros\"], [\"X11\"], [\"NeoScrypt\"], [\"Scrypt\"], [\"Lyra2REv2\"], [\"Scrypt\"], [\"SHA-256\"], [\"NIST5\"], [\"PHI1612\"], [\"Scrypt\"], [\"Quark\"], [\"POS 2.0\"], [\"Scrypt\"], [\"SkunkHash\"], [\"X11\"], [\"Quark\"], [\"SHA-256\"], [\"Quark\"], [\"X11\"], [\"DPoS\"], [\"NIST5\"], [\"X13\"], [\"Scrypt\"], [\"NIST5\"], [\"Quark\"], [\"Scrypt\"], [\"Scrypt\"], [\"X11\"], [\"SHA-256\"], [\"Scrypt\"], [\"Quark\"], [\"Scrypt\"], [\"Scrypt\"], [\"X11\"], [\"Scrypt\"], [\"Scrypt\"], [\"POS 3.0\"], [\"Scrypt\"], [\"Scrypt\"], [\"X13\"], [\"C11\"], [\"X11\"], [\"XEVAN\"], [\"Scrypt\"], [\"VBFT\"], [\"NIST5\"], [\"Scrypt\"], [\"Scrypt\"], [\"Scrypt\"], [\"Equihash\"], [\"Green Protocol\"], [\"PoS\"], [\"Scrypt\"], [\"Scrypt\"], [\"Semux BFT consensus\"], [\"Scrypt\"], [\"Quark\"], [\"PoS\"], [\"X16R\"], [\"Scrypt\"], [\"XEVAN\"], [\"Scrypt\"], [\"Scrypt\"], [\"Scrypt\"], [\"SHA-256D\"], [\"Scrypt\"], [\"X15\"], [\"Scrypt\"], [\"Quark\"], [\"SHA-256\"], [\"DPoS\"], [\"X16R\"], [\"Quark\"], [\"Quark\"], [\"Scrypt\"], [\"Zhash\"], [\"Lyra2REv2\"], [\"Quark\"], [\"Scrypt\"], [\"Scrypt\"], [\"X11\"], [\"X11\"], [\"Scrypt\"], [\"PoS\"], [\"Scrypt\"], [\"Scrypt\"], [\"Keccak\"], [\"X11\"], [\"Quark\"], [\"Scrypt\"], [\"SHA-512\"], [\"NeoScrypt\"], [\"XEVAN\"], [\"XEVAN\"], [\"X11\"], [\"Quark\"], [\"Quark\"], [\"Scrypt\"], [\"Quark\"], [\"Quark\"], [\"Scrypt\"], [\"X11\"], [\"Scrypt\"], [\"XEVAN\"], [\"SHA-256D\"], [\"X11\"], [\"X11\"], [\"DPoS\"], [\"X11\"], [\"Scrypt\"], [\"X11\"], [\"QuBit\"], [\"Scrypt\"], [\"Scrypt\"], [\"SHA-256\"], [\"Scrypt\"], [\"X11\"], [\"Scrypt\"], [\"SHA-256\"], [\"X11\"], [\"Scrypt\"], [\"SHA-256\"], [\"Scrypt\"], [\"X11\"], [\"Scrypt\"], [\"PoS\"], [\"X11\"], [\"SHA-256\"], [\"DPoS\"], [\"Scrypt\"], [\"Scrypt\"], [\"NeoScrypt\"], [\"Scrypt\"], [\"X13\"], [\"DPoS\"], [\"DPoS\"], [\"SHA-256\"], [\"PoS\"], [\"TRC10\"], [\"PoS\"], [\"SHA-256\"], [\"Scrypt\"], [\"Scrypt\"]], \"hoverlabel\": {\"namelength\": 0}, \"hovertemplate\": \"<b>%{hovertext}</b><br><br>Class=%{marker.color}<br>PC 1=%{x}<br>PC 2=%{y}<br>PC 3=%{z}<br>Algorithm=%{customdata[0]}\", \"hovertext\": [\"42 Coin\", \"404Coin\", \"808\", \"EliteCoin\", \"Dash\", \"Bitshares\", \"BitcoinDark\", \"Bitstake\", \"PayCoin\", \"KoboCoin\", \"Aero Coin\", \"ApexCoin\", \"ArchCoin\", \"Aurora Coin\", \"BlueCoin\", \"EnergyCoin\", \"BitBar\", \"CashCoin\", \"CryptoBullion\", \"CinderCoin\", \"CoolCoin\", \"CasinoCoin\", \"eMark\", \"Diamond\", \"DarkCash\", \"Exclusive Coin\", \"Fuel2Coin\", \"FIBRE\", \"FlutterCoin\", \"GlyphCoin\", \"Halcyon\", \"HoboNickels\", \"HyperStake\", \"IOCoin\", \"JumBucks Coin\", \"JudgeCoin\", \"LibrexCoin\", \"MaxCoin\", \"MintCoin\", \"MazaCoin\", \"Nautilus Coin\", \"NavCoin\", \"OpalCoin\", \"Orbitcoin\", \"PotCoin\", \"PhoenixCoin\", \"Reddcoin\", \"ShieldCoin\", \"SilkCoin\", \"SuperCoin\", \"SyncCoin\", \"TeslaCoin\", \"TittieCoin\", \"TorCoin\", \"UnitaryStatus Dollar\", \"UltraCoin\", \"Utility Coin\", \"VeriCoin\", \"SocialXbotCoin\", \"X11 Coin\", \"Crypti\", \"StealthCoin\", \"XXXCoin\", \"ZCC Coin\", \"BurstCoin\", \"StorjCoin\", \"Neutron\", \"KryptCoin\", \"FairCoin\", \"RubyCoin\", \"Kore\", \"Dnotes\", \"MaieutiCoin\", \"8BIT Coin\", \"Sativa Coin\", \"AeroMe\", \"MasterTraderCoin\", \"Ucoin\", \"MaryJane Coin\", \"CyberCoin\", \"Vtorrent\", \"ViorCoin\", \"IslaCoin\", \"Nexus\", \"Singular\", \"Droidz\", \"CryptoCircuits\", \"Squall Coin\", \"Milllionaire Coin\", \"Diggits\", \"MapCoin\", \"Paycon\", \"Emercoin\", \"BlitzCoin\", \"EverGreenCoin\", \"Decred\", \"EDRCoin\", \"Hitcoin\", \"DubaiCoin\", \"BiosCrypto\", \"PWR Coin\", \"TrumpCoin\", \"BillaryCoin\", \"EthereumScrypt\", \"GPU Coin\", \"Universal Currency\", \"EuropeCoin\", \"ZeitCoin\", \"SwingCoin\", \"SafeExchangeCoin\", \"Nebuchadnezzar\", \"GIZMOcoin\", \"SecretCoin\", \"Ratecoin\", \"Digital Bullion Gold\", \"Revenu\", \"Clockcoin\", \"VIP Tokens\", \"OrlyCoin\", \"BitSend\", \"16BitCoin\", \"ChessCoin\", \"ReeCoin\", \"Let it Ride\", \"PutinCoin\", \"iBankCoin\", \"Frankywillcoin\", \"MudraCoin\", \"Lutetium Coin\", \"GoldBlocks\", \"WayCoin\", \"CarterCoin\", \"BitTokens\", \"MustangCoin\", \"ZoneCoin\", \"RootCoin\", \"PROUD Money\", \"BitCurrency\", \"Swiscoin\", \"BuzzCoin\", \"Opair\", \"PesoBit\", \"Halloween Coin\", \"CoffeeCoin\", \"RoyalCoin\", \"GanjaCoin V2\", \"TeamUP\", \"LanaCoin\", \"ARK\", \"InsaneCoin\", \"LuckChain\", \"EmberCoin\", \"XenixCoin\", \"FreeCoin\", \"NPCcoin\", \"PLNCoin\", \"Icobid\", \"AquariusCoin\", \"Creatio\", \"Eternity\", \"Eurocoin\", \"BitcoinFast\", \"Stakenet\", \"BitConnect Coin\", \"MoneyCoin\", \"Enigma\", \"Russiacoin\", \"PandaCoin\", \"GameUnits\", \"GAKHcoin\", \"Allsafe\", \"LiteCreed\", \"NeptuneClassic\", \"GoldenBird\", \"Ride My Car\", \"Klingon Empire Darsek\", \"Internet of People\", \"KushCoin\", \"Eryllium\", \"Printerium\", \"Impeach\", \"Zilbercoin\", \"FirstCoin\", \"FindCoin\", \"OpenChat\", \"RenosCoin\", \"VirtacoinPlus\", \"TajCoin\", \"Impact\", \"Universe\", \"Atmos\", \"HappyCoin\", \"MacronCoin\", \"Condensate\", \"Independent Money System\", \"ArgusCoin\", \"LomoCoin\", \"ProCurrency\", \"GoldReserve\", \"GrowthCoin\", \"Phreak\", \"Degas Coin\", \"ZSEcoin\", \"HTML5 Coin\", \"Ultimate Secure Cash\", \"QTUM\", \"Espers\", \"Denarius\", \"Virta Unique Coin\", \"Bitcoin Planet\", \"BritCoin\", \"Octanox\", \"Linda\", \"DeepOnion\", \"Signatum\", \"Cream\", \"Monoeci\", \"Draftcoin\", \"Stakecoin\", \"CoinonatX\", \"Ethereum Dark\", \"Obsidian\", \"Cardano\", \"Regalcoin\", \"TrezarCoin\", \"TerraNovaCoin\", \"Rupee\", \"WomenCoin\", \"Theresa May Coin\", \"NamoCoin\", \"LUXCoin\", \"Xios\", \"Bitcloud 2.0\", \"KekCoin\", \"BlackholeCoin\", \"AltCommunity Coin\", \"Pure\", \"Rupaya\", \"Infinity Economics\", \"Castle\", \"Magnet\", \"Lamden Tau\", \"Electra\", \"Bitcoin Diamond\", \"Cash & Back Coin\", \"Bulwark\", \"Kalkulus\", \"GermanCoin\", \"LiteCoin Ultra\", \"PhantomX\", \"HTML Coin\", \"Fantasy Cash\", \"Digiwage\", \"Trollcoin\", \"Litecoin Plus\", \"Monkey Project\", \"OP Coin\", \"Valorbit\", \"TokenPay\", \"My Big Coin\", \"Unified Society USDEX\", \"Tokyo Coin\", \"Stipend\", \"Pushi\", \"Ellerium\", \"Velox\", \"Ontology\", \"Bitspace\", \"Briacoin\", \"Ignition\", \"MedicCoin\", \"Zelcash\", \"Bitcoin Green\", \"Deviant Coin\", \"Abjcoin\", \"Profit Hunters Coin\", \"Semux\", \"BitBlocks\", \"Carebit\", \"Zealium\", \"Proton\", \"iDealCash\", \"Bitcoin Incognito\", \"HollyWoodCoin\", \"Swisscoin\", \"Xt3ch\", \"TheVig\", \"EmaratCoin\", \"Dekado\", \"Lynx\", \"Poseidon Quark\", \"BitcoinWSpectrum\", \"Muse\", \"Trivechain\", \"Dystem\", \"Giant\", \"Peony Coin\", \"SafeCoin\", \"Absolute Coin\", \"Vitae\", \"TPCash\", \"MUSDcoin\", \"ARENON\", \"EUNO\", \"MMOCoin\", \"Ketan\", \"Safe Trade Coin\", \"Mont Blanc\", \"XDNA\", \"PAXEX\", \"Apollon\", \"ThunderStake\", \"Kcash\", \"Traid\", \"Bettex coin\", \"BitMoney\", \"Junson Ming Chan Coin\", \"Zenad\", \"HerbCoin\", \"Oduwa\", \"Galilel\", \"Crypto Sports\", \"Credit\", \"Dash Platinum\", \"Nasdacoin\", \"Beetle Coin\", \"Titan Coin\", \"Award\", \"Insane Coin\", \"ALAX\", \"The Freedom Coin\", \"LiteDoge\", \"TruckCoin\", \"Ascension Coin\", \"OrangeCoin\", \"BitstarCoin\", \"NeosCoin\", \"HyperCoin\", \"PinkCoin\", \"AudioCoin\", \"IncaKoin\", \"Piggy Coin\", \"Genstake\", \"ParkByte\", \"XiaoMiCoin\", \"CapriCoin\", \" ClubCoin\", \"Radium\", \"Creditbit \", \"OKCash\", \"Lisk\", \"HiCoin\", \"WhiteCoin\", \"FriendshipCoin\", \"The Hempcoin\", \"Triangles Coin\", \"EOS\", \"Oxycoin\", \"TigerCash\", \"Particl\", \"BitTorrent\", \"Nxt\", \"ZEPHYR\", \"Gapcoin\", \"BitcoinPlus\"], \"legendgroup\": \"Class=1\", \"marker\": {\"color\": [1, 1, 1, 1, 1, 1, 1, 1, 1, 1, 1, 1, 1, 1, 1, 1, 1, 1, 1, 1, 1, 1, 1, 1, 1, 1, 1, 1, 1, 1, 1, 1, 1, 1, 1, 1, 1, 1, 1, 1, 1, 1, 1, 1, 1, 1, 1, 1, 1, 1, 1, 1, 1, 1, 1, 1, 1, 1, 1, 1, 1, 1, 1, 1, 1, 1, 1, 1, 1, 1, 1, 1, 1, 1, 1, 1, 1, 1, 1, 1, 1, 1, 1, 1, 1, 1, 1, 1, 1, 1, 1, 1, 1, 1, 1, 1, 1, 1, 1, 1, 1, 1, 1, 1, 1, 1, 1, 1, 1, 1, 1, 1, 1, 1, 1, 1, 1, 1, 1, 1, 1, 1, 1, 1, 1, 1, 1, 1, 1, 1, 1, 1, 1, 1, 1, 1, 1, 1, 1, 1, 1, 1, 1, 1, 1, 1, 1, 1, 1, 1, 1, 1, 1, 1, 1, 1, 1, 1, 1, 1, 1, 1, 1, 1, 1, 1, 1, 1, 1, 1, 1, 1, 1, 1, 1, 1, 1, 1, 1, 1, 1, 1, 1, 1, 1, 1, 1, 1, 1, 1, 1, 1, 1, 1, 1, 1, 1, 1, 1, 1, 1, 1, 1, 1, 1, 1, 1, 1, 1, 1, 1, 1, 1, 1, 1, 1, 1, 1, 1, 1, 1, 1, 1, 1, 1, 1, 1, 1, 1, 1, 1, 1, 1, 1, 1, 1, 1, 1, 1, 1, 1, 1, 1, 1, 1, 1, 1, 1, 1, 1, 1, 1, 1, 1, 1, 1, 1, 1, 1, 1, 1, 1, 1, 1, 1, 1, 1, 1, 1, 1, 1, 1, 1, 1, 1, 1, 1, 1, 1, 1, 1, 1, 1, 1, 1, 1, 1, 1, 1, 1, 1, 1, 1, 1, 1, 1, 1, 1, 1, 1, 1, 1, 1, 1, 1, 1, 1, 1, 1, 1, 1, 1, 1, 1, 1, 1, 1, 1, 1, 1, 1, 1, 1, 1, 1, 1, 1, 1, 1, 1, 1, 1, 1, 1, 1, 1, 1, 1, 1, 1, 1, 1, 1, 1, 1, 1, 1, 1, 1, 1, 1, 1, 1, 1, 1, 1, 1, 1, 1, 1, 1, 1, 1, 1, 1], \"coloraxis\": \"coloraxis\", \"symbol\": \"circle\"}, \"mode\": \"markers\", \"name\": \"Class=1\", \"scene\": \"scene\", \"showlegend\": true, \"type\": \"scatter3d\", \"x\": [-1.3035468010798865, -1.3035468010798839, -0.776747151218779, -1.9280044472436277, -1.353609382672403, -1.490565363697778, -0.7767471512187865, -1.3536093826724043, -0.2789711087601011, -2.078098116418154, -1.4302284047849383, -1.928004447243624, -0.805770758621202, -1.3035468010798874, -1.3035468010798874, -1.3035468010798874, -1.3035468010798874, -1.3035468010798874, -1.3035468010798874, -0.4575387811289762, -0.805770758621202, -0.9026811433199663, -0.7767471512187865, -1.070386056853122, -1.3536093826724043, -1.1690261244747544, -0.855833340213719, -1.773854957461655, -0.5596259971817303, -1.3536093826724043, -2.078098116418154, -1.3035468010798874, -0.855833340213719, -1.3536093826724043, -1.3536093826724043, -1.928004447243624, -1.3536093826724043, -2.699282769129818, -0.805770758621202, -0.7767471512187865, -0.805770758621202, -1.928004447243624, -1.928004447243624, -0.6690083725901127, -1.3035468010798874, -1.3035468010798874, -1.3035468010798874, -2.078098116418154, -1.3035468010798874, -0.855833340213719, -1.3536093826724043, 0.040237261329709, -1.5305608219357114, -1.3536093826724043, -1.3035468010798874, -1.3035468010798874, -1.928004447243624, -0.6631628645603357, -1.3035468010798874, -1.3536093826724043, 0.040237261329709, -1.928004447243624, -1.3035468010798874, -1.3035468010798874, -1.533431971495649, -1.301648941786764, -0.7767471512187865, -0.805770758621202, -1.070386056853122, -0.805770758621202, -1.928004447243624, -0.805770758621202, -0.2789711087601011, -1.3035468010798874, -1.928004447243624, -1.928004447243624, -1.3536093826724043, -0.855833340213719, -2.078098116418154, -1.3035468010798874, -1.3035468010798874, -1.3035468010798874, -1.3536093826724043, -3.5171881927293724, -1.3035468010798874, -2.3410403894073886, -1.1737776410722456, -0.780624944454207, -1.3536093826724043, -0.805770758621202, -0.855833340213719, -1.928004447243624, -0.7767471512187865, -1.4302284047849383, -2.078098116418154, -1.000670121884622, -0.7767471512187865, -1.3536093826724043, -0.7767471512187865, -1.6013368963350818, -1.773854957461655, 0.01037168527565314, -1.3035468010798874, -1.3035468010798874, -0.805770758621202, -0.7767471512187865, -1.3536093826724043, -0.805770758621202, -0.7767471512187865, -0.9026811433199663, -1.1690261244747544, -1.3536093826724043, -1.3536093826724043, -1.3536093826724043, -1.1690261244747544, -0.7767471512187865, -0.7767471512187865, -1.773854957461655, -2.078098116418154, -1.3536093826724043, -1.773854957461655, -1.3035468010798874, -1.3035468010798874, -1.1332927894133025, -1.3035468010798874, -1.3035468010798874, -1.3035468010798874, -1.4302284047849383, -0.855833340213719, -1.3536093826724043, -0.855833340213719, -1.3035468010798874, -0.7767471512187865, -1.3536093826724043, -1.3035468010798874, -1.3035468010798874, -1.3536093826724043, -0.805770758621202, -0.5438586424544635, -2.1258828979508335, -1.1690261244747544, -1.3035468010798874, -1.3536093826724043, -1.1690261244747544, -1.4302284047849383, -2.3068441538016553, -1.1690261244747544, -2.1258828979508335, -1.493806909513213, -1.3536093826724043, -1.3035468010798874, -1.928004447243624, -1.3536093826724043, -1.1690261244747544, -2.1258828979508335, -1.3035468010798874, -1.3035468010798874, -1.3035468010798874, -1.1690261244747544, -1.3536093826724043, -0.7767471512187865, -1.3035468010798874, -0.4636169410987808, -1.3035468010798874, -1.3035468010798874, -1.3536093826724043, -1.3035468010798874, -0.805770758621202, -1.3035468010798874, -1.3035468010798874, -1.1035608538763964, -1.1345802312255797, -1.3536093826724043, -1.928004447243624, -1.1690261244747544, -1.3035468010798874, -0.7767471512187865, -1.3536093826724043, -1.3536093826724043, -1.3035468010798874, -1.3035468010798874, -0.805770758621202, -0.7255961377853302, -1.4302284047849383, -1.3035468010798874, -0.8057707586212018, -1.3536093826724043, -2.0607839721614067, -1.3536093826724043, -0.805770758621202, -1.1690261244747544, -1.3536093826724043, -1.1690261244747544, -1.3536093826724043, -1.3035468010798874, -1.3035468010798874, -1.3035468010798874, -0.2789711087601011, -1.3536093826724043, -0.805770758621202, -1.1690261244747544, -1.3035468010798874, -1.3536093826724043, -2.078098116418154, -0.2789711087601011, -1.1332927894133025, -2.1813915313220975, -1.773854957461655, -1.773854957461655, -1.4442113753385397, -1.928004447243624, -1.3536093826724043, -1.3035468010798874, -1.928004447243624, -1.2182480138845955, -1.4442113753385397, -1.3536093826724043, -0.805770758621202, -1.1690261244747544, -1.3035468010798874, -1.3035468010798874, -1.4905653636977776, -1.1821370782244458, -1.3536093826724043, -0.6690083725901127, -1.3035468010798874, -0.2455543479096862, -1.3035468010798874, -0.7767471512187865, -1.773854957461655, -2.0283368643943964, -1.3035468010798874, -1.6013368963350818, -1.1922549951281303, -1.3035468010798874, -0.7424004191654844, -1.3536093826724043, -1.1035608538763964, -0.2789711087601011, -1.2739932199706214, -1.3536093826724043, -1.493806909513213, -1.773854957461655, -1.928004447243624, -1.3035468010798874, -1.2760789150029692, -1.1035608538763964, -1.3035468010798874, -1.3035468010798874, -1.3536093826724043, -0.7767471512187865, -1.3035468010798874, -1.1035608538763964, -1.3035468010798874, -1.3035468010798874, -0.855833340213719, -1.3035468010798874, -1.3035468010798874, -1.1332927894133025, -0.7561910401467943, -1.3035468010798874, -1.4302284047849383, -1.0269634260894442, -1.3536093826724043, -1.4839761718694002, -0.805770758621202, -1.1131584939067223, -1.773854957461655, -1.3035468010798874, -1.3035468010798874, -0.805770758621202, -0.2895547411190608, -1.1111635225787297, -1.1690261244747544, -1.3035468010798874, -1.3035468010798874, -1.5936024386560332, -1.3035468010798874, -1.6013368963350818, -1.1690261244747544, -0.4266720279587773, -1.3035468010798874, -0.9109917336512027, -0.805770758621202, -1.3035468010798874, -0.805770758621202, -2.1258828979508335, -1.3035468010798874, -1.5803220739594677, -0.7378742054028266, -1.1035608538763964, -0.2789711087601011, -1.3233745434189854, -0.9244480704174627, -1.1035608538763964, -1.6013368963350818, -0.805770758621202, -2.092368066008367, -0.7433303903683717, -1.1035608538763964, -1.3035468010798874, -1.3035468010798874, -0.855833340213719, -1.3536093826724043, -0.805770758621202, -1.1690261244747544, -0.805770758621202, -0.805770758621202, -0.7840231019062098, -0.855833340213719, -1.6013368963350818, -1.3035468010798874, -2.1080186813577377, -0.6690083725901127, -0.986200129410715, -0.7604962854251129, -0.855833340213719, -1.0793193668361358, -1.6013368963350818, -1.3035468010798874, -1.6013368963350818, -1.1035608538763964, -1.3035468010798874, -0.855833340213719, -1.3035468010798874, -1.4839761718694002, -2.1258828979508335, -1.3536093826724043, -1.3536093826724043, -1.493806909513213, -0.855833340213719, -1.3035468010798874, -1.3536093826724043, -1.1345802312255797, -1.3035468010798874, -1.3035468010798874, -0.2789711087601011, -1.3035468010798874, -1.3536093826724043, -1.3035468010798874, -0.7767471512187865, -1.3536093826724043, -1.3035468010798874, -0.7767471512187865, -1.3035468010798874, -1.3536093826724043, -1.3035468010798874, -1.1690261244747544, -0.38219781972602557, -0.7767471512187865, -1.493806909513213, -0.805770758621202, -1.3035468010798874, -0.6690083725901127, -1.3035468010798874, -1.928004447243624, -1.493806909513213, -1.493806909513213, -0.2789711087601011, -1.1690261244747544, -1.5423570226578067, -1.1838283755951169, -0.44940347485432697, -1.3035468010798874, -0.805770758621202], \"y\": [-0.4067547959930646, -0.4067547959930525, -0.2497979423285695, -0.4627004326871343, -0.38437125962701796, 0.010641457208786783, -0.24979794232857236, -0.3843712596270174, -0.0002810596106046724, -0.5123454978297896, -0.21318354996916422, -0.46270043268713174, -0.15723791327509612, -0.40675479599306386, -0.40675479599306386, -0.40675479599306386, -0.40675479599306386, -0.40675479599306386, -0.40675479599306386, -0.23084852211359475, -0.15723791327509612, -0.17752388179580844, -0.24979794232857236, -0.2862944185872537, -0.3843712596270174, -0.05394995597909959, -0.13485437690904978, -0.4493164133269644, -0.27352063928274617, -0.3843712596270174, -0.5123454978297896, -0.40675479599306386, -0.13485437690904978, -0.3843712596270174, -0.3843712596270174, -0.46270043268713174, -0.3843712596270174, -0.28868216615032527, -0.15723791327509612, -0.24979794232857236, -0.15723791327509612, -0.46270043268713174, -0.46270043268713174, -0.23972200575056488, -0.40675479599306386, -0.40675479599306386, -0.40675479599306386, -0.5123454978297896, -0.40675479599306386, -0.13485437690904978, -0.3843712596270174, 0.01866836060437278, 0.09037058898687927, -0.3843712596270174, -0.40675479599306386, -0.40675479599306386, -0.46270043268713174, -0.1795912948744706, -0.40675479599306386, -0.3843712596270174, 0.01866836060437278, -0.46270043268713174, -0.40675479599306386, -0.40675479599306386, -0.04685627845355718, -0.04514431369331993, -0.24979794232857236, -0.15723791327509612, -0.2862944185872537, -0.15723791327509612, -0.46270043268713174, -0.15723791327509612, -0.0002810596106046724, -0.40675479599306386, -0.46270043268713174, -0.46270043268713174, -0.3843712596270174, -0.13485437690904978, -0.5123454978297896, -0.40675479599306386, -0.40675479599306386, -0.40675479599306386, -0.3843712596270174, 0.06586582913019484, -0.40675479599306386, -0.49226506192583686, 0.11470217707357143, -0.19530293789453546, -0.3843712596270174, -0.15723791327509612, -0.13485437690904978, -0.46270043268713174, -0.24979794232857236, -0.21318354996916422, -0.5123454978297896, -0.3392223821842924, -0.24979794232857236, -0.3843712596270174, -0.24979794232857236, -0.33753751276029964, -0.4493164133269644, 0.10417359470294418, -0.40675479599306386, -0.40675479599306386, -0.15723791327509612, -0.24979794232857236, -0.3843712596270174, -0.15723791327509612, -0.24979794232857236, -0.17752388179580844, -0.05394995597909959, -0.3843712596270174, -0.3843712596270174, -0.3843712596270174, -0.05394995597909959, -0.24979794232857236, -0.24979794232857236, -0.4493164133269644, -0.5123454978297896, -0.3843712596270174, -0.4493164133269644, -0.40675479599306386, -0.40675479599306386, 0.04407196430305044, -0.40675479599306386, -0.40675479599306386, -0.40675479599306386, -0.21318354996916422, -0.13485437690904978, -0.3843712596270174, -0.13485437690904978, -0.40675479599306386, -0.24979794232857236, -0.3843712596270174, -0.40675479599306386, -0.40675479599306386, -0.3843712596270174, -0.15723791327509612, -0.27413233991606845, -0.5134598912880237, -0.05394995597909959, -0.40675479599306386, -0.3843712596270174, -0.05394995597909959, -0.21318354996916422, -0.42692466081493613, -0.05394995597909959, -0.5134598912880237, 0.6371450762958042, -0.3843712596270174, -0.40675479599306386, -0.46270043268713174, -0.3843712596270174, -0.05394995597909959, -0.5134598912880237, -0.40675479599306386, -0.40675479599306386, -0.40675479599306386, -0.05394995597909959, -0.3843712596270174, -0.24979794232857236, -0.40675479599306386, -0.16989690006441946, -0.40675479599306386, -0.40675479599306386, -0.3843712596270174, -0.40675479599306386, -0.15723791327509612, -0.40675479599306386, -0.40675479599306386, -0.08802063004233202, -0.19556585919864108, -0.3843712596270174, -0.46270043268713174, -0.05394995597909959, -0.40675479599306386, -0.24979794232857236, -0.3843712596270174, -0.3843712596270174, -0.40675479599306386, -0.40675479599306386, -0.15723791327509612, -0.21269137426521745, -0.21318354996916422, -0.40675479599306386, -0.1572379132750963, -0.3843712596270174, -0.547428259103786, -0.3843712596270174, -0.15723791327509612, -0.05394995597909959, -0.3843712596270174, -0.05394995597909959, -0.3843712596270174, -0.40675479599306386, -0.40675479599306386, -0.40675479599306386, -0.0002810596106046724, -0.3843712596270174, -0.15723791327509612, -0.05394995597909959, -0.40675479599306386, -0.3843712596270174, -0.5123454978297896, -0.0002810596106046724, 0.04407196430305044, -0.5784179864014749, -0.4493164133269644, -0.4493164133269644, -0.4481644543415506, -0.46270043268713174, -0.3843712596270174, -0.40675479599306386, -0.46270043268713174, 0.1490975081574889, -0.4481644543415506, -0.3843712596270174, -0.15723791327509612, -0.05394995597909959, -0.40675479599306386, -0.40675479599306386, 0.01064145720878568, -0.04797951615315006, -0.3843712596270174, -0.23972200575056488, -0.40675479599306386, 0.008149495759509587, -0.40675479599306386, -0.24979794232857236, -0.4493164133269644, -0.15914629373108802, -0.40675479599306386, -0.33753751276029964, 0.17165599287354527, -0.40675479599306386, -0.2349415489022274, -0.3843712596270174, -0.08802063004233202, -0.0002810596106046724, 0.2436268375381302, -0.3843712596270174, 0.6371450762958042, -0.4493164133269644, -0.46270043268713174, -0.40675479599306386, -0.19979953060899683, -0.08802063004233202, -0.40675479599306386, -0.40675479599306386, -0.3843712596270174, -0.24979794232857236, -0.40675479599306386, -0.08802063004233202, -0.40675479599306386, -0.40675479599306386, -0.13485437690904978, -0.40675479599306386, -0.40675479599306386, 0.04407196430305044, -0.4792603251695779, -0.40675479599306386, -0.21318354996916422, -0.3103180677999618, -0.3843712596270174, -0.3656818896378978, -0.15723791327509612, -0.01977597569116086, -0.4493164133269644, -0.40675479599306386, -0.40675479599306386, -0.15723791327509612, -0.1750566207860471, -0.028035610925811708, -0.05394995597909959, -0.40675479599306386, -0.40675479599306386, 0.6284459723074519, -0.40675479599306386, -0.33753751276029964, -0.05394995597909959, 0.024288062280257768, -0.40675479599306386, -0.17661356790541732, -0.15723791327509612, -0.40675479599306386, -0.15723791327509612, -0.5134598912880237, -0.40675479599306386, -0.26282861511182154, -0.20880760307942897, -0.08802063004233202, -0.0002810596106046724, 0.3054976087153385, -0.22522882043771, -0.08802063004233202, -0.33753751276029964, -0.15723791327509612, -0.5623065508248682, -0.24136738695845814, -0.08802063004233202, -0.40675479599306386, -0.40675479599306386, -0.13485437690904978, -0.3843712596270174, -0.15723791327509612, -0.05394995597909959, -0.15723791327509612, -0.15723791327509612, -0.23576892008871533, -0.13485437690904978, -0.33753751276029964, -0.40675479599306386, 0.08406546540450476, -0.23972200575056488, -0.11616500691993058, -0.19488875334588723, -0.13485437690904978, -0.1705801827776182, -0.33753751276029964, -0.40675479599306386, -0.33753751276029964, -0.08802063004233202, -0.40675479599306386, -0.13485437690904978, -0.40675479599306386, -0.3656818896378978, -0.5134598912880237, -0.3843712596270174, -0.3843712596270174, 0.6371450762958042, -0.13485437690904978, -0.40675479599306386, -0.3843712596270174, -0.19556585919864108, -0.40675479599306386, -0.40675479599306386, -0.0002810596106046724, -0.40675479599306386, -0.3843712596270174, -0.40675479599306386, -0.24979794232857236, -0.3843712596270174, -0.40675479599306386, -0.24979794232857236, -0.40675479599306386, -0.3843712596270174, -0.40675479599306386, -0.05394995597909959, -0.5267939254160295, -0.24979794232857236, 0.6371450762958042, -0.15723791327509612, -0.40675479599306386, -0.23972200575056488, -0.40675479599306386, -0.46270043268713174, 0.6371450762958042, 0.6371450762958042, -0.0002810596106046724, -0.05394995597909959, 0.6063544800467238, -0.2556845692272083, 0.3313664079698585, -0.40675479599306386, -0.15723791327509612], \"z\": [-0.0036549947966136942, -0.0036549947966105006, 0.0019125927922889095, 0.001466707565354398, -0.006036662508200877, -0.01403022077458879, 0.0019125927922921, -0.006036662508204476, 0.010962010253167074, -0.00011319117632206033, 0.01051612502622707, 0.0014667075653522488, 0.005394422664265453, -0.003654994796609344, -0.003654994796609344, -0.003654994796609344, -0.003654994796609344, -0.003654994796609344, -0.003654994796609344, -0.004396588207484252, 0.005394422664265453, -0.023956595762711915, 0.0019125927922921, 0.0027051884234662545, -0.006036662508204476, 0.0031193524628764504, 0.0030127549526700924, -0.014646973152081836, 0.023870467883386447, -0.006036662508204476, -0.00011319117632206033, -0.003654994796609344, 0.0030127549526700924, -0.006036662508204476, -0.006036662508204476, 0.0014667075653522488, -0.006036662508204476, -0.007892273502550694, 0.005394422664265453, 0.0019125927922921, 0.005394422664265453, 0.0014667075653522488, 0.0014667075653522488, 0.030719522104835507, -0.003654994796609344, -0.003654994796609344, -0.003654994796609344, -0.00011319117632206033, -0.003654994796609344, 0.0030127549526700924, -0.006036662508204476, 0.004652829253390607, -0.02410059073027231, -0.006036662508204476, -0.003654994796609344, -0.003654994796609344, 0.0014667075653522488, 0.04558406930463332, -0.003654994796609344, -0.006036662508204476, 0.004652829253390607, 0.0014667075653522488, -0.003654994796609344, -0.003654994796609344, -0.07188590069529124, 0.046657832899960575, 0.0019125927922921, 0.005394422664265453, 0.0027051884234662545, 0.005394422664265453, 0.0014667075653522488, 0.005394422664265453, 0.010962010253167074, -0.003654994796609344, 0.0014667075653522488, 0.0014667075653522488, -0.006036662508204476, 0.0030127549526700924, -0.00011319117632206033, -0.003654994796609344, -0.003654994796609344, -0.003654994796609344, -0.006036662508204476, -0.004732777959124202, -0.003654994796609344, 0.01659959666956921, 0.07381810759915035, -0.016398974070041965, -0.006036662508204476, 0.005394422664265453, 0.0030127549526700924, 0.0014667075653522488, 0.0019125927922921, 0.01051612502622707, -0.00011319117632206033, -0.0033557412907104394, 0.0019125927922921, -0.006036662508204476, 0.0019125927922921, -0.015782302216089745, -0.014646973152081836, 0.01125830839897513, -0.003654994796609344, -0.003654994796609344, 0.005394422664265453, 0.0019125927922921, -0.006036662508204476, 0.005394422664265453, 0.0019125927922921, -0.023956595762711915, 0.0031193524628764504, -0.006036662508204476, -0.006036662508204476, -0.006036662508204476, 0.0031193524628764504, 0.0019125927922921, 0.0019125927922921, -0.014646973152081836, -0.00011319117632206033, -0.006036662508204476, -0.014646973152081836, -0.003654994796609344, -0.003654994796609344, -0.005163651316277666, -0.003654994796609344, -0.003654994796609344, -0.003654994796609344, 0.01051612502622707, 0.0030127549526700924, -0.006036662508204476, 0.0030127549526700924, -0.003654994796609344, 0.0019125927922921, -0.006036662508204476, -0.003654994796609344, -0.003654994796609344, -0.006036662508204476, 0.005394422664265453, 0.035869059582989096, -0.08214353169240686, 0.0031193524628764504, -0.003654994796609344, -0.006036662508204476, 0.0031193524628764504, 0.01051612502622707, 0.09298920975581482, 0.0031193524628764504, -0.08214353169240686, -0.007441614352799584, -0.006036662508204476, -0.003654994796609344, 0.0014667075653522488, -0.006036662508204476, 0.0031193524628764504, -0.08214353169240686, -0.003654994796609344, -0.003654994796609344, -0.003654994796609344, 0.0031193524628764504, -0.006036662508204476, 0.0019125927922921, -0.003654994796609344, 0.00018702226821404368, -0.003654994796609344, -0.003654994796609344, -0.006036662508204476, -0.003654994796609344, 0.005394422664265453, -0.003654994796609344, -0.003654994796609344, -0.006732884755214934, 0.0017455973469750218, -0.006036662508204476, 0.0014667075653522488, 0.0031193524628764504, -0.003654994796609344, 0.0019125927922921, -0.006036662508204476, -0.006036662508204476, -0.003654994796609344, -0.003654994796609344, 0.005394422664265453, -0.0916809134835358, 0.01051612502622707, -0.003654994796609344, 0.005394422664265195, -0.006036662508204476, -0.10576223735988444, -0.006036662508204476, 0.005394422664265453, 0.0031193524628764504, -0.006036662508204476, 0.0031193524628764504, -0.006036662508204476, -0.003654994796609344, -0.003654994796609344, -0.003654994796609344, 0.010962010253167074, -0.006036662508204476, 0.005394422664265453, 0.0031193524628764504, -0.003654994796609344, -0.006036662508204476, -0.00011319117632206033, 0.010962010253167074, -0.005163651316277666, -0.07490249886451059, -0.014646973152081836, -0.014646973152081836, -0.017934671165680576, 0.0014667075653522488, -0.006036662508204476, -0.003654994796609344, 0.0014667075653522488, 0.07557864136079805, -0.017934671165680576, -0.006036662508204476, 0.005394422664265453, 0.0031193524628764504, -0.003654994796609344, -0.003654994796609344, -0.014030220774589536, -0.05728179248026627, -0.006036662508204476, 0.030719522104835507, -0.003654994796609344, 0.0084963153630964, -0.003654994796609344, 0.0019125927922921, -0.014646973152081836, -0.0331500081911475, -0.003654994796609344, -0.015782302216089745, -0.009615079475195746, -0.003654994796609344, -0.008177595945365343, -0.006036662508204476, -0.006732884755214934, 0.010962010253167074, -0.002313844384312963, -0.006036662508204476, -0.007441614352799584, -0.014646973152081836, 0.0014667075653522488, -0.003654994796609344, -0.005597555691206676, -0.006732884755214934, -0.003654994796609344, -0.003654994796609344, -0.006036662508204476, 0.0019125927922921, -0.003654994796609344, -0.006732884755214934, -0.003654994796609344, -0.003654994796609344, 0.0030127549526700924, -0.003654994796609344, -0.003654994796609344, -0.005163651316277666, 0.08243749331648456, -0.003654994796609344, 0.01051612502622707, 0.027059679592174812, -0.006036662508204476, -0.01201801848885846, 0.005394422664265453, -0.035631834479410485, -0.014646973152081836, -0.003654994796609344, -0.003654994796609344, 0.005394422664265453, -0.01388202974517214, 0.09475106223600563, 0.0031193524628764504, -0.003654994796609344, -0.003654994796609344, 0.12145031025635987, -0.003654994796609344, -0.015782302216089745, 0.0031193524628764504, -0.01793874794992773, -0.003654994796609344, -0.0223803300506951, 0.005394422664265453, -0.003654994796609344, 0.005394422664265453, -0.08214353169240686, -0.003654994796609344, 0.008936226284552897, -0.0992118362666787, -0.006732884755214934, 0.010962010253167074, -0.011860654723702142, -0.02698816541080226, -0.006732884755214934, -0.015782302216089745, 0.005394422664265453, -0.06983551671691242, -0.0005531020977786428, -0.006732884755214934, -0.003654994796609344, -0.003654994796609344, 0.0030127549526700924, -0.006036662508204476, 0.005394422664265453, 0.0031193524628764504, 0.005394422664265453, 0.005394422664265453, -0.06411600204900055, 0.0030127549526700924, -0.015782302216089745, -0.003654994796609344, -0.05551940341675849, 0.030719522104835507, -0.002968601027983135, -0.0127111722184922, 0.0030127549526700924, -0.07904662672766734, -0.015782302216089745, -0.003654994796609344, -0.015782302216089745, -0.006732884755214934, -0.003654994796609344, 0.0030127549526700924, -0.003654994796609344, -0.01201801848885846, -0.08214353169240686, -0.006036662508204476, -0.006036662508204476, -0.007441614352799584, 0.0030127549526700924, -0.003654994796609344, -0.006036662508204476, 0.0017455973469750218, -0.003654994796609344, -0.003654994796609344, 0.010962010253167074, -0.003654994796609344, -0.006036662508204476, -0.003654994796609344, 0.0019125927922921, -0.006036662508204476, -0.003654994796609344, 0.0019125927922921, -0.003654994796609344, -0.006036662508204476, -0.003654994796609344, 0.0031193524628764504, -0.0047217767821604115, 0.0019125927922921, -0.007441614352799584, 0.005394422664265453, -0.003654994796609344, 0.030719522104835507, -0.003654994796609344, 0.0014667075653522488, -0.007441614352799584, -0.007441614352799584, 0.010962010253167074, 0.0031193524628764504, 0.06683380278694252, -0.038455688118332505, 0.015381050624070166, -0.003654994796609344, 0.005394422664265453]}, {\"customdata\": [[\"SHA-256\"], [\"Ethash\"], [\"Scrypt\"], [\"CryptoNight-V7\"], [\"Ethash\"], [\"Equihash\"], [\"Multiple\"], [\"Scrypt\"], [\"X11\"], [\"SHA-256\"], [\"Scrypt\"], [\"SHA-256\"], [\"Multiple\"], [\"Scrypt\"], [\"SHA-256\"], [\"Scrypt\"], [\"Scrypt\"], [\"Quark\"], [\"Groestl\"], [\"Scrypt\"], [\"X11\"], [\"Scrypt\"], [\"Scrypt\"], [\"Scrypt\"], [\"X11\"], [\"Multiple\"], [\"Scrypt\"], [\"SHA-256\"], [\"Scrypt\"], [\"Scrypt\"], [\"Scrypt\"], [\"Scrypt\"], [\"Scrypt\"], [\"Scrypt\"], [\"SHA-256\"], [\"Scrypt\"], [\"NeoScrypt\"], [\"Scrypt\"], [\"Scrypt\"], [\"Scrypt\"], [\"Multiple\"], [\"Scrypt\"], [\"SHA-256\"], [\"Scrypt\"], [\"Scrypt\"], [\"Scrypt\"], [\"Scrypt\"], [\"Scrypt\"], [\"HybridScryptHash256\"], [\"Scrypt\"], [\"SHA-256\"], [\"Scrypt\"], [\"SHA-256\"], [\"Scrypt\"], [\"Scrypt\"], [\"Scrypt\"], [\"Scrypt\"], [\"Scrypt\"], [\"Scrypt-n\"], [\"Scrypt\"], [\"SHA-256\"], [\"SHA-256\"], [\"SHA-256\"], [\"SHA-256\"], [\"SHA-256\"], [\"SHA-256\"], [\"X11\"], [\"Scrypt\"], [\"X11\"], [\"Lyra2REv2\"], [\"Scrypt\"], [\"SHA-256\"], [\"CryptoNight\"], [\"CryptoNight\"], [\"Scrypt\"], [\"SHA-256\"], [\"Scrypt\"], [\"Scrypt\"], [\"Scrypt\"], [\"Scrypt\"], [\"Scrypt\"], [\"Momentum\"], [\"Stanford Folding\"], [\"Multiple\"], [\"QuBit\"], [\"Scrypt\"], [\"Scrypt\"], [\"SHA-256\"], [\"M7 POW\"], [\"Scrypt\"], [\"X11\"], [\"Scrypt\"], [\"SHA-256\"], [\"Scrypt\"], [\"X11\"], [\"X11\"], [\"Lyra2RE\"], [\"SHA-256\"], [\"X11\"], [\"Scrypt\"], [\"Scrypt\"], [\"Ethash\"], [\"Blake2b\"], [\"X11\"], [\"SHA-256\"], [\"Scrypt\"], [\"Scrypt\"], [\"1GB AES Pattern Search\"], [\"Scrypt\"], [\"CryptoNight\"], [\"SHA-256\"], [\"SHA-256\"], [\"X11\"], [\"Scrypt-n\"], [\"X11\"], [\"Scrypt\"], [\"Dagger\"], [\"Scrypt\"], [\"CryptoNight-Lite\"], [\"X11GOST\"], [\"SHA-256\"], [\"Scrypt\"], [\"X11\"], [\"SHA-256\"], [\"Scrypt\"], [\"X11\"], [\"Equihash\"], [\"CryptoNight\"], [\"SHA-256\"], [\"Multiple\"], [\"Scrypt\"], [\"SHA-256\"], [\"Scrypt\"], [\"Scrypt\"], [\"Scrypt-n\"], [\"Lyra2Z\"], [\"SHA-256\"], [\"Quark\"], [\"Ethash\"], [\"SHA-256\"], [\"Equihash\"], [\"Scrypt\"], [\"Equihash\"], [\"X11\"], [\"X11\"], [\"CryptoNight\"], [\"Scrypt\"], [\"CryptoNight\"], [\"Lyra2RE\"], [\"X11\"], [\"X11\"], [\"Scrypt\"], [\"CryptoNight-V7\"], [\"Keccak\"], [\"Scrypt\"], [\"X11\"], [\"Equihash\"], [\"Scrypt\"], [\"Lyra2RE\"], [\"Ethash\"], [\"X11\"], [\"Dagger-Hashimoto\"], [\"Scrypt\"], [\"NIST5\"], [\"Scrypt\"], [\"Scrypt\"], [\"Scrypt\"], [\"SHA-256\"], [\"Scrypt\"], [\"CryptoNight-V7\"], [\"Argon2d\"], [\"Blake2b\"], [\"Cloverhash\"], [\"CryptoNight\"], [\"X11\"], [\"Scrypt\"], [\"Scrypt\"], [\"X11\"], [\"X11\"], [\"CryptoNight\"], [\"Time Travel\"], [\"Scrypt\"], [\"Keccak\"], [\"X11\"], [\"SHA-256\"], [\"Scrypt\"], [\"Scrypt\"], [\"Scrypt\"], [\"Scrypt\"], [\"Scrypt\"], [\"Scrypt\"], [\"Scrypt\"], [\"Scrypt\"], [\"CryptoNight\"], [\"Equihash\"], [\"X11\"], [\"NeoScrypt\"], [\"Equihash\"], [\"Dagger\"], [\"Scrypt\"], [\"X11\"], [\"NeoScrypt\"], [\"Scrypt\"], [\"Ethash\"], [\"Scrypt\"], [\"NeoScrypt\"], [\"Multiple\"], [\"CryptoNight\"], [\"CryptoNight\"], [\"Ethash\"], [\"X11\"], [\"SHA-256\"], [\"CryptoNight-V7\"], [\"Scrypt\"], [\"BLAKE256\"], [\"X11\"], [\"NeoScrypt\"], [\"NeoScrypt\"], [\"Scrypt\"], [\"X11\"], [\"SHA-256\"], [\"C11\"], [\"Ethash\"], [\"CryptoNight\"], [\"SkunkHash\"], [\"CryptoNight\"], [\"Equihash\"], [\"Skein\"], [\"Scrypt\"], [\"Dagger\"], [\"Lyra2REv2\"], [\"Scrypt\"], [\"Scrypt\"], [\"Scrypt\"], [\"NeoScrypt\"], [\"Equihash\"], [\"X11\"], [\"Ethash\"], [\"X11\"], [\"CryptoNight\"], [\"NeoScrypt\"], [\"Scrypt\"], [\"IMesh\"], [\"Equihash\"], [\"Equihash\"], [\"Equihash\"], [\"Lyra2Z\"], [\"X11\"], [\"CryptoNight\"], [\"NIST5\"], [\"Lyra2RE\"], [\"Tribus\"], [\"Lyra2Z\"], [\"CryptoNight\"], [\"CryptoNight Heavy\"], [\"CryptoNight\"], [\"Jump Consistent Hash\"], [\"CryptoNight\"], [\"X16R\"], [\"HMQ1725\"], [\"X11\"], [\"Scrypt\"], [\"CryptoNight-V7\"], [\"Cryptonight-GPU\"], [\"XEVAN\"], [\"CryptoNight Heavy\"], [\"Lyra2REv2\"], [\"SHA-256\"], [\"X11\"], [\"X16R\"], [\"Equihash\"], [\"Quark\"], [\"CryptoNight Heavy X\"], [\"Lyra2Z\"], [\"Ethash\"], [\"SHA-256\"], [\"Ethash\"], [\"CryptoNight\"], [\"SkunkHash\"], [\"Argon2\"], [\"Blake\"], [\"Blake\"], [\"SHA-256\"], [\"Equihash\"], [\"Exosis\"], [\"Scrypt\"], [\"Equihash\"], [\"Equihash\"], [\"QuBit\"], [\"Equihash1927\"], [\"SHA-256\"], [\"SHA-256\"], [\"X13\"], [\"SHA-256\"], [\"X11\"], [\"Scrypt\"], [\"NeoScrypt\"], [\"Blake\"], [\"CryptoNight\"], [\"Scrypt\"], [\"SHA-256\"], [\"CryptoNight\"], [\"Scrypt\"], [\"Groestl\"], [\"Scrypt\"], [\"Scrypt\"], [\"Scrypt\"], [\"SHA3-256\"], [\"Multiple\"], [\"Equihash+Scrypt\"], [\"Ethash\"], [\"Ethash\"], [\"CryptoNight\"], [\"Equihash\"]], \"hoverlabel\": {\"namelength\": 0}, \"hovertemplate\": \"<b>%{hovertext}</b><br><br>Class=%{marker.color}<br>PC 1=%{x}<br>PC 2=%{y}<br>PC 3=%{z}<br>Algorithm=%{customdata[0]}\", \"hovertext\": [\"Bitcoin\", \"Ethereum\", \"Litecoin\", \"Monero\", \"Ethereum Classic\", \"ZCash\", \"DigiByte\", \"ProsperCoin\", \"Spreadcoin\", \"ACoin\", \"Argentum\", \"BetaCoin\", \"MyriadCoin\", \"MoonCoin\", \"ZetaCoin\", \"SexCoin\", \"Quatloo\", \"QuarkCoin\", \"Riecoin\", \"Digitalcoin \", \"LimeCoinX\", \"BitMark\", \"Catcoin\", \"CannaCoin\", \"CryptCoin\", \"Verge\", \"DarkShibe\", \"DevCoin\", \"EarthCoin\", \"E-Gulden\", \"Elacoin\", \"Einsteinium\", \"Emerald\", \"Flappy Coin\", \"FireRoosterCoin\", \"Franko\", \"FeatherCoin\", \"GrandCoin\", \"GlobalCoin\", \"GoldCoin\", \"HunterCoin\", \"Infinite Coin\", \"IXcoin\", \"KrugerCoin\", \"LuckyCoin\", \"Litebar \", \"LitecoinDark\", \"MegaCoin\", \"MediterraneanCoin\", \"MinCoin\", \"NoirBits\", \"NobleCoin\", \"Namecoin\", \"NyanCoin\", \"RipOffCoin\", \"RonPaulCoin\", \"StableCoin\", \"SmartCoin\", \"SpainCoin\", \"SecureCoin\", \"SysCoin\", \"TigerCoin\", \"TerraCoin\", \"Umbrella\", \"UnbreakableCoin\", \"Unobtanium\", \"UroCoin\", \"ViaCoin\", \"VootCoin\", \"Vertcoin\", \"WorldCoin\", \"JouleCoin\", \"ByteCoin\", \"DigitalNote \", \"MonaCoin\", \"Sling Coin\", \"Gulden\", \"PesetaCoin\", \"Wild Beast Coin\", \"Flo\", \"ArtByte\", \"BitCredit\", \"Folding Coin\", \"Unitus\", \"CypherPunkCoin\", \"OmniCron\", \"GreenCoin\", \"Unattanium\", \"Cryptonite\", \"Gridmaster\", \"ConSpiracy Coin \", \"MasterCoin\", \"SoonCoin\", \"1Credit\", \"Quicksilver coin\", \"MarsCoin \", \"Crypto\", \"Anarchists Prime\", \"BowsCoin\", \"Song Coin\", \"BitZeny\", \"Expanse\", \"Siacoin\", \"MindCoin\", \"I0coin\", \"DogeCoinDark\", \"Revolution VR\", \"HOdlcoin\", \"Gamecredits\", \"Dashcoin\", \"CarpeDiemCoin\", \"Phalanx\", \"SunShotCoin\", \"HempCoin\", \"Adzcoin\", \"VirtaCoin\", \"SoilCoin\", \"YoCoin\", \"AEON\", \"SibCoin\", \"Anti Bitcoin\", \"Francs\", \"BolivarCoin\", \"Clinton\", \"Omni\", \"PizzaCoin\", \"Komodo\", \"Karbo\", \"ZayedCoin\", \"Circuits of Value\", \"DopeCoin\", \"DollarCoin\", \"Shilling\", \"GBR Coin\", \"FujiCoin\", \"ZCoin\", \"LeaCoin\", \"Zurcoin\", \"Elementrem\", \"CashOut\", \"ZClassic\", \"KiloCoin\", \"Hush\", \"ArtexCoin\", \"Kurrent\", \"Cannabis Industry Coin\", \"OsmiumCoin\", \"Bikercoins\", \"HexxCoin\", \"MarxCoin\", \"PacCoin\", \"Solarflarecoin\", \"Citadel\", \"CreativeChain\", \"BeaverCoin\", \"VaultCoin\", \"Zero\", \"Canada eCoin\", \"Zoin\", \"Musicoin\", \"BnrtxCoin\", \"DubaiCoin\", \"EB3coin\", \"Coinonat\", \"Bitcoin Scrypt\", \"BenjiRolls\", \"ParallelCoin\", \"ILCoin\", \"EquiTrader\", \"Quantum Resistant Ledger\", \"Dynamic\", \"Nano\", \"ChanCoin\", \"Dinastycoin\", \"DigitalPrice\", \"Unify\", \"SocialCoin\", \"ArcticCoin\", \"DAS\", \"LeviarCoin\", \"Bitcore\", \"gCn Coin\", \"SmartCash\", \"Onix\", \"Bitcoin Cash\", \"CampusCoin\", \"Sojourn Coin\", \"NewYorkCoin\", \"LiteBitcoin\", \"FrazCoin\", \"Kronecoin\", \"AdCoin\", \"Linx\", \"Sumokoin\", \"BitcoinZ\", \"Elements\", \"VIVO Coin\", \"Bitcoin Gold\", \"Pirl\", \"eBoost\", \"Pura\", \"Innova\", \"Bitdeal\", \"Ellaism\", \"Sakuracoin\", \"GoByte\", \"SHIELD\", \"UltraNote\", \"BitCoal\", \"DaxxCoin\", \"AC3\", \"CHIPS\", \"Lethean\", \"PopularCoin\", \"Photon\", \"Sucre\", \"SparksPay\", \"GunCoin\", \"IrishCoin\", \"Pioneer Coin\", \"UnitedBitcoin\", \"Interzone\", \"1717 Masonic Commemorative Token\", \"TurtleCoin\", \"MUNcoin\", \"Niobio Cash\", \"Bitcoin Private\", \"Skeincoin\", \"ShareChain\", \"Travelflex\", \"KREDS\", \"BitFlip\", \"LottoCoin\", \"LeafCoin\", \"Cerberus\", \"Bitcoin Hush\", \"Crypto Improvement Fund\", \"Callisto Network\", \"Curium\", \"BitTube\", \"Dinero\", \"Poseidon\", \"Aidos Kuneen\", \"Snowgem\", \"Bitrolium\", \"Bitcoin Interest\", \"Alpenschillling\", \"FuturoCoin\", \"Monero Classic\", \"Jumpcoin\", \"Infinex\", \"KEYCO\", \"GINcoin\", \"PlatinCoin\", \"Loki\", \"Newton Coin\", \"MassGrid\", \"PluraCoin\", \"Motion\", \"PlusOneCoin\", \"Axe\", \"HexCoin\", \"Webchain\", \"Ryo\", \"Urals Coin\", \"Qwertycoin\", \"NIX\", \"Project Pai\", \"Azart\", \"Xchange\", \"CrypticCoin\", \"ZestCoin\", \"X-CASH\", \"Actinium\", \"ETHER-1\", \"Bitcoin SV\", \"Bitcoiin2Gen\", \"FREDEnergy\", \"C25 Coin\", \"Aquachain\", \"Universal Molecule\", \"Lithium\", \"Smart Bitcoin\", \"PirateCash\", \"Exosis\", \"Block-Logic\", \"Beam\", \"Bithereum\", \"SLICE\", \"Vidulum\", \"BlockStamp\", \"BLAST\", \"Bitcoin Rhodium\", \"GlobalToken\", \"Boolberry\", \"SolarCoin\", \"UFO Coin\", \"BlakeCoin\", \"FantomCoin \", \"Crypto Escudo\", \"Crown Coin\", \"Quazar Coin\", \"SmileyCoin\", \"Groestlcoin\", \"Bata\", \"Pakcoin\", \"Dotcoin\", \"Fiii\", \"JoinCoin\", \"Vollar\", \"Reality Clash\", \"iOlite\", \"Beldex\", \"Horizen\"], \"legendgroup\": \"Class=0\", \"marker\": {\"color\": [0, 0, 0, 0, 0, 0, 0, 0, 0, 0, 0, 0, 0, 0, 0, 0, 0, 0, 0, 0, 0, 0, 0, 0, 0, 0, 0, 0, 0, 0, 0, 0, 0, 0, 0, 0, 0, 0, 0, 0, 0, 0, 0, 0, 0, 0, 0, 0, 0, 0, 0, 0, 0, 0, 0, 0, 0, 0, 0, 0, 0, 0, 0, 0, 0, 0, 0, 0, 0, 0, 0, 0, 0, 0, 0, 0, 0, 0, 0, 0, 0, 0, 0, 0, 0, 0, 0, 0, 0, 0, 0, 0, 0, 0, 0, 0, 0, 0, 0, 0, 0, 0, 0, 0, 0, 0, 0, 0, 0, 0, 0, 0, 0, 0, 0, 0, 0, 0, 0, 0, 0, 0, 0, 0, 0, 0, 0, 0, 0, 0, 0, 0, 0, 0, 0, 0, 0, 0, 0, 0, 0, 0, 0, 0, 0, 0, 0, 0, 0, 0, 0, 0, 0, 0, 0, 0, 0, 0, 0, 0, 0, 0, 0, 0, 0, 0, 0, 0, 0, 0, 0, 0, 0, 0, 0, 0, 0, 0, 0, 0, 0, 0, 0, 0, 0, 0, 0, 0, 0, 0, 0, 0, 0, 0, 0, 0, 0, 0, 0, 0, 0, 0, 0, 0, 0, 0, 0, 0, 0, 0, 0, 0, 0, 0, 0, 0, 0, 0, 0, 0, 0, 0, 0, 0, 0, 0, 0, 0, 0, 0, 0, 0, 0, 0, 0, 0, 0, 0, 0, 0, 0, 0, 0, 0, 0, 0, 0, 0, 0, 0, 0, 0, 0, 0, 0, 0, 0, 0, 0, 0, 0, 0, 0, 0, 0, 0, 0, 0, 0, 0, 0, 0, 0, 0, 0, 0, 0, 0, 0, 0, 0, 0, 0, 0, 0, 0, 0, 0, 0, 0, 0, 0, 0, 0, 0, 0, 0, 0, 0, 0, 0, 0, 0, 0, 0, 0, 0, 0, 0, 0, 0, 0, 0, 0], \"coloraxis\": \"coloraxis\", \"symbol\": \"diamond\"}, \"mode\": \"markers\", \"name\": \"Class=0\", \"scene\": \"scene\", \"showlegend\": true, \"type\": \"scatter3d\", \"x\": [1.5075002124884125, 2.1520762026209694, 0.9807005626273106, 2.147390006586514, 2.152076202620972, 1.9946926225881378, 1.8267085825782214, 0.9807005626273099, 0.9306379810347924, 1.507500212488411, 0.9807005626273099, 1.507500212488411, 1.8267085825782214, 0.9807005626273099, 1.507500212488411, 0.9807005626273099, 0.9807005626273099, 0.6829104673721154, 1.2138613068540758, 0.9807005626273099, 0.9306379810347924, 0.9807005626273099, 0.9807005626273099, 0.9807005626273099, 0.9306379810347924, 1.8267085825782214, 0.9807005626273099, 1.507500212488411, 0.9807005626273099, 0.9807005626273099, 0.9807005626273099, 0.9807005626273099, 0.9807005626273099, 0.9807005626273099, 1.507500212488411, 0.9807005626273099, 1.6152389911170852, 0.9807005626273099, 0.9807005626273099, 0.9807005626273099, 1.8267085825782214, 0.9807005626273099, 1.507500212488411, 0.9807005626273099, 0.9807005626273099, 0.9807005626273099, 0.9807005626273099, 0.9807005626273099, 2.2751900225597756, 0.9807005626273099, 1.507500212488411, 0.9807005626273099, 1.507500212488411, 0.9807005626273099, 0.9807005626273099, 0.9807005626273099, 0.9807005626273099, 0.9807005626273099, 2.2264353541203517, 0.9807005626273099, 1.507500212488411, 1.507500212488411, 1.507500212488411, 1.507500212488411, 1.507500212488411, 1.507500212488411, 0.9306379810347924, 0.9807005626273099, 0.9306379810347924, 1.5409169733388262, 0.9807005626273099, 1.507500212488411, 2.3587354533012306, 2.3587354533012306, 0.9807005626273099, 1.507500212488411, 0.9807005626273099, 0.9807005626273099, 0.9807005626273099, 0.9807005626273099, 0.9807005626273099, 2.3929707248453544, 2.275014774715576, 1.8267085825782214, 1.1496671324816183, 0.9807005626273099, 0.9807005626273099, 1.507500212488411, 2.2971362095132277, 0.9807005626273099, 0.9306379810347924, 0.9807005626273099, 1.507500212488411, 0.9807005626273099, 0.9306379810347924, 0.9306379810347924, 2.3343914385286175, 1.507500212488411, 0.9306379810347924, 0.9807005626273099, 0.9807005626273099, 2.1520762026209725, 2.233768737563658, 0.9306379810347924, 1.507500212488411, 0.9807005626273099, 0.9807005626273099, 2.075361828029533, 0.9807005626273099, 2.3587354533012306, 1.507500212488411, 1.507500212488411, 0.9306379810347924, 2.2264353541203517, 0.9306379810347924, 0.9807005626273099, 2.202301068581178, 0.9807005626273099, 2.292955489757818, 2.2367222360341543, 1.507500212488411, 0.9807005626273099, 0.9306379810347924, 1.507500212488411, 0.9807005626273099, 0.9306379810347924, 1.2117078124890477, 2.3587354533012306, 1.507500212488411, 1.8267085825782214, 0.9807005626273099, 1.507500212488411, 0.9807005626273099, 0.9807005626273099, 2.2264353541203517, 2.293591852893586, 1.507500212488411, 0.6829104673721154, 2.1520762026209725, 1.507500212488411, 1.9946926225881367, 0.9807005626273099, 1.9946926225881367, 0.9306379810347924, 0.9306379810347924, 2.3587354533012306, 0.9807005626273099, 2.3587354533012306, 2.3343914385286175, 0.9306379810347924, 0.9306379810347924, 0.9807005626273099, 2.147390006586514, 1.5002242618009878, 0.9807005626273099, 0.9306379810347924, 1.9946926225881367, 0.9807005626273099, 2.3343914385286175, 2.1520762026209725, 0.9306379810347924, 2.266122012252272, 0.9807005626273099, 0.510392406245542, 0.9807005626273099, 0.9807005626273099, 0.9807005626273099, 1.507500212488411, 0.9807005626273099, 2.147390006586514, 2.183419983586596, 2.233768737563658, 2.073211548308968, 2.3587354533012306, 0.9306379810347924, 0.9807005626273099, 0.9807005626273099, 0.9306379810347924, 0.9306379810347924, 2.3587354533012306, 2.4082643552399423, 0.9807005626273099, 1.5002242618009878, 0.9306379810347924, 1.507500212488411, 0.9807005626273099, 0.9807005626273099, 0.9807005626273099, 0.9807005626273099, 0.9807005626273099, 0.9807005626273099, 0.9807005626273099, 0.9807005626273099, 2.3587354533012306, 1.9946926225881367, 0.9306379810347924, 1.6152389911170852, 1.9946926225881367, 2.202301068581178, 0.9807005626273099, 0.9306379810347924, 1.6152389911170852, 0.9807005626273099, 2.1520762026209725, 0.9807005626273099, 1.6152389911170852, 1.8267085825782214, 2.3587354533012306, 2.3587354533012306, 2.1520762026209725, 0.9306379810347924, 1.507500212488411, 2.147390006586514, 0.9807005626273099, 1.2835772418225755, 0.9306379810347924, 1.6152389911170852, 1.6152389911170852, 0.9807005626273099, 0.9306379810347924, 1.507500212488411, 1.2572839376177534, 0.36560488137246006, 2.3587354533012306, 1.5418469445417133, 2.3587354533012306, 1.9946926225881367, 0.8400359883686574, 0.9807005626273099, 2.202301068581178, 1.5409169733388262, 0.9807005626273099, 0.9807005626273099, 0.9807005626273099, 1.6152389911170852, 1.9946926225881367, 0.9306379810347924, 2.1520762026209725, 0.9306379810347924, 2.3587354533012306, 1.6152389911170852, 0.9807005626273099, 2.367128463868463, 1.9946926225881367, 1.9946926225881367, 1.9946926225881367, 2.293591852893586, 0.9306379810347924, 2.3587354533012306, 0.510392406245542, 2.3343914385286175, 2.310674249389816, 2.293591852893586, 2.3587354533012306, 2.2337585289532846, 2.3587354533012306, 1.9891288821500617, 2.3587354533012306, 1.359799293289734, 2.295962648956981, 0.9306379810347924, 0.9807005626273099, 2.147390006586514, 2.4264979636621673, 0.8002711918377964, 2.2337585289532846, 1.5409169733388262, 1.507500212488411, 0.9306379810347924, 1.359799293289734, 1.9946926225881367, 0.6829104673721154, 2.336670484107002, 2.293591852893586, 2.1520762026209725, 1.507500212488411, 2.1520762026209725, 2.3587354533012306, 1.5418469445417133, 2.191890640337159, 1.7968430065241656, 1.7968430065241656, 1.507500212488411, 0.20822130133962463, 2.0838197628131447, 0.9807005626273099, 1.9946926225881367, 1.9946926225881367, 1.1496671324816183, 2.1628185431704914, 1.507500212488411, 1.507500212488411, 0.35624291646357326, 1.507500212488411, 0.9306379810347924, 0.9807005626273099, 1.6152389911170852, 1.7968430065241656, 2.3587354533012306, 0.9807005626273099, 1.507500212488411, 2.3587354533012306, 0.9807005626273099, 1.2138613068540758, 0.9807005626273099, 0.9807005626273099, 0.9807005626273099, 3.675470125656865, 1.8267085825782214, 2.219314853745803, 2.1520762026209725, 2.1520762026209725, 2.3587354533012306, 1.9946926225881367], \"y\": [0.11576402236625165, 0.18965259471384813, -0.04119283129823002, 0.28798701674163235, 0.18965259471384674, 0.19050534390878074, 0.134713442581233, -0.041192831298236275, -0.018809294932189965, 0.11576402236625565, -0.041192831298236275, 0.11576402236625565, 0.134713442581233, -0.041192831298236275, 0.11576402236625565, -0.041192831298236275, -0.041192831298236275, 0.02802445193452796, 0.07926754610757422, -0.041192831298236275, -0.018809294932189965, -0.041192831298236275, -0.041192831298236275, -0.041192831298236275, -0.018809294932189965, 0.134713442581233, -0.041192831298236275, 0.11576402236625565, -0.041192831298236275, -0.041192831298236275, -0.041192831298236275, -0.041192831298236275, -0.041192831298236275, -0.041192831298236275, 0.11576402236625565, -0.041192831298236275, 0.12583995894426286, -0.041192831298236275, -0.041192831298236275, -0.041192831298236275, 0.134713442581233, -0.041192831298236275, 0.11576402236625565, -0.041192831298236275, -0.041192831298236275, -0.041192831298236275, -0.041192831298236275, -0.041192831298236275, 0.18445974750367805, -0.041192831298236275, 0.11576402236625565, -0.041192831298236275, 0.11576402236625565, -0.041192831298236275, -0.041192831298236275, -0.041192831298236275, -0.041192831298236275, -0.041192831298236275, 0.2671652674727138, -0.041192831298236275, 0.11576402236625565, 0.11576402236625565, 0.11576402236625565, 0.11576402236625565, 0.11576402236625565, 0.11576402236625565, -0.018809294932189965, -0.041192831298236275, -0.018809294932189965, 0.12419457773636967, -0.041192831298236275, 0.11576402236625565, 0.19429136431623617, 0.19429136431623617, -0.041192831298236275, 0.11576402236625565, -0.041192831298236275, -0.041192831298236275, -0.041192831298236275, -0.041192831298236275, -0.041192831298236275, 0.17279748278721913, 0.04087581390958389, 0.134713442581233, 0.169996105496187, -0.041192831298236275, -0.041192831298236275, 0.11576402236625565, 0.3156130798521502, -0.041192831298236275, -0.018809294932189965, -0.041192831298236275, 0.11576402236625565, -0.041192831298236275, -0.018809294932189965, -0.018809294932189965, 0.2620249735097166, 0.11576402236625565, -0.018809294932189965, -0.041192831298236275, -0.041192831298236275, 0.18965259471384663, 0.1320520707436026, -0.018809294932189965, 0.11576402236625565, -0.041192831298236275, -0.041192831298236275, 0.332583028471155, -0.041192831298236275, 0.19429136431623617, 0.11576402236625565, 0.11576402236625565, -0.018809294932189965, 0.2671652674727138, -0.018809294932189965, -0.041192831298236275, 0.24549534921411212, -0.041192831298236275, 0.13065706543210728, 0.41625706972136167, 0.11576402236625565, -0.041192831298236275, -0.018809294932189965, 0.11576402236625565, -0.041192831298236275, -0.018809294932189965, 0.178573211637825, 0.19429136431623617, 0.11576402236625565, 0.134713442581233, -0.041192831298236275, 0.11576402236625565, -0.041192831298236275, -0.041192831298236275, 0.2671652674727138, 0.2368867180240078, 0.11576402236625565, 0.02802445193452796, 0.18965259471384663, 0.11576402236625565, 0.19050534390878063, -0.041192831298236275, 0.19050534390878063, -0.018809294932189965, -0.018809294932189965, 0.19429136431623617, -0.041192831298236275, 0.19429136431623617, 0.2620249735097166, -0.018809294932189965, -0.018809294932189965, -0.041192831298236275, 0.2879870167416328, 0.12979304460611266, -0.041192831298236275, -0.018809294932189965, 0.19050534390878063, -0.041192831298236275, 0.2620249735097166, 0.18965259471384663, -0.018809294932189965, 0.26222352301364343, -0.041192831298236275, -0.08375444863213691, -0.041192831298236275, -0.041192831298236275, -0.041192831298236275, 0.11576402236625565, -0.041192831298236275, 0.2879870167416328, 0.15090887209064588, 0.1320520707436026, 0.293096186346049, 0.19429136431623617, -0.018809294932189965, -0.041192831298236275, -0.041192831298236275, -0.018809294932189965, -0.018809294932189965, 0.19429136431623617, 0.11251975399648217, -0.041192831298236275, 0.12979304460611266, -0.018809294932189965, 0.11576402236625565, -0.041192831298236275, -0.041192831298236275, -0.041192831298236275, -0.041192831298236275, -0.041192831298236275, -0.041192831298236275, -0.041192831298236275, -0.041192831298236275, 0.19429136431623617, 0.19050534390878063, -0.018809294932189965, 0.12583995894426286, 0.19050534390878063, 0.24549534921411212, -0.041192831298236275, -0.018809294932189965, 0.12583995894426286, -0.041192831298236275, 0.18965259471384663, -0.041192831298236275, 0.12583995894426286, 0.134713442581233, 0.19429136431623617, 0.19429136431623617, 0.18965259471384663, -0.018809294932189965, 0.11576402236625565, 0.2879870167416328, -0.041192831298236275, 0.026339582510535406, -0.018809294932189965, 0.12583995894426286, 0.12583995894426286, -0.041192831298236275, -0.018809294932189965, 0.11576402236625565, 0.05524389689486596, 0.07360751273698651, 0.19429136431623617, 0.13062041579260056, 0.19429136431623617, 0.19050534390878063, -0.08260248964672283, -0.041192831298236275, 0.24549534921411212, 0.12419457773636967, -0.041192831298236275, -0.041192831298236275, -0.041192831298236275, 0.12583995894426286, 0.19050534390878063, -0.018809294932189965, 0.18965259471384663, -0.018809294932189965, 0.19429136431623617, 0.12583995894426286, -0.041192831298236275, 0.19227747692906752, 0.19050534390878063, 0.19050534390878063, 0.19050534390878063, 0.2368867180240078, -0.018809294932189965, 0.19429136431623617, -0.08375444863213691, 0.2620249735097166, 0.14085456056934773, 0.2368867180240078, 0.19429136431623617, 0.1993307751258633, 0.19429136431623617, 0.5162514414855134, 0.19429136431623617, 0.1403331442571175, 0.1784276110791768, -0.018809294932189965, -0.041192831298236275, 0.2879870167416328, 0.14351862949419547, -0.00011992494307073294, 0.1993307751258633, 0.12419457773636967, 0.11576402236625565, -0.018809294932189965, 0.1403331442571175, 0.19050534390878063, 0.02802445193452796, 0.23033736962603976, 0.2368867180240078, 0.18965259471384663, 0.11576402236625565, 0.18965259471384663, 0.19429136431623617, 0.13062041579260056, 0.12366560861397896, 0.2202186766798044, 0.2202186766798044, 0.11576402236625565, 0.07446026193192025, 0.3367957659241579, -0.041192831298236275, 0.19050534390878063, 0.19050534390878063, 0.169996105496187, 0.3725714867607928, 0.11576402236625565, 0.11576402236625565, -0.09713846799230415, 0.11576402236625565, -0.018809294932189965, -0.041192831298236275, 0.12583995894426286, 0.2202186766798044, 0.19429136431623617, -0.041192831298236275, 0.11576402236625565, 0.19429136431623617, -0.041192831298236275, 0.07926754610757422, -0.041192831298236275, -0.041192831298236275, -0.041192831298236275, -8.016171767834182, 0.134713442581233, 0.1657173847829222, 0.18965259471384663, 0.18965259471384663, 0.19429136431623617, 0.19050534390878063], \"z\": [0.007744136679464524, -0.005395817583624474, 0.0021765490905653623, 0.020760349649144378, -0.005395817583629585, -0.008050485857999664, 0.0014349556796872528, 0.0021765490905621323, -0.0002051186210328967, 0.007744136679463619, 0.0021765490905621323, 0.007744136679463619, 0.00143495567968723, 0.0021765490905621323, 0.007744136679463619, 0.0021765490905621323, 0.0021765490905621323, -0.009950758328918093, 0.008536732310637752, 0.0021765490905621323, -0.0002051186210328967, 0.0021765490905621323, 0.0021765490905621323, 0.0021765490905621323, -0.0002051186210328967, 0.00143495567968723, 0.0021765490905621323, 0.007744136679463619, 0.0021765490905621323, 0.0021765490905621323, 0.0021765490905621323, 0.0021765490905621323, 0.0021765490905621323, 0.0021765490905621323, 0.007744136679463619, 0.0021765490905621323, 0.03655106599200697, 0.0021765490905621323, 0.0021765490905621323, 0.0021765490905621323, 0.00143495567968723, 0.0021765490905621323, 0.007744136679463619, 0.0021765490905621323, 0.0021765490905621323, 0.0021765490905621323, 0.0021765490905621323, 0.0021765490905621323, 0.13547848932454587, 0.0021765490905621323, 0.007744136679463619, 0.0021765490905621323, 0.007744136679463619, 0.0021765490905621323, 0.0021765490905621323, 0.0021765490905621323, 0.0021765490905621323, 0.0021765490905621323, 0.025069179379763773, 0.0021765490905621323, 0.007744136679463619, 0.007744136679463619, 0.007744136679463619, 0.007744136679463619, 0.007744136679463619, 0.007744136679463619, -0.0002051186210328967, 0.0021765490905621323, -0.0002051186210328967, 0.0052784417893928315, 0.0021765490905621323, 0.007744136679463619, -0.015524515873497999, -0.015524515873497999, 0.0021765490905621323, 0.007744136679463619, 0.0021765490905621323, 0.0021765490905621323, 0.0021765490905621323, 0.0021765490905621323, 0.0021765490905621323, 0.03344437970763179, -0.002804422675570946, 0.00143495567968723, 0.007577141234146543, 0.0021765490905621323, 0.0021765490905621323, 0.007744136679463619, -0.03873730689486126, 0.0021765490905621323, -0.0002051186210328967, 0.0021765490905621323, 0.007744136679463619, 0.0021765490905621323, -0.0002051186210328967, -0.0002051186210328967, -0.004297777749323478, 0.007744136679463619, -0.0002051186210328967, 0.0021765490905621323, 0.0021765490905621323, -0.005395817583629471, -0.0071537325054762445, -0.0002051186210328967, 0.007744136679463619, 0.0021765490905621323, 0.0021765490905621323, 0.12392729599147663, 0.0021765490905621323, -0.015524515873497999, 0.007744136679463619, 0.007744136679463619, -0.0002051186210328967, 0.025069179379763773, -0.0002051186210328967, 0.0021765490905621323, -0.02151204507135705, 0.0021765490905621323, -0.08318871825395688, -0.06991570004522038, 0.007744136679463619, 0.0021765490905621323, -0.0002051186210328967, 0.007744136679463619, 0.0021765490905621323, -0.0002051186210328967, -0.0480072203733144, -0.015524515873497999, 0.007744136679463619, 0.00143495567968723, 0.0021765490905621323, 0.007744136679463619, 0.0021765490905621323, 0.0021765490905621323, 0.025069179379763773, -0.03590490802979774, 0.007744136679463619, -0.009950758328918093, -0.005395817583629471, 0.007744136679463619, -0.008050485858000594, 0.0021765490905621323, -0.008050485858000594, -0.0002051186210328967, -0.0002051186210328967, -0.015524515873497999, 0.0021765490905621323, -0.015524515873497999, -0.004297777749323478, -0.0002051186210328967, -0.0002051186210328967, 0.0021765490905621323, 0.0207603496491465, -0.05828445816182916, 0.0021765490905621323, -0.0002051186210328967, -0.008050485858000594, 0.0021765490905621323, -0.004297777749323478, -0.0053958175836294735, -0.0002051186210328967, 0.043339722113059385, 0.0021765490905621323, -0.00881542926490992, 0.0021765490905621323, 0.0021765490905621323, 0.0021765490905621323, 0.007744136679463619, 0.0021765490905621323, 0.0207603496491465, 0.046827121053023765, -0.0071537325054762445, -0.08981922159437648, -0.015524515873497999, -0.0002051186210328967, 0.0021765490905621323, 0.0021765490905621323, -0.0002051186210328967, -0.0002051186210328967, -0.015524515873497999, -0.05311633323162945, 0.0021765490905621323, -0.05828445816182916, -0.0002051186210328967, 0.007744136679463619, 0.0021765490905621323, 0.0021765490905621323, 0.0021765490905621323, 0.0021765490905621323, 0.0021765490905621323, 0.0021765490905621323, 0.0021765490905621323, 0.0021765490905621323, -0.015524515873497999, -0.008050485858000594, -0.0002051186210328967, 0.03655106599200697, -0.008050485858000594, -0.02151204507135705, 0.0021765490905621323, -0.0002051186210328967, 0.03655106599200697, 0.0021765490905621323, -0.005395817583629471, 0.0021765490905621323, 0.03655106599200697, 0.00143495567968723, -0.015524515873497999, -0.015524515873497999, -0.005395817583629471, -0.0002051186210328967, 0.007744136679463619, 0.0207603496491465, 0.0021765490905621323, 0.0024758025964608196, -0.0002051186210328967, 0.03655106599200697, 0.03655106599200697, 0.0021765490905621323, -0.0002051186210328967, 0.007744136679463619, 0.03289122347934641, -0.0021779440099258898, -0.015524515873497999, -0.002346052058193636, -0.015524515873497999, -0.008050485858000594, -0.012103127278508681, 0.0021765490905621323, -0.02151204507135705, 0.0052784417893928315, 0.0021765490905621323, 0.0021765490905621323, 0.0021765490905621323, 0.03655106599200697, -0.008050485858000594, -0.0002051186210328967, -0.005395817583629471, -0.0002051186210328967, -0.015524515873497999, 0.03655106599200697, 0.0021765490905621323, 0.010212410834713007, -0.008050485858000594, -0.008050485858000594, -0.008050485858000594, -0.03590490802979774, -0.0002051186210328967, -0.015524515873497999, -0.00881542926490992, -0.004297777749323478, 0.026480469658025176, -0.03590490802979774, -0.015524515873497999, -0.016665790373466396, -0.015524515873497999, 0.1003040728330406, -0.015524515873497999, -0.021156621523630587, -0.09588119521330854, -0.0002051186210328967, 0.0021765490905621323, 0.0207603496491465, -0.004204838958616683, -0.006186474601686528, -0.016665790373466396, 0.0052784417893928315, 0.007744136679463619, -0.0002051186210328967, -0.021156621523630587, -0.008050485858000594, -0.009950758328918093, 0.07671057156480474, -0.03590490802979774, -0.005395817583629471, 0.007744136679463619, -0.005395817583629471, -0.015524515873497999, -0.002346052058193636, -0.0018317604462472635, 0.008040434825272254, 0.008040434825272254, 0.007744136679463619, -0.004832612284297124, 0.0702299025045104, 0.0021765490905621323, -0.008050485858000594, -0.008050485858000594, 0.007577141234146543, -0.09525840326635494, 0.007744136679463619, 0.007744136679463619, 0.007298251452523774, 0.007744136679463619, -0.0002051186210328967, 0.0021765490905621323, 0.03655106599200697, 0.008040434825272254, -0.015524515873497999, 0.0021765490905621323, 0.007744136679463619, -0.015524515873497999, 0.0021765490905621323, 0.008536732310637752, 0.0021765490905621323, 0.0021765490905621323, 0.0021765490905621323, -4.507104752670516, 0.00143495567968723, -0.026900588761342575, -0.005395817583629471, -0.005395817583629471, -0.015524515873497999, -0.008050485858000594]}, {\"customdata\": [[\"VeChainThor Authority\"], [\"Proof-of-Authority\"], [\"ECC 256K1\"], [\"Leased POS\"]], \"hoverlabel\": {\"namelength\": 0}, \"hovertemplate\": \"<b>%{hovertext}</b><br><br>Class=%{marker.color}<br>PC 1=%{x}<br>PC 2=%{y}<br>PC 3=%{z}<br>Algorithm=%{customdata[0]}\", \"hovertext\": [\"Vechain\", \"Poa Network\", \"Acute Angle Cloud\", \"Waves\"], \"legendgroup\": \"Class=2\", \"marker\": {\"color\": [2, 2, 2, 2], \"coloraxis\": \"coloraxis\", \"symbol\": \"square\"}, \"mode\": \"markers\", \"name\": \"Class=2\", \"scene\": \"scene\", \"showlegend\": true, \"type\": \"scatter3d\", \"x\": [-0.4476139422851487, -2.781027543110227, -2.511318028235083, -1.2489267043073375], \"y\": [4.8759136651437, 20.487164821708046, 14.101058961083288, 16.342408800484566], \"z\": [-10.777479109218534, -18.82824175517745, -4.3130423993610725, -1.3000381518392483]}, {\"customdata\": [[\"Proof-of-BibleHash\"], [\"SHA-256 + Hive\"]], \"hoverlabel\": {\"namelength\": 0}, \"hovertemplate\": \"<b>%{hovertext}</b><br><br>Class=%{marker.color}<br>PC 1=%{x}<br>PC 2=%{y}<br>PC 3=%{z}<br>Algorithm=%{customdata[0]}\", \"hovertext\": [\"BiblePay\", \"LitecoinCash\"], \"legendgroup\": \"Class=3\", \"marker\": {\"color\": [3, 3], \"coloraxis\": \"coloraxis\", \"symbol\": \"x\"}, \"mode\": \"markers\", \"name\": \"Class=3\", \"scene\": \"scene\", \"showlegend\": true, \"type\": \"scatter3d\", \"x\": [-0.8359322600399214, -2.124160260843039], \"y\": [8.619436255375351, 16.671382418016137], \"z\": [24.285691458921917, 16.445672295946107]}],\n",
       "                        {\"coloraxis\": {\"colorbar\": {\"title\": {\"text\": \"Class\"}}, \"colorscale\": [[0.0, \"#0d0887\"], [0.1111111111111111, \"#46039f\"], [0.2222222222222222, \"#7201a8\"], [0.3333333333333333, \"#9c179e\"], [0.4444444444444444, \"#bd3786\"], [0.5555555555555556, \"#d8576b\"], [0.6666666666666666, \"#ed7953\"], [0.7777777777777778, \"#fb9f3a\"], [0.8888888888888888, \"#fdca26\"], [1.0, \"#f0f921\"]]}, \"height\": 600, \"legend\": {\"tracegroupgap\": 0, \"x\": 0, \"y\": 1}, \"margin\": {\"t\": 60}, \"scene\": {\"domain\": {\"x\": [0.0, 0.98], \"y\": [0.0, 1.0]}, \"xaxis\": {\"title\": {\"text\": \"PC 1\"}}, \"yaxis\": {\"title\": {\"text\": \"PC 2\"}}, \"zaxis\": {\"title\": {\"text\": \"PC 3\"}}}, \"template\": {\"data\": {\"bar\": [{\"error_x\": {\"color\": \"#2a3f5f\"}, \"error_y\": {\"color\": \"#2a3f5f\"}, \"marker\": {\"line\": {\"color\": \"#E5ECF6\", \"width\": 0.5}}, \"type\": \"bar\"}], \"barpolar\": [{\"marker\": {\"line\": {\"color\": \"#E5ECF6\", \"width\": 0.5}}, \"type\": \"barpolar\"}], \"carpet\": [{\"aaxis\": {\"endlinecolor\": \"#2a3f5f\", \"gridcolor\": \"white\", \"linecolor\": \"white\", \"minorgridcolor\": \"white\", \"startlinecolor\": \"#2a3f5f\"}, \"baxis\": {\"endlinecolor\": \"#2a3f5f\", \"gridcolor\": \"white\", \"linecolor\": \"white\", \"minorgridcolor\": \"white\", \"startlinecolor\": \"#2a3f5f\"}, \"type\": \"carpet\"}], \"choropleth\": [{\"colorbar\": {\"outlinewidth\": 0, \"ticks\": \"\"}, \"type\": \"choropleth\"}], \"contour\": [{\"colorbar\": {\"outlinewidth\": 0, \"ticks\": \"\"}, \"colorscale\": [[0.0, \"#0d0887\"], [0.1111111111111111, \"#46039f\"], [0.2222222222222222, \"#7201a8\"], [0.3333333333333333, \"#9c179e\"], [0.4444444444444444, \"#bd3786\"], [0.5555555555555556, \"#d8576b\"], [0.6666666666666666, \"#ed7953\"], [0.7777777777777778, \"#fb9f3a\"], [0.8888888888888888, \"#fdca26\"], [1.0, \"#f0f921\"]], \"type\": \"contour\"}], \"contourcarpet\": [{\"colorbar\": {\"outlinewidth\": 0, \"ticks\": \"\"}, \"type\": \"contourcarpet\"}], \"heatmap\": [{\"colorbar\": {\"outlinewidth\": 0, \"ticks\": \"\"}, \"colorscale\": [[0.0, \"#0d0887\"], [0.1111111111111111, \"#46039f\"], [0.2222222222222222, \"#7201a8\"], [0.3333333333333333, \"#9c179e\"], [0.4444444444444444, \"#bd3786\"], [0.5555555555555556, \"#d8576b\"], [0.6666666666666666, \"#ed7953\"], [0.7777777777777778, \"#fb9f3a\"], [0.8888888888888888, \"#fdca26\"], [1.0, \"#f0f921\"]], \"type\": \"heatmap\"}], \"heatmapgl\": [{\"colorbar\": {\"outlinewidth\": 0, \"ticks\": \"\"}, \"colorscale\": [[0.0, \"#0d0887\"], [0.1111111111111111, \"#46039f\"], [0.2222222222222222, \"#7201a8\"], [0.3333333333333333, \"#9c179e\"], [0.4444444444444444, \"#bd3786\"], [0.5555555555555556, \"#d8576b\"], [0.6666666666666666, \"#ed7953\"], [0.7777777777777778, \"#fb9f3a\"], [0.8888888888888888, \"#fdca26\"], [1.0, \"#f0f921\"]], \"type\": \"heatmapgl\"}], \"histogram\": [{\"marker\": {\"colorbar\": {\"outlinewidth\": 0, \"ticks\": \"\"}}, \"type\": \"histogram\"}], \"histogram2d\": [{\"colorbar\": {\"outlinewidth\": 0, \"ticks\": \"\"}, \"colorscale\": [[0.0, \"#0d0887\"], [0.1111111111111111, \"#46039f\"], [0.2222222222222222, \"#7201a8\"], [0.3333333333333333, \"#9c179e\"], [0.4444444444444444, \"#bd3786\"], [0.5555555555555556, \"#d8576b\"], [0.6666666666666666, \"#ed7953\"], [0.7777777777777778, \"#fb9f3a\"], [0.8888888888888888, \"#fdca26\"], [1.0, \"#f0f921\"]], \"type\": \"histogram2d\"}], \"histogram2dcontour\": [{\"colorbar\": {\"outlinewidth\": 0, \"ticks\": \"\"}, \"colorscale\": [[0.0, \"#0d0887\"], [0.1111111111111111, \"#46039f\"], [0.2222222222222222, \"#7201a8\"], [0.3333333333333333, \"#9c179e\"], [0.4444444444444444, \"#bd3786\"], [0.5555555555555556, \"#d8576b\"], [0.6666666666666666, \"#ed7953\"], [0.7777777777777778, \"#fb9f3a\"], [0.8888888888888888, \"#fdca26\"], [1.0, \"#f0f921\"]], \"type\": \"histogram2dcontour\"}], \"mesh3d\": [{\"colorbar\": {\"outlinewidth\": 0, \"ticks\": \"\"}, \"type\": \"mesh3d\"}], \"parcoords\": [{\"line\": {\"colorbar\": {\"outlinewidth\": 0, \"ticks\": \"\"}}, \"type\": \"parcoords\"}], \"scatter\": [{\"marker\": {\"colorbar\": {\"outlinewidth\": 0, \"ticks\": \"\"}}, \"type\": \"scatter\"}], \"scatter3d\": [{\"line\": {\"colorbar\": {\"outlinewidth\": 0, \"ticks\": \"\"}}, \"marker\": {\"colorbar\": {\"outlinewidth\": 0, \"ticks\": \"\"}}, \"type\": \"scatter3d\"}], \"scattercarpet\": [{\"marker\": {\"colorbar\": {\"outlinewidth\": 0, \"ticks\": \"\"}}, \"type\": \"scattercarpet\"}], \"scattergeo\": [{\"marker\": {\"colorbar\": {\"outlinewidth\": 0, \"ticks\": \"\"}}, \"type\": \"scattergeo\"}], \"scattergl\": [{\"marker\": {\"colorbar\": {\"outlinewidth\": 0, \"ticks\": \"\"}}, \"type\": \"scattergl\"}], \"scattermapbox\": [{\"marker\": {\"colorbar\": {\"outlinewidth\": 0, \"ticks\": \"\"}}, \"type\": \"scattermapbox\"}], \"scatterpolar\": [{\"marker\": {\"colorbar\": {\"outlinewidth\": 0, \"ticks\": \"\"}}, \"type\": \"scatterpolar\"}], \"scatterpolargl\": [{\"marker\": {\"colorbar\": {\"outlinewidth\": 0, \"ticks\": \"\"}}, \"type\": \"scatterpolargl\"}], \"scatterternary\": [{\"marker\": {\"colorbar\": {\"outlinewidth\": 0, \"ticks\": \"\"}}, \"type\": \"scatterternary\"}], \"surface\": [{\"colorbar\": {\"outlinewidth\": 0, \"ticks\": \"\"}, \"colorscale\": [[0.0, \"#0d0887\"], [0.1111111111111111, \"#46039f\"], [0.2222222222222222, \"#7201a8\"], [0.3333333333333333, \"#9c179e\"], [0.4444444444444444, \"#bd3786\"], [0.5555555555555556, \"#d8576b\"], [0.6666666666666666, \"#ed7953\"], [0.7777777777777778, \"#fb9f3a\"], [0.8888888888888888, \"#fdca26\"], [1.0, \"#f0f921\"]], \"type\": \"surface\"}], \"table\": [{\"cells\": {\"fill\": {\"color\": \"#EBF0F8\"}, \"line\": {\"color\": \"white\"}}, \"header\": {\"fill\": {\"color\": \"#C8D4E3\"}, \"line\": {\"color\": \"white\"}}, \"type\": \"table\"}]}, \"layout\": {\"annotationdefaults\": {\"arrowcolor\": \"#2a3f5f\", \"arrowhead\": 0, \"arrowwidth\": 1}, \"colorscale\": {\"diverging\": [[0, \"#8e0152\"], [0.1, \"#c51b7d\"], [0.2, \"#de77ae\"], [0.3, \"#f1b6da\"], [0.4, \"#fde0ef\"], [0.5, \"#f7f7f7\"], [0.6, \"#e6f5d0\"], [0.7, \"#b8e186\"], [0.8, \"#7fbc41\"], [0.9, \"#4d9221\"], [1, \"#276419\"]], \"sequential\": [[0.0, \"#0d0887\"], [0.1111111111111111, \"#46039f\"], [0.2222222222222222, \"#7201a8\"], [0.3333333333333333, \"#9c179e\"], [0.4444444444444444, \"#bd3786\"], [0.5555555555555556, \"#d8576b\"], [0.6666666666666666, \"#ed7953\"], [0.7777777777777778, \"#fb9f3a\"], [0.8888888888888888, \"#fdca26\"], [1.0, \"#f0f921\"]], \"sequentialminus\": [[0.0, \"#0d0887\"], [0.1111111111111111, \"#46039f\"], [0.2222222222222222, \"#7201a8\"], [0.3333333333333333, \"#9c179e\"], [0.4444444444444444, \"#bd3786\"], [0.5555555555555556, \"#d8576b\"], [0.6666666666666666, \"#ed7953\"], [0.7777777777777778, \"#fb9f3a\"], [0.8888888888888888, \"#fdca26\"], [1.0, \"#f0f921\"]]}, \"colorway\": [\"#636efa\", \"#EF553B\", \"#00cc96\", \"#ab63fa\", \"#FFA15A\", \"#19d3f3\", \"#FF6692\", \"#B6E880\", \"#FF97FF\", \"#FECB52\"], \"font\": {\"color\": \"#2a3f5f\"}, \"geo\": {\"bgcolor\": \"white\", \"lakecolor\": \"white\", \"landcolor\": \"#E5ECF6\", \"showlakes\": true, \"showland\": true, \"subunitcolor\": \"white\"}, \"hoverlabel\": {\"align\": \"left\"}, \"hovermode\": \"closest\", \"mapbox\": {\"style\": \"light\"}, \"paper_bgcolor\": \"white\", \"plot_bgcolor\": \"#E5ECF6\", \"polar\": {\"angularaxis\": {\"gridcolor\": \"white\", \"linecolor\": \"white\", \"ticks\": \"\"}, \"bgcolor\": \"#E5ECF6\", \"radialaxis\": {\"gridcolor\": \"white\", \"linecolor\": \"white\", \"ticks\": \"\"}}, \"scene\": {\"xaxis\": {\"backgroundcolor\": \"#E5ECF6\", \"gridcolor\": \"white\", \"gridwidth\": 2, \"linecolor\": \"white\", \"showbackground\": true, \"ticks\": \"\", \"zerolinecolor\": \"white\"}, \"yaxis\": {\"backgroundcolor\": \"#E5ECF6\", \"gridcolor\": \"white\", \"gridwidth\": 2, \"linecolor\": \"white\", \"showbackground\": true, \"ticks\": \"\", \"zerolinecolor\": \"white\"}, \"zaxis\": {\"backgroundcolor\": \"#E5ECF6\", \"gridcolor\": \"white\", \"gridwidth\": 2, \"linecolor\": \"white\", \"showbackground\": true, \"ticks\": \"\", \"zerolinecolor\": \"white\"}}, \"shapedefaults\": {\"line\": {\"color\": \"#2a3f5f\"}}, \"ternary\": {\"aaxis\": {\"gridcolor\": \"white\", \"linecolor\": \"white\", \"ticks\": \"\"}, \"baxis\": {\"gridcolor\": \"white\", \"linecolor\": \"white\", \"ticks\": \"\"}, \"bgcolor\": \"#E5ECF6\", \"caxis\": {\"gridcolor\": \"white\", \"linecolor\": \"white\", \"ticks\": \"\"}}, \"title\": {\"x\": 0.05}, \"xaxis\": {\"automargin\": true, \"gridcolor\": \"white\", \"linecolor\": \"white\", \"ticks\": \"\", \"zerolinecolor\": \"white\", \"zerolinewidth\": 2}, \"yaxis\": {\"automargin\": true, \"gridcolor\": \"white\", \"linecolor\": \"white\", \"ticks\": \"\", \"zerolinecolor\": \"white\", \"zerolinewidth\": 2}}}},\n",
       "                        {\"responsive\": true}\n",
       "                    ).then(function(){\n",
       "                            \n",
       "var gd = document.getElementById('ec85f22c-c88a-4351-87ee-3e460724cf6d');\n",
       "var x = new MutationObserver(function (mutations, observer) {{\n",
       "        var display = window.getComputedStyle(gd).display;\n",
       "        if (!display || display === 'none') {{\n",
       "            console.log([gd, 'removed!']);\n",
       "            Plotly.purge(gd);\n",
       "            observer.disconnect();\n",
       "        }}\n",
       "}});\n",
       "\n",
       "// Listen for the removal of the full notebook cells\n",
       "var notebookContainer = gd.closest('#notebook-container');\n",
       "if (notebookContainer) {{\n",
       "    x.observe(notebookContainer, {childList: true});\n",
       "}}\n",
       "\n",
       "// Listen for the clearing of the current output cell\n",
       "var outputEl = gd.closest('.output');\n",
       "if (outputEl) {{\n",
       "    x.observe(outputEl, {childList: true});\n",
       "}}\n",
       "\n",
       "                        })\n",
       "                };\n",
       "                });\n",
       "            </script>\n",
       "        </div>"
      ]
     },
     "metadata": {},
     "output_type": "display_data"
    }
   ],
   "source": [
    "# Create 3D scatter plot to plot the clusters using the clustered_df DataFrame\n",
    "fig = px.scatter_3d(clustered_df, x= \"PC 1\", y=\"PC 2\",z=\"PC 3\",\n",
    "                    color=\"Class\", symbol=\"Class\", hover_name=\"CoinName\",\n",
    "                    hover_data=[\"Algorithm\"])\n",
    "fig.update_layout(legend = {\"x\":0,\"y\":1})\n",
    "fig.show()"
   ]
  },
  {
   "cell_type": "code",
   "execution_count": 98,
   "metadata": {},
   "outputs": [
    {
     "name": "stdout",
     "output_type": "stream",
     "text": [
      "Launching server at http://localhost:64261\n"
     ]
    }
   ],
   "source": [
    "# Create a hvplot table for all the current tradable cryptocurrencies\n",
    "obj_table = clustered_df.hvplot.table(columns = [\"CoinName\", \"Algorithm\", \n",
    "                                    \"ProofType\", \"TotalCoinSupply\", \n",
    "                                    \"TotalCoinsMined\", \"Class\"], width =500)\n",
    "\n",
    "hvplot.show(obj_table)"
   ]
  },
  {
   "cell_type": "code",
   "execution_count": 100,
   "metadata": {},
   "outputs": [
    {
     "data": {},
     "metadata": {},
     "output_type": "display_data"
    },
    {
     "data": {
      "application/vnd.holoviews_exec.v0+json": "",
      "text/html": [
       "<div id='2417'>\n",
       "\n",
       "\n",
       "\n",
       "\n",
       "\n",
       "  <div class=\"bk-root\" id=\"91cf40b4-587d-4d0e-b49c-af47eb80c5db\" data-root-id=\"2417\"></div>\n",
       "</div>\n",
       "<script type=\"application/javascript\">(function(root) {\n",
       "  function embed_document(root) {\n",
       "  var docs_json = {\"a074c37c-3455-41a3-bb7f-f650ad07c449\":{\"roots\":{\"references\":[{\"attributes\":{},\"id\":\"2518\",\"type\":\"Selection\"},{\"attributes\":{},\"id\":\"2458\",\"type\":\"BasicTickFormatter\"},{\"attributes\":{\"source\":{\"id\":\"2459\"}},\"id\":\"2466\",\"type\":\"CDSView\"},{\"attributes\":{\"source\":{\"id\":\"2496\"}},\"id\":\"2503\",\"type\":\"CDSView\"},{\"attributes\":{},\"id\":\"2493\",\"type\":\"UnionRenderers\"},{\"attributes\":{},\"id\":\"2444\",\"type\":\"WheelZoomTool\"},{\"attributes\":{\"data\":{\"Class\":[2,2,2,2],\"CoinName\":[\"Vechain\",\"Poa Network\",\"Acute Angle Cloud\",\"Waves\"],\"TotalCoinSupply\":{\"__ndarray__\":\"AABizHkwNEIAAAAAfhiuQQAAAABlzc1BAAAAAITXl0E=\",\"dtype\":\"float64\",\"order\":\"little\",\"shape\":[4]},\"TotalCoinsMined\":{\"__ndarray__\":\"AACgM7jSKUIAAAB+NGCoQQAAAABlzc1BAAAAAITXl0E=\",\"dtype\":\"float64\",\"order\":\"little\",\"shape\":[4]}},\"selected\":{\"id\":\"2497\"},\"selection_policy\":{\"id\":\"2514\"}},\"id\":\"2496\",\"type\":\"ColumnDataSource\"},{\"attributes\":{},\"id\":\"2478\",\"type\":\"Selection\"},{\"attributes\":{\"fill_alpha\":{\"value\":0.2},\"fill_color\":{\"value\":\"#1f77b3\"},\"line_alpha\":{\"value\":0.2},\"line_color\":{\"value\":\"#1f77b3\"},\"size\":{\"units\":\"screen\",\"value\":5.477225575051661},\"x\":{\"field\":\"TotalCoinsMined\"},\"y\":{\"field\":\"TotalCoinSupply\"}},\"id\":\"2464\",\"type\":\"Scatter\"},{\"attributes\":{\"fill_alpha\":{\"value\":0.1},\"fill_color\":{\"value\":\"#d62628\"},\"line_alpha\":{\"value\":0.1},\"line_color\":{\"value\":\"#d62628\"},\"size\":{\"units\":\"screen\",\"value\":5.477225575051661},\"x\":{\"field\":\"TotalCoinsMined\"},\"y\":{\"field\":\"TotalCoinSupply\"}},\"id\":\"2521\",\"type\":\"Scatter\"},{\"attributes\":{\"bottom_units\":\"screen\",\"fill_alpha\":0.5,\"fill_color\":\"lightgrey\",\"left_units\":\"screen\",\"level\":\"overlay\",\"line_alpha\":1.0,\"line_color\":\"black\",\"line_dash\":[4,4],\"line_width\":2,\"right_units\":\"screen\",\"top_units\":\"screen\"},\"id\":\"2447\",\"type\":\"BoxAnnotation\"},{\"attributes\":{},\"id\":\"2473\",\"type\":\"UnionRenderers\"},{\"attributes\":{\"label\":{\"value\":\"0\"},\"renderers\":[{\"id\":\"2465\"}]},\"id\":\"2476\",\"type\":\"LegendItem\"},{\"attributes\":{\"fill_color\":{\"value\":\"#ff7e0e\"},\"line_color\":{\"value\":\"#ff7e0e\"},\"size\":{\"units\":\"screen\",\"value\":5.477225575051661},\"x\":{\"field\":\"TotalCoinsMined\"},\"y\":{\"field\":\"TotalCoinSupply\"}},\"id\":\"2480\",\"type\":\"Scatter\"},{\"attributes\":{},\"id\":\"2537\",\"type\":\"UnionRenderers\"},{\"attributes\":{\"source\":{\"id\":\"2477\"}},\"id\":\"2484\",\"type\":\"CDSView\"},{\"attributes\":{},\"id\":\"2430\",\"type\":\"LinearScale\"},{\"attributes\":{\"children\":[{\"id\":\"2418\"},{\"id\":\"2425\"},{\"id\":\"2666\"}],\"margin\":[0,0,0,0],\"name\":\"Row04836\",\"tags\":[\"embedded\"]},\"id\":\"2417\",\"type\":\"Row\"},{\"attributes\":{\"data_source\":{\"id\":\"2459\"},\"glyph\":{\"id\":\"2462\"},\"hover_glyph\":null,\"muted_glyph\":{\"id\":\"2464\"},\"nonselection_glyph\":{\"id\":\"2463\"},\"selection_glyph\":null,\"view\":{\"id\":\"2466\"}},\"id\":\"2465\",\"type\":\"GlyphRenderer\"},{\"attributes\":{\"label\":{\"value\":\"2\"},\"renderers\":[{\"id\":\"2502\"}]},\"id\":\"2516\",\"type\":\"LegendItem\"},{\"attributes\":{},\"id\":\"2460\",\"type\":\"Selection\"},{\"attributes\":{\"callback\":null,\"renderers\":[{\"id\":\"2465\"},{\"id\":\"2483\"},{\"id\":\"2502\"},{\"id\":\"2523\"}],\"tags\":[\"hv_created\"],\"tooltips\":[[\"Class\",\"@{Class}\"],[\"TotalCoinsMined\",\"@{TotalCoinsMined}\"],[\"TotalCoinSupply\",\"@{TotalCoinSupply}\"],[\"CoinName\",\"@{CoinName}\"]]},\"id\":\"2421\",\"type\":\"HoverTool\"},{\"attributes\":{\"label\":{\"value\":\"3\"},\"renderers\":[{\"id\":\"2523\"}]},\"id\":\"2539\",\"type\":\"LegendItem\"},{\"attributes\":{\"fill_alpha\":{\"value\":0.1},\"fill_color\":{\"value\":\"#2ba02b\"},\"line_alpha\":{\"value\":0.1},\"line_color\":{\"value\":\"#2ba02b\"},\"size\":{\"units\":\"screen\",\"value\":5.477225575051661},\"x\":{\"field\":\"TotalCoinsMined\"},\"y\":{\"field\":\"TotalCoinSupply\"}},\"id\":\"2500\",\"type\":\"Scatter\"},{\"attributes\":{\"end\":1032670428767.6898,\"reset_end\":1032670428767.6898,\"reset_start\":-48599692876.008446,\"start\":-48599692876.008446,\"tags\":[[[\"TotalCoinsMined\",\"TotalCoinsMined\",null]]]},\"id\":\"2419\",\"type\":\"Range1d\"},{\"attributes\":{},\"id\":\"2432\",\"type\":\"LinearScale\"},{\"attributes\":{\"axis_label\":\"TotalCoinsMined\",\"bounds\":\"auto\",\"formatter\":{\"id\":\"2456\"},\"major_label_orientation\":\"horizontal\",\"ticker\":{\"id\":\"2435\"}},\"id\":\"2434\",\"type\":\"LinearAxis\"},{\"attributes\":{\"data\":{\"Class\":[1,1,1,1,1,1,1,1,1,1,1,1,1,1,1,1,1,1,1,1,1,1,1,1,1,1,1,1,1,1,1,1,1,1,1,1,1,1,1,1,1,1,1,1,1,1,1,1,1,1,1,1,1,1,1,1,1,1,1,1,1,1,1,1,1,1,1,1,1,1,1,1,1,1,1,1,1,1,1,1,1,1,1,1,1,1,1,1,1,1,1,1,1,1,1,1,1,1,1,1,1,1,1,1,1,1,1,1,1,1,1,1,1,1,1,1,1,1,1,1,1,1,1,1,1,1,1,1,1,1,1,1,1,1,1,1,1,1,1,1,1,1,1,1,1,1,1,1,1,1,1,1,1,1,1,1,1,1,1,1,1,1,1,1,1,1,1,1,1,1,1,1,1,1,1,1,1,1,1,1,1,1,1,1,1,1,1,1,1,1,1,1,1,1,1,1,1,1,1,1,1,1,1,1,1,1,1,1,1,1,1,1,1,1,1,1,1,1,1,1,1,1,1,1,1,1,1,1,1,1,1,1,1,1,1,1,1,1,1,1,1,1,1,1,1,1,1,1,1,1,1,1,1,1,1,1,1,1,1,1,1,1,1,1,1,1,1,1,1,1,1,1,1,1,1,1,1,1,1,1,1,1,1,1,1,1,1,1,1,1,1,1,1,1,1,1,1,1,1,1,1,1,1,1,1,1,1,1,1,1,1,1,1,1,1,1,1,1,1,1,1,1,1,1,1,1,1,1,1,1,1,1,1,1,1,1,1,1,1,1,1,1,1,1,1,1,1,1,1,1,1,1,1,1,1,1,1,1,1,1,1,1,1,1,1],\"CoinName\":[\"42 Coin\",\"404Coin\",\"808\",\"EliteCoin\",\"Dash\",\"Bitshares\",\"BitcoinDark\",\"Bitstake\",\"PayCoin\",\"KoboCoin\",\"Aero Coin\",\"ApexCoin\",\"ArchCoin\",\"Aurora Coin\",\"BlueCoin\",\"EnergyCoin\",\"BitBar\",\"CashCoin\",\"CryptoBullion\",\"CinderCoin\",\"CoolCoin\",\"CasinoCoin\",\"eMark\",\"Diamond\",\"DarkCash\",\"Exclusive Coin\",\"Fuel2Coin\",\"FIBRE\",\"FlutterCoin\",\"GlyphCoin\",\"Halcyon\",\"HoboNickels\",\"HyperStake\",\"IOCoin\",\"JumBucks Coin\",\"JudgeCoin\",\"LibrexCoin\",\"MaxCoin\",\"MintCoin\",\"MazaCoin\",\"Nautilus Coin\",\"NavCoin\",\"OpalCoin\",\"Orbitcoin\",\"PotCoin\",\"PhoenixCoin\",\"Reddcoin\",\"ShieldCoin\",\"SilkCoin\",\"SuperCoin\",\"SyncCoin\",\"TeslaCoin\",\"TittieCoin\",\"TorCoin\",\"UnitaryStatus Dollar\",\"UltraCoin\",\"Utility Coin\",\"VeriCoin\",\"SocialXbotCoin\",\"X11 Coin\",\"Crypti\",\"StealthCoin\",\"XXXCoin\",\"ZCC Coin\",\"BurstCoin\",\"StorjCoin\",\"Neutron\",\"KryptCoin\",\"FairCoin\",\"RubyCoin\",\"Kore\",\"Dnotes\",\"MaieutiCoin\",\"8BIT Coin\",\"Sativa Coin\",\"AeroMe\",\"MasterTraderCoin\",\"Ucoin\",\"MaryJane Coin\",\"CyberCoin\",\"Vtorrent\",\"ViorCoin\",\"IslaCoin\",\"Nexus\",\"Singular\",\"Droidz\",\"CryptoCircuits\",\"Squall Coin\",\"Milllionaire Coin\",\"Diggits\",\"MapCoin\",\"Paycon\",\"Emercoin\",\"BlitzCoin\",\"EverGreenCoin\",\"Decred\",\"EDRCoin\",\"Hitcoin\",\"DubaiCoin\",\"BiosCrypto\",\"PWR Coin\",\"TrumpCoin\",\"BillaryCoin\",\"EthereumScrypt\",\"GPU Coin\",\"Universal Currency\",\"EuropeCoin\",\"ZeitCoin\",\"SwingCoin\",\"SafeExchangeCoin\",\"Nebuchadnezzar\",\"GIZMOcoin\",\"SecretCoin\",\"Ratecoin\",\"Digital Bullion Gold\",\"Revenu\",\"Clockcoin\",\"VIP Tokens\",\"OrlyCoin\",\"BitSend\",\"16BitCoin\",\"ChessCoin\",\"ReeCoin\",\"Let it Ride\",\"PutinCoin\",\"iBankCoin\",\"Frankywillcoin\",\"MudraCoin\",\"Lutetium Coin\",\"GoldBlocks\",\"WayCoin\",\"CarterCoin\",\"BitTokens\",\"MustangCoin\",\"ZoneCoin\",\"RootCoin\",\"PROUD Money\",\"BitCurrency\",\"Swiscoin\",\"BuzzCoin\",\"Opair\",\"PesoBit\",\"Halloween Coin\",\"CoffeeCoin\",\"RoyalCoin\",\"GanjaCoin V2\",\"TeamUP\",\"LanaCoin\",\"ARK\",\"InsaneCoin\",\"LuckChain\",\"EmberCoin\",\"XenixCoin\",\"FreeCoin\",\"NPCcoin\",\"PLNCoin\",\"Icobid\",\"AquariusCoin\",\"Creatio\",\"Eternity\",\"Eurocoin\",\"BitcoinFast\",\"Stakenet\",\"BitConnect Coin\",\"MoneyCoin\",\"Enigma\",\"Russiacoin\",\"PandaCoin\",\"GameUnits\",\"GAKHcoin\",\"Allsafe\",\"LiteCreed\",\"NeptuneClassic\",\"GoldenBird\",\"Ride My Car\",\"Klingon Empire Darsek\",\"Internet of People\",\"KushCoin\",\"Eryllium\",\"Printerium\",\"Impeach\",\"Zilbercoin\",\"FirstCoin\",\"FindCoin\",\"OpenChat\",\"RenosCoin\",\"VirtacoinPlus\",\"TajCoin\",\"Impact\",\"Universe\",\"Atmos\",\"HappyCoin\",\"MacronCoin\",\"Condensate\",\"Independent Money System\",\"ArgusCoin\",\"LomoCoin\",\"ProCurrency\",\"GoldReserve\",\"GrowthCoin\",\"Phreak\",\"Degas Coin\",\"ZSEcoin\",\"HTML5 Coin\",\"Ultimate Secure Cash\",\"QTUM\",\"Espers\",\"Denarius\",\"Virta Unique Coin\",\"Bitcoin Planet\",\"BritCoin\",\"Octanox\",\"Linda\",\"DeepOnion\",\"Signatum\",\"Cream\",\"Monoeci\",\"Draftcoin\",\"Stakecoin\",\"CoinonatX\",\"Ethereum Dark\",\"Obsidian\",\"Cardano\",\"Regalcoin\",\"TrezarCoin\",\"TerraNovaCoin\",\"Rupee\",\"WomenCoin\",\"Theresa May Coin\",\"NamoCoin\",\"LUXCoin\",\"Xios\",\"Bitcloud 2.0\",\"KekCoin\",\"BlackholeCoin\",\"AltCommunity Coin\",\"Pure\",\"Rupaya\",\"Infinity Economics\",\"Castle\",\"Magnet\",\"Lamden Tau\",\"Electra\",\"Bitcoin Diamond\",\"Cash & Back Coin\",\"Bulwark\",\"Kalkulus\",\"GermanCoin\",\"LiteCoin Ultra\",\"PhantomX\",\"HTML Coin\",\"Fantasy Cash\",\"Digiwage\",\"Trollcoin\",\"Litecoin Plus\",\"Monkey Project\",\"OP Coin\",\"Valorbit\",\"TokenPay\",\"My Big Coin\",\"Unified Society USDEX\",\"Tokyo Coin\",\"Stipend\",\"Pushi\",\"Ellerium\",\"Velox\",\"Ontology\",\"Bitspace\",\"Briacoin\",\"Ignition\",\"MedicCoin\",\"Zelcash\",\"Bitcoin Green\",\"Deviant Coin\",\"Abjcoin\",\"Profit Hunters Coin\",\"Semux\",\"BitBlocks\",\"Carebit\",\"Zealium\",\"Proton\",\"iDealCash\",\"Bitcoin Incognito\",\"HollyWoodCoin\",\"Swisscoin\",\"Xt3ch\",\"TheVig\",\"EmaratCoin\",\"Dekado\",\"Lynx\",\"Poseidon Quark\",\"BitcoinWSpectrum\",\"Muse\",\"Trivechain\",\"Dystem\",\"Giant\",\"Peony Coin\",\"SafeCoin\",\"Absolute Coin\",\"Vitae\",\"TPCash\",\"MUSDcoin\",\"ARENON\",\"EUNO\",\"MMOCoin\",\"Ketan\",\"Safe Trade Coin\",\"Mont Blanc\",\"XDNA\",\"PAXEX\",\"Apollon\",\"ThunderStake\",\"Kcash\",\"Traid\",\"Bettex coin\",\"BitMoney\",\"Junson Ming Chan Coin\",\"Zenad\",\"HerbCoin\",\"Oduwa\",\"Galilel\",\"Crypto Sports\",\"Credit\",\"Dash Platinum\",\"Nasdacoin\",\"Beetle Coin\",\"Titan Coin\",\"Award\",\"Insane Coin\",\"ALAX\",\"The Freedom Coin\",\"LiteDoge\",\"TruckCoin\",\"Ascension Coin\",\"OrangeCoin\",\"BitstarCoin\",\"NeosCoin\",\"HyperCoin\",\"PinkCoin\",\"AudioCoin\",\"IncaKoin\",\"Piggy Coin\",\"Genstake\",\"ParkByte\",\"XiaoMiCoin\",\"CapriCoin\",\" ClubCoin\",\"Radium\",\"Creditbit \",\"OKCash\",\"Lisk\",\"HiCoin\",\"WhiteCoin\",\"FriendshipCoin\",\"The Hempcoin\",\"Triangles Coin\",\"EOS\",\"Oxycoin\",\"TigerCash\",\"Particl\",\"BitTorrent\",\"Nxt\",\"ZEPHYR\",\"Gapcoin\",\"BitcoinPlus\"],\"TotalCoinSupply\":{\"__ndarray__\":\"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\",\"dtype\":\"float64\",\"order\":\"little\",\"shape\":[365]},\"TotalCoinsMined\":{\"__ndarray__\":\"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\",\"dtype\":\"float64\",\"order\":\"little\",\"shape\":[365]}},\"selected\":{\"id\":\"2478\"},\"selection_policy\":{\"id\":\"2493\"}},\"id\":\"2477\",\"type\":\"ColumnDataSource\"},{\"attributes\":{},\"id\":\"2442\",\"type\":\"SaveTool\"},{\"attributes\":{},\"id\":\"2435\",\"type\":\"BasicTicker\"},{\"attributes\":{\"fill_alpha\":{\"value\":0.2},\"fill_color\":{\"value\":\"#2ba02b\"},\"line_alpha\":{\"value\":0.2},\"line_color\":{\"value\":\"#2ba02b\"},\"size\":{\"units\":\"screen\",\"value\":5.477225575051661},\"x\":{\"field\":\"TotalCoinsMined\"},\"y\":{\"field\":\"TotalCoinSupply\"}},\"id\":\"2501\",\"type\":\"Scatter\"},{\"attributes\":{\"fill_color\":{\"value\":\"#1f77b3\"},\"line_color\":{\"value\":\"#1f77b3\"},\"size\":{\"units\":\"screen\",\"value\":5.477225575051661},\"x\":{\"field\":\"TotalCoinsMined\"},\"y\":{\"field\":\"TotalCoinSupply\"}},\"id\":\"2462\",\"type\":\"Scatter\"},{\"attributes\":{\"fill_alpha\":{\"value\":0.1},\"fill_color\":{\"value\":\"#ff7e0e\"},\"line_alpha\":{\"value\":0.1},\"line_color\":{\"value\":\"#ff7e0e\"},\"size\":{\"units\":\"screen\",\"value\":5.477225575051661},\"x\":{\"field\":\"TotalCoinsMined\"},\"y\":{\"field\":\"TotalCoinSupply\"}},\"id\":\"2481\",\"type\":\"Scatter\"},{\"attributes\":{\"fill_color\":{\"value\":\"#d62628\"},\"line_color\":{\"value\":\"#d62628\"},\"size\":{\"units\":\"screen\",\"value\":5.477225575051661},\"x\":{\"field\":\"TotalCoinsMined\"},\"y\":{\"field\":\"TotalCoinSupply\"}},\"id\":\"2520\",\"type\":\"Scatter\"},{\"attributes\":{\"click_policy\":\"mute\",\"items\":[{\"id\":\"2476\"},{\"id\":\"2495\"},{\"id\":\"2516\"},{\"id\":\"2539\"}],\"location\":[0,0],\"title\":\"Class\"},\"id\":\"2475\",\"type\":\"Legend\"},{\"attributes\":{\"axis\":{\"id\":\"2434\"},\"grid_line_color\":null,\"ticker\":null},\"id\":\"2437\",\"type\":\"Grid\"},{\"attributes\":{\"fill_alpha\":{\"value\":0.1},\"fill_color\":{\"value\":\"#1f77b3\"},\"line_alpha\":{\"value\":0.1},\"line_color\":{\"value\":\"#1f77b3\"},\"size\":{\"units\":\"screen\",\"value\":5.477225575051661},\"x\":{\"field\":\"TotalCoinsMined\"},\"y\":{\"field\":\"TotalCoinSupply\"}},\"id\":\"2463\",\"type\":\"Scatter\"},{\"attributes\":{\"active_drag\":\"auto\",\"active_inspect\":\"auto\",\"active_multi\":null,\"active_scroll\":\"auto\",\"active_tap\":\"auto\",\"tools\":[{\"id\":\"2421\"},{\"id\":\"2442\"},{\"id\":\"2443\"},{\"id\":\"2444\"},{\"id\":\"2445\"},{\"id\":\"2446\"}]},\"id\":\"2448\",\"type\":\"Toolbar\"},{\"attributes\":{},\"id\":\"2439\",\"type\":\"BasicTicker\"},{\"attributes\":{\"align\":null,\"below\":[{\"id\":\"2434\"}],\"center\":[{\"id\":\"2437\"},{\"id\":\"2441\"}],\"left\":[{\"id\":\"2438\"}],\"margin\":null,\"min_border_bottom\":10,\"min_border_left\":10,\"min_border_right\":10,\"min_border_top\":10,\"plot_height\":300,\"plot_width\":700,\"renderers\":[{\"id\":\"2465\"},{\"id\":\"2483\"},{\"id\":\"2502\"},{\"id\":\"2523\"}],\"right\":[{\"id\":\"2475\"}],\"sizing_mode\":\"fixed\",\"title\":{\"id\":\"2426\"},\"toolbar\":{\"id\":\"2448\"},\"x_range\":{\"id\":\"2419\"},\"x_scale\":{\"id\":\"2430\"},\"y_range\":{\"id\":\"2420\"},\"y_scale\":{\"id\":\"2432\"}},\"id\":\"2425\",\"subtype\":\"Figure\",\"type\":\"Plot\"},{\"attributes\":{\"axis_label\":\"TotalCoinSupply\",\"bounds\":\"auto\",\"formatter\":{\"id\":\"2458\"},\"major_label_orientation\":\"horizontal\",\"ticker\":{\"id\":\"2439\"}},\"id\":\"2438\",\"type\":\"LinearAxis\"},{\"attributes\":{\"data_source\":{\"id\":\"2477\"},\"glyph\":{\"id\":\"2480\"},\"hover_glyph\":null,\"muted_glyph\":{\"id\":\"2482\"},\"nonselection_glyph\":{\"id\":\"2481\"},\"selection_glyph\":null,\"view\":{\"id\":\"2484\"}},\"id\":\"2483\",\"type\":\"GlyphRenderer\"},{\"attributes\":{\"source\":{\"id\":\"2517\"}},\"id\":\"2524\",\"type\":\"CDSView\"},{\"attributes\":{},\"id\":\"2514\",\"type\":\"UnionRenderers\"},{\"attributes\":{\"text\":\"\",\"text_color\":{\"value\":\"black\"},\"text_font_size\":{\"value\":\"12pt\"}},\"id\":\"2426\",\"type\":\"Title\"},{\"attributes\":{\"data_source\":{\"id\":\"2496\"},\"glyph\":{\"id\":\"2499\"},\"hover_glyph\":null,\"muted_glyph\":{\"id\":\"2501\"},\"nonselection_glyph\":{\"id\":\"2500\"},\"selection_glyph\":null,\"view\":{\"id\":\"2503\"}},\"id\":\"2502\",\"type\":\"GlyphRenderer\"},{\"attributes\":{\"label\":{\"value\":\"1\"},\"renderers\":[{\"id\":\"2483\"}]},\"id\":\"2495\",\"type\":\"LegendItem\"},{\"attributes\":{\"fill_alpha\":{\"value\":0.2},\"fill_color\":{\"value\":\"#d62628\"},\"line_alpha\":{\"value\":0.2},\"line_color\":{\"value\":\"#d62628\"},\"size\":{\"units\":\"screen\",\"value\":5.477225575051661},\"x\":{\"field\":\"TotalCoinsMined\"},\"y\":{\"field\":\"TotalCoinSupply\"}},\"id\":\"2522\",\"type\":\"Scatter\"},{\"attributes\":{\"axis\":{\"id\":\"2438\"},\"dimension\":1,\"grid_line_color\":null,\"ticker\":null},\"id\":\"2441\",\"type\":\"Grid\"},{\"attributes\":{},\"id\":\"2446\",\"type\":\"ResetTool\"},{\"attributes\":{\"data\":{\"Class\":[3,3],\"CoinName\":[\"BiblePay\",\"LitecoinCash\"],\"TotalCoinSupply\":{\"__ndarray__\":\"AAAAQBtf80EAAAAAsQjJQQ==\",\"dtype\":\"float64\",\"order\":\"little\",\"shape\":[2]},\"TotalCoinsMined\":{\"__ndarray__\":\"8dd4J/5n2kGWsBp+eAbDQQ==\",\"dtype\":\"float64\",\"order\":\"little\",\"shape\":[2]}},\"selected\":{\"id\":\"2518\"},\"selection_policy\":{\"id\":\"2537\"}},\"id\":\"2517\",\"type\":\"ColumnDataSource\"},{\"attributes\":{\"margin\":[5,5,5,5],\"name\":\"HSpacer04841\",\"sizing_mode\":\"stretch_width\"},\"id\":\"2666\",\"type\":\"Spacer\"},{\"attributes\":{},\"id\":\"2443\",\"type\":\"PanTool\"},{\"attributes\":{\"fill_alpha\":{\"value\":0.2},\"fill_color\":{\"value\":\"#ff7e0e\"},\"line_alpha\":{\"value\":0.2},\"line_color\":{\"value\":\"#ff7e0e\"},\"size\":{\"units\":\"screen\",\"value\":5.477225575051661},\"x\":{\"field\":\"TotalCoinsMined\"},\"y\":{\"field\":\"TotalCoinSupply\"}},\"id\":\"2482\",\"type\":\"Scatter\"},{\"attributes\":{\"end\":1.01457092e+17,\"reset_end\":1.01457092e+17,\"reset_start\":-9223372000000000.0,\"start\":-9223372000000000.0,\"tags\":[[[\"TotalCoinSupply\",\"TotalCoinSupply\",null]]]},\"id\":\"2420\",\"type\":\"Range1d\"},{\"attributes\":{\"overlay\":{\"id\":\"2447\"}},\"id\":\"2445\",\"type\":\"BoxZoomTool\"},{\"attributes\":{},\"id\":\"2497\",\"type\":\"Selection\"},{\"attributes\":{\"data_source\":{\"id\":\"2517\"},\"glyph\":{\"id\":\"2520\"},\"hover_glyph\":null,\"muted_glyph\":{\"id\":\"2522\"},\"nonselection_glyph\":{\"id\":\"2521\"},\"selection_glyph\":null,\"view\":{\"id\":\"2524\"}},\"id\":\"2523\",\"type\":\"GlyphRenderer\"},{\"attributes\":{},\"id\":\"2456\",\"type\":\"BasicTickFormatter\"},{\"attributes\":{\"fill_color\":{\"value\":\"#2ba02b\"},\"line_color\":{\"value\":\"#2ba02b\"},\"size\":{\"units\":\"screen\",\"value\":5.477225575051661},\"x\":{\"field\":\"TotalCoinsMined\"},\"y\":{\"field\":\"TotalCoinSupply\"}},\"id\":\"2499\",\"type\":\"Scatter\"},{\"attributes\":{\"margin\":[5,5,5,5],\"name\":\"HSpacer04840\",\"sizing_mode\":\"stretch_width\"},\"id\":\"2418\",\"type\":\"Spacer\"},{\"attributes\":{\"data\":{\"Class\":[0,0,0,0,0,0,0,0,0,0,0,0,0,0,0,0,0,0,0,0,0,0,0,0,0,0,0,0,0,0,0,0,0,0,0,0,0,0,0,0,0,0,0,0,0,0,0,0,0,0,0,0,0,0,0,0,0,0,0,0,0,0,0,0,0,0,0,0,0,0,0,0,0,0,0,0,0,0,0,0,0,0,0,0,0,0,0,0,0,0,0,0,0,0,0,0,0,0,0,0,0,0,0,0,0,0,0,0,0,0,0,0,0,0,0,0,0,0,0,0,0,0,0,0,0,0,0,0,0,0,0,0,0,0,0,0,0,0,0,0,0,0,0,0,0,0,0,0,0,0,0,0,0,0,0,0,0,0,0,0,0,0,0,0,0,0,0,0,0,0,0,0,0,0,0,0,0,0,0,0,0,0,0,0,0,0,0,0,0,0,0,0,0,0,0,0,0,0,0,0,0,0,0,0,0,0,0,0,0,0,0,0,0,0,0,0,0,0,0,0,0,0,0,0,0,0,0,0,0,0,0,0,0,0,0,0,0,0,0,0,0,0,0,0,0,0,0,0,0,0,0,0,0,0,0,0,0,0,0,0,0,0,0,0,0,0,0,0,0,0,0,0,0,0,0,0,0,0,0,0,0,0,0,0,0,0,0,0,0,0,0,0,0,0,0,0,0,0,0,0,0,0,0,0,0,0,0,0,0,0,0,0,0,0],\"CoinName\":[\"Bitcoin\",\"Ethereum\",\"Litecoin\",\"Monero\",\"Ethereum Classic\",\"ZCash\",\"DigiByte\",\"ProsperCoin\",\"Spreadcoin\",\"ACoin\",\"Argentum\",\"BetaCoin\",\"MyriadCoin\",\"MoonCoin\",\"ZetaCoin\",\"SexCoin\",\"Quatloo\",\"QuarkCoin\",\"Riecoin\",\"Digitalcoin \",\"LimeCoinX\",\"BitMark\",\"Catcoin\",\"CannaCoin\",\"CryptCoin\",\"Verge\",\"DarkShibe\",\"DevCoin\",\"EarthCoin\",\"E-Gulden\",\"Elacoin\",\"Einsteinium\",\"Emerald\",\"Flappy Coin\",\"FireRoosterCoin\",\"Franko\",\"FeatherCoin\",\"GrandCoin\",\"GlobalCoin\",\"GoldCoin\",\"HunterCoin\",\"Infinite Coin\",\"IXcoin\",\"KrugerCoin\",\"LuckyCoin\",\"Litebar \",\"LitecoinDark\",\"MegaCoin\",\"MediterraneanCoin\",\"MinCoin\",\"NoirBits\",\"NobleCoin\",\"Namecoin\",\"NyanCoin\",\"RipOffCoin\",\"RonPaulCoin\",\"StableCoin\",\"SmartCoin\",\"SpainCoin\",\"SecureCoin\",\"SysCoin\",\"TigerCoin\",\"TerraCoin\",\"Umbrella\",\"UnbreakableCoin\",\"Unobtanium\",\"UroCoin\",\"ViaCoin\",\"VootCoin\",\"Vertcoin\",\"WorldCoin\",\"JouleCoin\",\"ByteCoin\",\"DigitalNote \",\"MonaCoin\",\"Sling Coin\",\"Gulden\",\"PesetaCoin\",\"Wild Beast Coin\",\"Flo\",\"ArtByte\",\"BitCredit\",\"Folding Coin\",\"Unitus\",\"CypherPunkCoin\",\"OmniCron\",\"GreenCoin\",\"Unattanium\",\"Cryptonite\",\"Gridmaster\",\"ConSpiracy Coin \",\"MasterCoin\",\"SoonCoin\",\"1Credit\",\"Quicksilver coin\",\"MarsCoin \",\"Crypto\",\"Anarchists Prime\",\"BowsCoin\",\"Song Coin\",\"BitZeny\",\"Expanse\",\"Siacoin\",\"MindCoin\",\"I0coin\",\"DogeCoinDark\",\"Revolution VR\",\"HOdlcoin\",\"Gamecredits\",\"Dashcoin\",\"CarpeDiemCoin\",\"Phalanx\",\"SunShotCoin\",\"HempCoin\",\"Adzcoin\",\"VirtaCoin\",\"SoilCoin\",\"YoCoin\",\"AEON\",\"SibCoin\",\"Anti Bitcoin\",\"Francs\",\"BolivarCoin\",\"Clinton\",\"Omni\",\"PizzaCoin\",\"Komodo\",\"Karbo\",\"ZayedCoin\",\"Circuits of Value\",\"DopeCoin\",\"DollarCoin\",\"Shilling\",\"GBR Coin\",\"FujiCoin\",\"ZCoin\",\"LeaCoin\",\"Zurcoin\",\"Elementrem\",\"CashOut\",\"ZClassic\",\"KiloCoin\",\"Hush\",\"ArtexCoin\",\"Kurrent\",\"Cannabis Industry Coin\",\"OsmiumCoin\",\"Bikercoins\",\"HexxCoin\",\"MarxCoin\",\"PacCoin\",\"Solarflarecoin\",\"Citadel\",\"CreativeChain\",\"BeaverCoin\",\"VaultCoin\",\"Zero\",\"Canada eCoin\",\"Zoin\",\"Musicoin\",\"BnrtxCoin\",\"DubaiCoin\",\"EB3coin\",\"Coinonat\",\"Bitcoin Scrypt\",\"BenjiRolls\",\"ParallelCoin\",\"ILCoin\",\"EquiTrader\",\"Quantum Resistant Ledger\",\"Dynamic\",\"Nano\",\"ChanCoin\",\"Dinastycoin\",\"DigitalPrice\",\"Unify\",\"SocialCoin\",\"ArcticCoin\",\"DAS\",\"LeviarCoin\",\"Bitcore\",\"gCn Coin\",\"SmartCash\",\"Onix\",\"Bitcoin Cash\",\"CampusCoin\",\"Sojourn Coin\",\"NewYorkCoin\",\"LiteBitcoin\",\"FrazCoin\",\"Kronecoin\",\"AdCoin\",\"Linx\",\"Sumokoin\",\"BitcoinZ\",\"Elements\",\"VIVO Coin\",\"Bitcoin Gold\",\"Pirl\",\"eBoost\",\"Pura\",\"Innova\",\"Bitdeal\",\"Ellaism\",\"Sakuracoin\",\"GoByte\",\"SHIELD\",\"UltraNote\",\"BitCoal\",\"DaxxCoin\",\"AC3\",\"CHIPS\",\"Lethean\",\"PopularCoin\",\"Photon\",\"Sucre\",\"SparksPay\",\"GunCoin\",\"IrishCoin\",\"Pioneer Coin\",\"UnitedBitcoin\",\"Interzone\",\"1717 Masonic Commemorative Token\",\"TurtleCoin\",\"MUNcoin\",\"Niobio Cash\",\"Bitcoin Private\",\"Skeincoin\",\"ShareChain\",\"Travelflex\",\"KREDS\",\"BitFlip\",\"LottoCoin\",\"LeafCoin\",\"Cerberus\",\"Bitcoin Hush\",\"Crypto Improvement Fund\",\"Callisto Network\",\"Curium\",\"BitTube\",\"Dinero\",\"Poseidon\",\"Aidos Kuneen\",\"Snowgem\",\"Bitrolium\",\"Bitcoin Interest\",\"Alpenschillling\",\"FuturoCoin\",\"Monero Classic\",\"Jumpcoin\",\"Infinex\",\"KEYCO\",\"GINcoin\",\"PlatinCoin\",\"Loki\",\"Newton Coin\",\"MassGrid\",\"PluraCoin\",\"Motion\",\"PlusOneCoin\",\"Axe\",\"HexCoin\",\"Webchain\",\"Ryo\",\"Urals Coin\",\"Qwertycoin\",\"NIX\",\"Project Pai\",\"Azart\",\"Xchange\",\"CrypticCoin\",\"ZestCoin\",\"X-CASH\",\"Actinium\",\"ETHER-1\",\"Bitcoin SV\",\"Bitcoiin2Gen\",\"FREDEnergy\",\"C25 Coin\",\"Aquachain\",\"Universal Molecule\",\"Lithium\",\"Smart Bitcoin\",\"PirateCash\",\"Exosis\",\"Block-Logic\",\"Beam\",\"Bithereum\",\"SLICE\",\"Vidulum\",\"BlockStamp\",\"BLAST\",\"Bitcoin Rhodium\",\"GlobalToken\",\"Boolberry\",\"SolarCoin\",\"UFO Coin\",\"BlakeCoin\",\"FantomCoin \",\"Crypto Escudo\",\"Crown Coin\",\"Quazar Coin\",\"SmileyCoin\",\"Groestlcoin\",\"Bata\",\"Pakcoin\",\"Dotcoin\",\"Fiii\",\"JoinCoin\",\"Vollar\",\"Reality Clash\",\"iOlite\",\"Beldex\",\"Horizen\"],\"TotalCoinSupply\":{\"__ndarray__\":\"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\",\"dtype\":\"float64\",\"order\":\"little\",\"shape\":[314]},\"TotalCoinsMined\":{\"__ndarray__\":\"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\",\"dtype\":\"float64\",\"order\":\"little\",\"shape\":[314]}},\"selected\":{\"id\":\"2460\"},\"selection_policy\":{\"id\":\"2473\"}},\"id\":\"2459\",\"type\":\"ColumnDataSource\"}],\"root_ids\":[\"2417\"]},\"title\":\"Bokeh Application\",\"version\":\"2.1.1\"}};\n",
       "  var render_items = [{\"docid\":\"a074c37c-3455-41a3-bb7f-f650ad07c449\",\"root_ids\":[\"2417\"],\"roots\":{\"2417\":\"91cf40b4-587d-4d0e-b49c-af47eb80c5db\"}}];\n",
       "  root.Bokeh.embed.embed_items_notebook(docs_json, render_items);\n",
       "  }\n",
       "if (root.Bokeh !== undefined) {\n",
       "    embed_document(root);\n",
       "  } else {\n",
       "    var attempts = 0;\n",
       "    var timer = setInterval(function(root) {\n",
       "      if (root.Bokeh !== undefined) {\n",
       "        clearInterval(timer);\n",
       "        embed_document(root);\n",
       "      } else if (document.readyState == \"complete\") {\n",
       "        attempts++;\n",
       "        if (attempts > 100) {\n",
       "          clearInterval(timer);\n",
       "          console.log(\"Bokeh: ERROR: Unable to run BokehJS code because BokehJS library is missing\");\n",
       "        }\n",
       "      }\n",
       "    }, 10, root)\n",
       "  }\n",
       "})(window);</script>"
      ],
      "text/plain": [
       ":NdOverlay   [Class]\n",
       "   :Scatter   [TotalCoinsMined]   (TotalCoinSupply,CoinName)"
      ]
     },
     "execution_count": 100,
     "metadata": {
      "application/vnd.holoviews_exec.v0+json": {
       "id": "2417"
      }
     },
     "output_type": "execute_result"
    }
   ],
   "source": [
    "# Create a scatter plot to present the clustered data about cryptocurrencies \n",
    "clustered_df.hvplot.scatter(x=\"TotalCoinsMined\", y=\"TotalCoinSupply\",\n",
    "                                by = \"Class\", hover_cols = [\"CoinName\"])"
   ]
  }
 ],
 "metadata": {
  "kernelspec": {
   "display_name": "mlenv",
   "language": "python",
   "name": "mlenv"
  },
  "language_info": {
   "codemirror_mode": {
    "name": "ipython",
    "version": 3
   },
   "file_extension": ".py",
   "mimetype": "text/x-python",
   "name": "python",
   "nbconvert_exporter": "python",
   "pygments_lexer": "ipython3",
   "version": "3.7.7"
  }
 },
 "nbformat": 4,
 "nbformat_minor": 4
}
